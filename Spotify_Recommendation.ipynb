{
 "cells": [
  {
   "cell_type": "markdown",
   "metadata": {},
   "source": [
    "# <center> Music Recommender System"
   ]
  },
  {
   "cell_type": "markdown",
   "metadata": {},
   "source": [
    "We draw inspiration from Spotify's \"Discover Weekly\" service and aim to recommend a list of songs to each user according to his preference."
   ]
  },
  {
   "cell_type": "code",
   "execution_count": 52,
   "metadata": {},
   "outputs": [],
   "source": [
    "%matplotlib inline\n",
    "import numpy as np\n",
    "import matplotlib.pyplot as plt\n",
    "from copy import copy, deepcopy\n",
    "import random\n",
    "from scipy.stats import norm\n",
    "import pandas as pd\n",
    "from sklearn.preprocessing import MinMaxScaler\n",
    "import time\n",
    "import tensorflow as tf"
   ]
  },
  {
   "cell_type": "markdown",
   "metadata": {},
   "source": [
    "## Import Data "
   ]
  },
  {
   "cell_type": "code",
   "execution_count": 53,
   "metadata": {},
   "outputs": [
    {
     "data": {
      "text/html": [
       "<div>\n",
       "<style scoped>\n",
       "    .dataframe tbody tr th:only-of-type {\n",
       "        vertical-align: middle;\n",
       "    }\n",
       "\n",
       "    .dataframe tbody tr th {\n",
       "        vertical-align: top;\n",
       "    }\n",
       "\n",
       "    .dataframe thead th {\n",
       "        text-align: right;\n",
       "    }\n",
       "</style>\n",
       "<table border=\"1\" class=\"dataframe\">\n",
       "  <thead>\n",
       "    <tr style=\"text-align: right;\">\n",
       "      <th></th>\n",
       "      <th>user_id</th>\n",
       "      <th>item_id</th>\n",
       "      <th>listening_time_in_scale_0-5</th>\n",
       "      <th>title</th>\n",
       "      <th>duration</th>\n",
       "      <th>loudness</th>\n",
       "      <th>tempo</th>\n",
       "      <th>key</th>\n",
       "      <th>event_type</th>\n",
       "    </tr>\n",
       "  </thead>\n",
       "  <tbody>\n",
       "    <tr>\n",
       "      <th>0</th>\n",
       "      <td>196</td>\n",
       "      <td>242</td>\n",
       "      <td>4.06</td>\n",
       "      <td>Atmosphere Station</td>\n",
       "      <td>191.81669</td>\n",
       "      <td>-38.525</td>\n",
       "      <td>90.084</td>\n",
       "      <td>9</td>\n",
       "      <td>\"Listen it frequently\"\"View Song Information\"\"...</td>\n",
       "    </tr>\n",
       "    <tr>\n",
       "      <th>1</th>\n",
       "      <td>63</td>\n",
       "      <td>242</td>\n",
       "      <td>3.24</td>\n",
       "      <td>Atmosphere Station</td>\n",
       "      <td>191.81669</td>\n",
       "      <td>-38.525</td>\n",
       "      <td>90.084</td>\n",
       "      <td>9</td>\n",
       "      <td>\"Listen it frequently\"\"Like\"\"View Song Informa...</td>\n",
       "    </tr>\n",
       "    <tr>\n",
       "      <th>2</th>\n",
       "      <td>226</td>\n",
       "      <td>242</td>\n",
       "      <td>3.59</td>\n",
       "      <td>Atmosphere Station</td>\n",
       "      <td>191.81669</td>\n",
       "      <td>-38.525</td>\n",
       "      <td>90.084</td>\n",
       "      <td>9</td>\n",
       "      <td>\"Listen it frequently\"\"Add it to your music\"</td>\n",
       "    </tr>\n",
       "    <tr>\n",
       "      <th>3</th>\n",
       "      <td>154</td>\n",
       "      <td>242</td>\n",
       "      <td>4.34</td>\n",
       "      <td>Atmosphere Station</td>\n",
       "      <td>191.81669</td>\n",
       "      <td>-38.525</td>\n",
       "      <td>90.084</td>\n",
       "      <td>9</td>\n",
       "      <td>\"Listen it frequently\"\"Like\"\"View Song Informa...</td>\n",
       "    </tr>\n",
       "    <tr>\n",
       "      <th>4</th>\n",
       "      <td>306</td>\n",
       "      <td>242</td>\n",
       "      <td>4.12</td>\n",
       "      <td>Atmosphere Station</td>\n",
       "      <td>191.81669</td>\n",
       "      <td>-38.525</td>\n",
       "      <td>90.084</td>\n",
       "      <td>9</td>\n",
       "      <td>\"Have listened  it completely\"\"Like\"\"View Song...</td>\n",
       "    </tr>\n",
       "  </tbody>\n",
       "</table>\n",
       "</div>"
      ],
      "text/plain": [
       "   user_id  item_id  listening_time_in_scale_0-5               title  \\\n",
       "0      196      242                         4.06  Atmosphere Station   \n",
       "1       63      242                         3.24  Atmosphere Station   \n",
       "2      226      242                         3.59  Atmosphere Station   \n",
       "3      154      242                         4.34  Atmosphere Station   \n",
       "4      306      242                         4.12  Atmosphere Station   \n",
       "\n",
       "    duration  loudness   tempo  key  \\\n",
       "0  191.81669   -38.525  90.084    9   \n",
       "1  191.81669   -38.525  90.084    9   \n",
       "2  191.81669   -38.525  90.084    9   \n",
       "3  191.81669   -38.525  90.084    9   \n",
       "4  191.81669   -38.525  90.084    9   \n",
       "\n",
       "                                          event_type  \n",
       "0  \"Listen it frequently\"\"View Song Information\"\"...  \n",
       "1  \"Listen it frequently\"\"Like\"\"View Song Informa...  \n",
       "2       \"Listen it frequently\"\"Add it to your music\"  \n",
       "3  \"Listen it frequently\"\"Like\"\"View Song Informa...  \n",
       "4  \"Have listened  it completely\"\"Like\"\"View Song...  "
      ]
     },
     "execution_count": 53,
     "metadata": {},
     "output_type": "execute_result"
    }
   ],
   "source": [
    "df = pd.read_csv(\"song_data.csv\")\n",
    "df.head()"
   ]
  },
  {
   "cell_type": "code",
   "execution_count": 54,
   "metadata": {},
   "outputs": [
    {
     "data": {
      "text/plain": [
       "\"Listen it frequently\"\"Like\"\"View Song Information\"                                            2955\n",
       "\"Skip it\"\"Not recommend it anymore\"                                                            2915\n",
       "\"Listen it frequently\"\"Download\"                                                               2878\n",
       "\"Listen it frequently\"\"View Song Information\"\"Download\"                                        2874\n",
       "\"Have listened  it completely\"\"Like\"\"Add it to your music\"                                     2851\n",
       "\"Have listened  it completely\"\"Like\"\"Add it to your music\"\"Download\"                           2847\n",
       "\"Listen it frequently\"\"Like\"\"Download\"                                                         2842\n",
       "\"Listen it frequently\"\"Add it to your music\"                                                   2823\n",
       "\"Listen it frequently\"                                                                         2822\n",
       "\"Listen it frequently\"\"Like\"\"View Song Information\"\"Add it to your music\"                      2815\n",
       "\"Listen it frequently\"\"View Song Information\"\"Add it to your music\"                            2811\n",
       "\"Skip it frequently\"\"Not recommend it anymore\"                                                 2810\n",
       "\"Listen it frequently\"\"Like\"\"View Song Information\"\"Download\"                                  2798\n",
       "\"Have listened  it completely\"\"Like\"\"View Song Information\"\"Download\"                          2797\n",
       "\"Have listened  it completely\"\"Like\"\"Download\"                                                 2791\n",
       "\"Listen it frequently\"\"Add it to your music\"\"Download\"                                         2789\n",
       "\"Listen it frequently\"\"View Song Information\"\"Add it to your music\"\"Download\"                  2770\n",
       "\"Skip it frequently\"                                                                           2769\n",
       "\"Skip it\"                                                                                      2761\n",
       "\"Listen it frequently\"\"Like\"\"Add it to your music\"\"Download\"                                   2761\n",
       "\"Have listened  it completely\"                                                                 2760\n",
       "\"Listen it frequently\"\"View Song Information\"                                                  2757\n",
       "\"Have listened  it completely\"\"Like\"\"View Song Information\"\"Add it to your music\"\"Download\"    2750\n",
       "\"Have listened  it completely\"\"Download\"                                                       2740\n",
       "\"Have listened  it completely\"\"Like\"\"View Song Information\"\"Add it to your music\"              2739\n",
       "\"Have listened  it completely\"\"View Song Information\"\"Add it to your music\"\"Download\"          2737\n",
       "\"Have listened  it completely\"\"Like\"                                                           2734\n",
       "\"Listen it frequently\"\"Like\"                                                                   2728\n",
       "\"Have listened  it completely\"\"Like\"\"View Song Information\"                                    2723\n",
       "\"Listen it frequently\"\"Like\"\"Add it to your music\"                                             2720\n",
       "\"Have listened  it completely\"\"Add it to your music\"                                           2719\n",
       "\"Listen it frequently\"\"Like\"\"View Song Information\"\"Add it to your music\"\"Download\"            2719\n",
       "\"Have listened  it completely\"\"View Song Information\"                                          2716\n",
       "\"Have listened  it completely\"\"View Song Information\"\"Download\"                                2672\n",
       "\"Have listened  it completely\"\"View Song Information\"\"Add it to your music\"                    2659\n",
       "\"Have listened  it completely\"\"Add it to your music\"\"Download\"                                 2648\n",
       "Name: event_type, dtype: int64"
      ]
     },
     "execution_count": 54,
     "metadata": {},
     "output_type": "execute_result"
    }
   ],
   "source": [
    "df['event_type'].value_counts()"
   ]
  },
  {
   "cell_type": "code",
   "execution_count": 55,
   "metadata": {},
   "outputs": [
    {
     "name": "stdout",
     "output_type": "stream",
     "text": [
      "<class 'pandas.core.frame.DataFrame'>\n",
      "RangeIndex: 100000 entries, 0 to 99999\n",
      "Data columns (total 9 columns):\n",
      "user_id                        100000 non-null int64\n",
      "item_id                        100000 non-null int64\n",
      "listening_time_in_scale_0-5    100000 non-null float64\n",
      "title                          100000 non-null object\n",
      "duration                       100000 non-null float64\n",
      "loudness                       100000 non-null float64\n",
      "tempo                          100000 non-null float64\n",
      "key                            100000 non-null int64\n",
      "event_type                     100000 non-null object\n",
      "dtypes: float64(4), int64(3), object(2)\n",
      "memory usage: 6.9+ MB\n"
     ]
    }
   ],
   "source": [
    "df.info()"
   ]
  },
  {
   "cell_type": "code",
   "execution_count": 56,
   "metadata": {},
   "outputs": [
    {
     "data": {
      "text/plain": [
       "405    737\n",
       "655    685\n",
       "13     636\n",
       "450    540\n",
       "276    518\n",
       "416    493\n",
       "537    490\n",
       "303    484\n",
       "234    480\n",
       "393    448\n",
       "181    435\n",
       "279    434\n",
       "429    414\n",
       "846    405\n",
       "7      403\n",
       "94     400\n",
       "682    399\n",
       "308    397\n",
       "92     388\n",
       "293    388\n",
       "222    387\n",
       "201    386\n",
       "59     382\n",
       "435    379\n",
       "378    375\n",
       "880    368\n",
       "417    365\n",
       "896    362\n",
       "592    360\n",
       "796    358\n",
       "      ... \n",
       "418     20\n",
       "242     20\n",
       "558     20\n",
       "685     20\n",
       "812     20\n",
       "364     20\n",
       "300     20\n",
       "631     20\n",
       "873     20\n",
       "809     20\n",
       "166     20\n",
       "740     20\n",
       "36      20\n",
       "866     20\n",
       "34      20\n",
       "143     20\n",
       "824     20\n",
       "888     20\n",
       "926     20\n",
       "441     20\n",
       "93      20\n",
       "732     20\n",
       "475     20\n",
       "571     20\n",
       "596     20\n",
       "147     20\n",
       "19      20\n",
       "572     20\n",
       "636     20\n",
       "895     20\n",
       "Name: user_id, Length: 943, dtype: int64"
      ]
     },
     "execution_count": 56,
     "metadata": {},
     "output_type": "execute_result"
    }
   ],
   "source": [
    "df['user_id'].value_counts()"
   ]
  },
  {
   "cell_type": "code",
   "execution_count": 6,
   "metadata": {},
   "outputs": [
    {
     "data": {
      "text/plain": [
       "50      583\n",
       "258     509\n",
       "100     508\n",
       "181     507\n",
       "294     485\n",
       "       ... \n",
       "1648      1\n",
       "1571      1\n",
       "1329      1\n",
       "1457      1\n",
       "1663      1\n",
       "Name: item_id, Length: 1682, dtype: int64"
      ]
     },
     "execution_count": 6,
     "metadata": {},
     "output_type": "execute_result"
    }
   ],
   "source": [
    "df['item_id'].value_counts()"
   ]
  },
  {
   "cell_type": "markdown",
   "metadata": {},
   "source": [
    "## Data Preprocessing "
   ]
  },
  {
   "cell_type": "markdown",
   "metadata": {},
   "source": [
    "Define strength for each event in 'event_type'\n",
    "\n",
    "Quantify implicit event feedback "
   ]
  },
  {
   "cell_type": "code",
   "execution_count": 57,
   "metadata": {},
   "outputs": [],
   "source": [
    "# event --> strength\n",
    "event_type_strength = {\n",
    "    'Listen it frequently': 3.0,\n",
    "    'Have listened  it completely': 1.0,\n",
    "    'Like': 1.0,\n",
    "    'View Song Information': 1.0,\n",
    "    'Download': 3.0,\n",
    "    'Add it to your music': 2.0,\n",
    "    'Skip it':  -1.0, \n",
    "    'Skip it frequently': -3.0,\n",
    "    'Not recommend it anymore': -2.0}"
   ]
  },
  {
   "cell_type": "code",
   "execution_count": 58,
   "metadata": {},
   "outputs": [],
   "source": [
    "# extract event into a list from a string\n",
    "df['event_type'] = df['event_type'].apply(lambda x: [e for e in x.split(\"\\\"\") if len(e)])\n",
    "\n",
    "# add a column event_strength\n",
    "df['event_strength'] = df['event_type'].apply(lambda x: np.sum([event_type_strength[e] for e in x]))"
   ]
  },
  {
   "cell_type": "code",
   "execution_count": 59,
   "metadata": {},
   "outputs": [
    {
     "data": {
      "text/plain": [
       " 7.0     14115\n",
       " 5.0     13980\n",
       " 6.0     13854\n",
       " 4.0     13735\n",
       " 8.0      8337\n",
       " 3.0      8264\n",
       "-3.0      5684\n",
       " 9.0      5531\n",
       " 2.0      5450\n",
       "-5.0      2810\n",
       "-1.0      2761\n",
       " 1.0      2760\n",
       " 10.0     2719\n",
       "Name: event_strength, dtype: int64"
      ]
     },
     "execution_count": 59,
     "metadata": {},
     "output_type": "execute_result"
    }
   ],
   "source": [
    "# stats on event strength\n",
    "df['event_strength'].value_counts()"
   ]
  },
  {
   "cell_type": "code",
   "execution_count": 60,
   "metadata": {},
   "outputs": [
    {
     "data": {
      "text/html": [
       "<div>\n",
       "<style scoped>\n",
       "    .dataframe tbody tr th:only-of-type {\n",
       "        vertical-align: middle;\n",
       "    }\n",
       "\n",
       "    .dataframe tbody tr th {\n",
       "        vertical-align: top;\n",
       "    }\n",
       "\n",
       "    .dataframe thead th {\n",
       "        text-align: right;\n",
       "    }\n",
       "</style>\n",
       "<table border=\"1\" class=\"dataframe\">\n",
       "  <thead>\n",
       "    <tr style=\"text-align: right;\">\n",
       "      <th></th>\n",
       "      <th>user_id</th>\n",
       "      <th>item_id</th>\n",
       "      <th>listening_time_in_scale_0-5</th>\n",
       "      <th>title</th>\n",
       "      <th>duration</th>\n",
       "      <th>loudness</th>\n",
       "      <th>tempo</th>\n",
       "      <th>key</th>\n",
       "      <th>event_type</th>\n",
       "      <th>event_strength</th>\n",
       "    </tr>\n",
       "  </thead>\n",
       "  <tbody>\n",
       "    <tr>\n",
       "      <th>0</th>\n",
       "      <td>196</td>\n",
       "      <td>242</td>\n",
       "      <td>4.06</td>\n",
       "      <td>Atmosphere Station</td>\n",
       "      <td>191.81669</td>\n",
       "      <td>-38.525</td>\n",
       "      <td>90.084</td>\n",
       "      <td>9</td>\n",
       "      <td>[Listen it frequently, View Song Information, ...</td>\n",
       "      <td>7.0</td>\n",
       "    </tr>\n",
       "    <tr>\n",
       "      <th>1</th>\n",
       "      <td>63</td>\n",
       "      <td>242</td>\n",
       "      <td>3.24</td>\n",
       "      <td>Atmosphere Station</td>\n",
       "      <td>191.81669</td>\n",
       "      <td>-38.525</td>\n",
       "      <td>90.084</td>\n",
       "      <td>9</td>\n",
       "      <td>[Listen it frequently, Like, View Song Informa...</td>\n",
       "      <td>5.0</td>\n",
       "    </tr>\n",
       "    <tr>\n",
       "      <th>2</th>\n",
       "      <td>226</td>\n",
       "      <td>242</td>\n",
       "      <td>3.59</td>\n",
       "      <td>Atmosphere Station</td>\n",
       "      <td>191.81669</td>\n",
       "      <td>-38.525</td>\n",
       "      <td>90.084</td>\n",
       "      <td>9</td>\n",
       "      <td>[Listen it frequently, Add it to your music]</td>\n",
       "      <td>5.0</td>\n",
       "    </tr>\n",
       "    <tr>\n",
       "      <th>3</th>\n",
       "      <td>154</td>\n",
       "      <td>242</td>\n",
       "      <td>4.34</td>\n",
       "      <td>Atmosphere Station</td>\n",
       "      <td>191.81669</td>\n",
       "      <td>-38.525</td>\n",
       "      <td>90.084</td>\n",
       "      <td>9</td>\n",
       "      <td>[Listen it frequently, Like, View Song Informa...</td>\n",
       "      <td>7.0</td>\n",
       "    </tr>\n",
       "    <tr>\n",
       "      <th>4</th>\n",
       "      <td>306</td>\n",
       "      <td>242</td>\n",
       "      <td>4.12</td>\n",
       "      <td>Atmosphere Station</td>\n",
       "      <td>191.81669</td>\n",
       "      <td>-38.525</td>\n",
       "      <td>90.084</td>\n",
       "      <td>9</td>\n",
       "      <td>[Have listened  it completely, Like, View Song...</td>\n",
       "      <td>5.0</td>\n",
       "    </tr>\n",
       "  </tbody>\n",
       "</table>\n",
       "</div>"
      ],
      "text/plain": [
       "   user_id  item_id  listening_time_in_scale_0-5               title  \\\n",
       "0      196      242                         4.06  Atmosphere Station   \n",
       "1       63      242                         3.24  Atmosphere Station   \n",
       "2      226      242                         3.59  Atmosphere Station   \n",
       "3      154      242                         4.34  Atmosphere Station   \n",
       "4      306      242                         4.12  Atmosphere Station   \n",
       "\n",
       "    duration  loudness   tempo  key  \\\n",
       "0  191.81669   -38.525  90.084    9   \n",
       "1  191.81669   -38.525  90.084    9   \n",
       "2  191.81669   -38.525  90.084    9   \n",
       "3  191.81669   -38.525  90.084    9   \n",
       "4  191.81669   -38.525  90.084    9   \n",
       "\n",
       "                                          event_type  event_strength  \n",
       "0  [Listen it frequently, View Song Information, ...             7.0  \n",
       "1  [Listen it frequently, Like, View Song Informa...             5.0  \n",
       "2       [Listen it frequently, Add it to your music]             5.0  \n",
       "3  [Listen it frequently, Like, View Song Informa...             7.0  \n",
       "4  [Have listened  it completely, Like, View Song...             5.0  "
      ]
     },
     "execution_count": 60,
     "metadata": {},
     "output_type": "execute_result"
    }
   ],
   "source": [
    "df.head()"
   ]
  },
  {
   "cell_type": "markdown",
   "metadata": {},
   "source": [
    "## Spotify environment "
   ]
  },
  {
   "cell_type": "code",
   "execution_count": 61,
   "metadata": {},
   "outputs": [],
   "source": [
    "def random_argmax(rng, list_):\n",
    "    \"\"\" return a random element among max when multiple max exists.\"\"\"\n",
    "    return rng.choice(np.argwhere(list_ == list_.max()).flatten())"
   ]
  },
  {
   "cell_type": "code",
   "execution_count": 62,
   "metadata": {},
   "outputs": [],
   "source": [
    "np.set_printoptions(precision=2)"
   ]
  },
  {
   "cell_type": "code",
   "execution_count": 63,
   "metadata": {},
   "outputs": [],
   "source": [
    "class music_rec_env:\n",
    "    \"\"\" A rating environment that simulates Spotify.\n",
    "        User and items are represented by points in R^3 modelling song style (loudness, tempo, key) \n",
    "        User interest for a given item is modeled by 3 parts:\n",
    "        1. dot product of user,item embedding vector (cosine similarity, style coherence)\n",
    "        2. user listening time estimation\n",
    "        3. user event estimation (event_strength)\n",
    "        action: Recommend a song list for a given user among those he has never listened to before\n",
    "    \"\"\"\n",
    "    \n",
    "    def __init__(self, data, seed=None,\n",
    "                 internal_embedding_size=3,\n",
    "                 displayed_users_embedding_size=2,\n",
    "                 displayed_items_embedding_size=2,\n",
    "                 noise_size=2):\n",
    "        self.raw_data = data  # pandas dataframe with 'user_id', 'item_id' columns\n",
    "        self.nb_users = len(df['user_id'].value_counts())\n",
    "        self.nb_items = len(df['item_id'].value_counts())\n",
    "        self.internal_embedding_size = internal_embedding_size\n",
    "        self.displayed_users_embedding_size = displayed_users_embedding_size\n",
    "        self.displayed_items_embedding_size = displayed_items_embedding_size\n",
    "        self.noise_size = noise_size\n",
    "        self._rng = np.random.RandomState(seed)\n",
    "        \n",
    "        self.action_size = self.nb_items\n",
    "        self.sampling_limit = self.nb_users * self.nb_items\n",
    "        self.users_embedding = None\n",
    "        self.items_embedding = None\n",
    "        self.user_item_history = None\n",
    "        self.done = False\n",
    "\n",
    "    def step(self, action_list):\n",
    "        # check if behind done\n",
    "        if self.done:\n",
    "            print(\"Calling step after it returns done=True.\\n\"\n",
    "                  \"Please reset the environment.\")\n",
    "\n",
    "        # compute potential rewards\n",
    "        potential_rewards = [self._get_user_item_rating(self.current_user, i) \n",
    "                             for i in np.argwhere(self.user_item_history[self.current_user, :] == 0).flatten()]\n",
    "        \n",
    "        # compute optimal reward\n",
    "        optimal_returns = np.array(sorted(potential_rewards, reverse = True))[:len(action_list)]\n",
    "\n",
    "        # map actions to items\n",
    "        self.recommended_items = [np.argwhere(self.user_item_history[self.current_user, :] == 0)[action][0] for action in action_list]\n",
    "        \n",
    "        # mark items as rated\n",
    "        self.user_item_history[self.current_user, self.recommended_items] = 1\n",
    "\n",
    "        # compute reward R_t\n",
    "        self.current_ratings = [self._get_user_item_rating(self.current_user, rec_item) for rec_item in self.recommended_items]\n",
    "        self.rewards = self.current_ratings\n",
    "        \n",
    "        # check if done\n",
    "        if self.user_item_history.sum() == self.sampling_limit:\n",
    "            self.done = True\n",
    "\n",
    "        # compute next state S_{t+1}\n",
    "        self._next_state()\n",
    "\n",
    "        # update action space t+1\n",
    "        self.action_size = len(self.available_items)\n",
    "\n",
    "        return self.rewards, self.state, self.done, optimal_returns\n",
    "\n",
    "    def reset(self, data=None, seed=None):\n",
    "        \n",
    "        if data:\n",
    "            self.raw_data = data\n",
    "            \n",
    "        if seed:\n",
    "            self._rng = np.random.RandomState(seed)\n",
    " \n",
    "        # create item embedding matrix (song style features) \n",
    "        song_df = self.raw_data[['item_id','loudness','tempo','key']].drop_duplicates().sort_values(by = 'item_id')\n",
    "        style_raw_data = np.vstack((song_df['loudness'], song_df['tempo'],song_df['key'])).T\n",
    "        min_max_scaler = MinMaxScaler()\n",
    "        self.items_embedding = min_max_scaler.fit_transform(style_raw_data)\n",
    "        \n",
    "        # create user embedding matrix (song style preference features)\n",
    "        self.users_embedding = np.array([])\n",
    "        for user in np.array(sorted(self.raw_data['user_id'].unique())):\n",
    "            user_raw_data = self.raw_data[self.raw_data['user_id']==user]\n",
    "            tmp = user_raw_data[['loudness','tempo','key']].mul(user_raw_data['listening_time_in_scale_0-5'], axis=0)\n",
    "            tmp = tmp.div(user_raw_data['listening_time_in_scale_0-5'].sum())\n",
    "            user_unscaled_data = np.array(tmp.mean(axis=0))\n",
    "            self.users_embedding = np.append(self.users_embedding, user_unscaled_data)    \n",
    "        self.users_embedding = min_max_scaler.fit_transform(self.users_embedding.reshape(self.raw_data['user_id'].nunique(),3))    \n",
    "\n",
    "        # initialize history matrix, recommend history + listening history\n",
    "        # listening/reocmmend history = 1\n",
    "        self.user_item_history = np.zeros((self.nb_users, self.nb_items))\n",
    "        v_func = np.vectorize(self._get_listening_history)\n",
    "        v_func(a=np.array(self.raw_data['user_id']), b=np.array(self.raw_data['item_id']))\n",
    "        \n",
    "        self.done = False\n",
    "\n",
    "        self._next_state()\n",
    "        return self.state\n",
    "     \n",
    "    def _get_listening_history(self, a, b):\n",
    "        # record listening history in raw_data\n",
    "        # a: user_id, b: item_id, M: ndarray\n",
    "        self.user_item_history[a-1,b-1] = 1  # both id start from 1\n",
    "\n",
    "    def _get_user_item_rating(self, user, item): \n",
    "        # score = style_matching_score + estimated_time_bonus + estimated_event_bonus\n",
    "        # all 3 parts range from 0 to 1\n",
    "\n",
    "        # compute style_matching_score\n",
    "        style_matching_score = self.users_embedding[user].dot(self.items_embedding[item])\n",
    "        \n",
    "        user_raw_data = self.raw_data[self.raw_data['user_id']==user]\n",
    "        songs_similarity = self.items_embedding[np.array(user_raw_data['item_id']),:].dot(self.items_embedding[item])\n",
    "        \n",
    "        # compute estimated_time_bonus   \n",
    "        unscaled_estimated_time_bonuses = user_raw_data['listening_time_in_scale_0-5'].mul(songs_similarity)\n",
    "        scaled_estimated_time_bonuses = unscaled_estimated_time_bonuses.div(np.sum(songs_similarity))\n",
    "        estimated_time_bonus = (scaled_estimated_time_bonuses.sum() - user_raw_data['listening_time_in_scale_0-5'].min())/ \\\n",
    "                               (user_raw_data['listening_time_in_scale_0-5'].max() - user_raw_data['listening_time_in_scale_0-5'].min())\n",
    "        \n",
    "        # compute estimated_event_bonus\n",
    "        unscaled_estimated_event_bonuses = user_raw_data['event_strength'].mul(songs_similarity)\n",
    "        scaled_estimated_event_bonuses = unscaled_estimated_event_bonuses.div(np.sum(songs_similarity))\n",
    "        estimated_event_bonus = (scaled_estimated_event_bonuses.sum() - user_raw_data['event_strength'].min())/ \\\n",
    "                                (user_raw_data['event_strength'].max() - user_raw_data['event_strength'].min())\n",
    "        \n",
    "        score = style_matching_score + estimated_time_bonus + estimated_event_bonus\n",
    "        return score\n",
    "\n",
    "    def _get_variables(self, user, item):\n",
    "        user_embedding = self.users_embedding[user]\n",
    "        item_embedding = self.items_embedding[item]\n",
    "        if self.displayed_users_embedding_size + self.displayed_items_embedding_size > 0:\n",
    "            variables = np.array([user_embedding[:self.displayed_users_embedding_size],\n",
    "                                  item_embedding[:self.displayed_items_embedding_size]])\n",
    "\n",
    "            if self.noise_size > 0:\n",
    "                noise = self._rng.normal(loc=np.zeros(self.noise_size),\n",
    "                                         scale=np.ones(self.noise_size)/2,\n",
    "                                         size=self.noise_size)\n",
    "                variables = np.append(variables, noise)\n",
    "\n",
    "            return variables\n",
    "\n",
    "    def _get_new_user(self):\n",
    "        has_picked = False\n",
    "        user = self._rng.randint(0, self.nb_users)\n",
    "        # get a new user who hasn't tried all the songs\n",
    "        while np.sum(self.user_item_history[user, :]) == self.nb_items:\n",
    "            user = self._rng.randint(0, self.nb_users)\n",
    "        return user    \n",
    "\n",
    "    def _next_state(self):\n",
    "        # Pick a user\n",
    "        if self.user_item_history.sum() < self.sampling_limit: \n",
    "            self.current_user = self._get_new_user()\n",
    "        else:\n",
    "            self.current_user = None\n",
    "\n",
    "        # list available items\n",
    "        self.available_items = np.argwhere(self.user_item_history[self.current_user, :] == 0)\n",
    "\n",
    "        self.state = list()\n",
    "        for i in self.available_items:\n",
    "            item = i[0]   \n",
    "            # compute variables (part of the user, item embedding (with noise))\n",
    "            variables = self._get_variables(self.current_user, item)\n",
    "            self.state.append([self.current_user+1, item+1, variables])\n"
   ]
  },
  {
   "cell_type": "code",
   "execution_count": 64,
   "metadata": {},
   "outputs": [],
   "source": [
    "env =  music_rec_env(data = df, seed = 2020)"
   ]
  },
  {
   "cell_type": "code",
   "execution_count": 65,
   "metadata": {},
   "outputs": [
    {
     "data": {
      "text/plain": [
       "[[865, 2, array([ 0.81,  0.23,  0.78,  0.41,  0.18, -0.51])],\n",
       " [865, 3, array([ 0.81,  0.23,  0.8 ,  0.49,  0.05, -0.61])],\n",
       " [865, 4, array([ 0.81,  0.23,  0.92,  0.54,  0.99, -0.04])],\n",
       " [865, 5, array([ 0.81,  0.23,  0.79,  0.61, -0.42,  0.09])],\n",
       " [865, 6, array([ 0.81,  0.23,  0.57,  0.46, -0.13,  0.91])],\n",
       " [865, 8, array([ 0.81,  0.23,  0.68,  0.36, -0.2 , -0.01])],\n",
       " [865, 9, array([ 0.81,  0.23,  0.86,  0.47,  0.03, -1.32])],\n",
       " [865, 10, array([ 0.81,  0.23,  0.77,  0.61, -0.62, -0.79])],\n",
       " [865, 11, array([ 0.81,  0.23,  0.84,  0.49, -0.15, -0.56])],\n",
       " [865, 12, array([ 0.81,  0.23,  0.86,  0.54,  0.4 , -0.29])]]"
      ]
     },
     "execution_count": 65,
     "metadata": {},
     "output_type": "execute_result"
    }
   ],
   "source": [
    "env.reset(seed=2020)[:10]  # user, available_item, user_item_feature with noise"
   ]
  },
  {
   "cell_type": "code",
   "execution_count": 66,
   "metadata": {},
   "outputs": [
    {
     "data": {
      "text/plain": [
       "array([  1,   7,  21,  24,  71,  91,  95,  99, 100, 101])"
      ]
     },
     "execution_count": 66,
     "metadata": {},
     "output_type": "execute_result"
    }
   ],
   "source": [
    "np.array(sorted(df[df['user_id']==865]['item_id']))[:10]"
   ]
  },
  {
   "cell_type": "markdown",
   "metadata": {},
   "source": [
    "User 865 is connecting to the platform.\n",
    "\n",
    "Recommend him three songs among all available songs.\n",
    "\n",
    "For each user-item pair, observe also a vector of features that depends on the user, the song and/or some context(like occasion, weather, user's emotion, etc)."
   ]
  },
  {
   "cell_type": "code",
   "execution_count": 67,
   "metadata": {},
   "outputs": [
    {
     "name": "stdout",
     "output_type": "stream",
     "text": [
      "reward:  [2.1523058678879305, 2.004570737665477, 2.159392800121681]\n",
      "best reward: [2.44 2.44 2.43]\n"
     ]
    }
   ],
   "source": [
    "reward, next_state, done, optimal_return = env.step(np.arange(3)) # pick the first 3 available items in the list \n",
    "print('reward: ', reward)\n",
    "print('best reward:',optimal_return)"
   ]
  },
  {
   "cell_type": "code",
   "execution_count": 68,
   "metadata": {},
   "outputs": [
    {
     "data": {
      "text/plain": [
       "[[168, 2, array([ 0.81,  0.2 ,  0.78,  0.41,  0.07, -0.51])],\n",
       " [168, 3, array([ 0.81,  0.2 ,  0.8 ,  0.49, -0.23, -0.25])],\n",
       " [168, 4, array([0.81, 0.2 , 0.92, 0.54, 0.04, 0.56])],\n",
       " [168, 5, array([0.81, 0.2 , 0.79, 0.61, 0.1 , 0.94])],\n",
       " [168, 6, array([0.81, 0.2 , 0.57, 0.46, 0.1 , 0.07])],\n",
       " [168, 8, array([ 0.81,  0.2 ,  0.68,  0.36,  0.45, -0.48])],\n",
       " [168, 10, array([ 0.81,  0.2 ,  0.77,  0.61,  0.1 , -0.01])],\n",
       " [168, 11, array([ 0.81,  0.2 ,  0.84,  0.49, -0.1 , -0.19])],\n",
       " [168, 12, array([0.81, 0.2 , 0.86, 0.54, 0.27, 0.45])],\n",
       " [168, 13, array([ 0.81,  0.2 ,  0.83,  0.57,  1.11, -0.7 ])]]"
      ]
     },
     "execution_count": 68,
     "metadata": {},
     "output_type": "execute_result"
    }
   ],
   "source": [
    "next_state[:10]"
   ]
  },
  {
   "cell_type": "code",
   "execution_count": 69,
   "metadata": {},
   "outputs": [
    {
     "data": {
      "text/plain": [
       "array([  1,   7,   9,  13,  15,  24,  25,  50,  93, 100])"
      ]
     },
     "execution_count": 69,
     "metadata": {},
     "output_type": "execute_result"
    }
   ],
   "source": [
    "np.array(sorted(df[df['user_id']==637]['item_id']))[:10]"
   ]
  },
  {
   "cell_type": "code",
   "execution_count": 70,
   "metadata": {},
   "outputs": [
    {
     "name": "stdout",
     "output_type": "stream",
     "text": [
      "reward:  [2.1749069572290747, 2.2196189312467376, 1.9345863326151673]\n",
      "best reward: [2.64 2.64 2.57]\n"
     ]
    }
   ],
   "source": [
    "env.reset(seed=2000)[:10]\n",
    "reward, next_state, done, optimal_return = env.step(np.arange(3)) # pick the first 3 available items in the list \n",
    "print('reward: ', reward)\n",
    "print('best reward:',optimal_return)"
   ]
  },
  {
   "cell_type": "markdown",
   "metadata": {},
   "source": [
    "## Agent"
   ]
  },
  {
   "cell_type": "markdown",
   "metadata": {},
   "source": [
    "## Random Agent"
   ]
  },
  {
   "cell_type": "code",
   "execution_count": 149,
   "metadata": {},
   "outputs": [],
   "source": [
    "class Random:\n",
    "    \"\"\" Random agent. \"\"\"\n",
    "    def __init__(self, nb_arms, seed=None):\n",
    "        self._nb_arms = nb_arms\n",
    "        self._rng = np.random.RandomState(seed)\n",
    "        \n",
    "    def act(self, context):\n",
    "        actions = self._rng.randint(len(context), size = self._nb_arms)  \n",
    "        #actions = self._rng.randint(np.array(context).shape[1], size = self._nb_arms)  \n",
    "        return actions\n",
    "    \n",
    "    def update(self, context, actions, rewards):\n",
    "        pass\n",
    "        "
   ]
  },
  {
   "cell_type": "markdown",
   "metadata": {},
   "source": [
    "##  UCB Agent"
   ]
  },
  {
   "cell_type": "code",
   "execution_count": 73,
   "metadata": {},
   "outputs": [],
   "source": [
    "class UCB:\n",
    "    \"\"\" Upper Confidence Bound agent. \"\"\"\n",
    "\n",
    "    def __init__(self, nb_arms, n_user, n_item, c=2., seed=None):\n",
    "        self._nb_arms = nb_arms\n",
    "        self._n_user = n_user\n",
    "        self._n_item = n_item\n",
    "        self._c = c\n",
    "        self._rng = np.random.RandomState(seed)\n",
    "        #self._q = np.zeros(nb_arms)\n",
    "        self._q = np.zeros((self._n_user, self._n_item))\n",
    "        self._n = np.zeros((self._n_user, self._n_item))\n",
    "        self._t = 0\n",
    "        \n",
    "    def act(self, context):\n",
    "        user = context[0][0]  # current user id\n",
    "        \n",
    "        if 0 in self._n:\n",
    "            actions = self._rng.choice(np.where(self._n==0)[1], self._nb_arms) #(nb_arms,)\n",
    "        \n",
    "        else:\n",
    "            actions = [self._q[user, i] / self._n[user, i] + self._c*np.sqrt(np.log(self._t)/self._n[user, i]) \n",
    "                       for i in range(self._n_item)]\n",
    "       \n",
    "            actions = np.array(actions) #(n_item,)\n",
    "            actions = actions.argsort()[-self._nb_arms:][::-1]  #(nb_arm,), select the top nb_arms recommended songs and return their item_id\n",
    "        \n",
    "        return actions\n",
    "\n",
    "    \n",
    "    def update(self, context, actions_chosen, reward_list):\n",
    "        last_user = context[0][0]\n",
    "        for i, a in enumerate(actions_chosen):\n",
    "            self._n[last_user, a] += 1\n",
    "            self._q[last_user, a] += reward_list[i]\n",
    "        self._t += 1\n",
    "        "
   ]
  },
  {
   "cell_type": "markdown",
   "metadata": {},
   "source": [
    "## Linear UCB Agent"
   ]
  },
  {
   "cell_type": "code",
   "execution_count": 75,
   "metadata": {},
   "outputs": [],
   "source": [
    "class LinUCB:\n",
    "   \n",
    "    def __init__(self, nb_arms, n_user, n_item, c=2., seed=None, delta =0.1,alpha=0.1,lmbda=1,S=1 ):\n",
    "        self._nb_arms = nb_arms\n",
    "        self._n_user = n_user\n",
    "        self._n_item = n_item\n",
    "        self._c = c\n",
    "        self._rng = np.random.RandomState(seed)\n",
    "        #self._q = np.zeros(nb_arms)\n",
    "        self._q = np.zeros((self._n_user, self._n_item))\n",
    "        self._n = np.zeros((self._n_user, self._n_item))\n",
    "        self._t = 0\n",
    "        self._delta = delta\n",
    "        self._alpha = alpha\n",
    "        self._lmbda = lmbda\n",
    "        self._S = S\n",
    "        self._b = np.zeros(self._n_item) #(n_item,) \n",
    "        self._A_a = np.eye(self._n_item) #(n_item,n_item)\n",
    "        self._A_a_inv = np.linalg.inv(self._A_a) # inverse of covariance matrix #(n_item,n_item)\n",
    "      \n",
    " \n",
    "    def init(self):\n",
    "\n",
    "        self._t = 0\n",
    "        #self.theta = np.zeros(self.d) \n",
    "        self._theta = np.zeros(self._n_item) #(n_item,)\n",
    "\n",
    "        \n",
    "    def act(self, context):\n",
    "        user = context[0][0]  # current user id\n",
    "        \n",
    "        if 0 in self._n:\n",
    "            actions = self._rng.choice(np.where(self._n==0)[1], self._nb_arms) #(nb_arms,)\n",
    "            payoffs = self._rng.choice(np.where(self._n==0)[1], self._n_item) #(n_item,)\n",
    "        \n",
    "        else:\n",
    "            actions = [self._q[user, i] / self._n[user, i] + self._c*np.sqrt(np.log(self._t)/self._n[user, i]) \n",
    "                       for i in range(self._n_item)]\n",
    "       \n",
    "            actions = np.array(actions) #(n_item,)\n",
    "            #actions = actions.argsort()[-self._nb_arms:][::-1]  #(nb_arm,), select the top nb_arms recommended songs and return their item_id\n",
    "            \n",
    "            self.theta = self._A_a_inv @ self._b #(n_item,)\n",
    "            beta = np.sqrt(self._lmbda)*self._S + np.sqrt(2*log(1/self._delta) + log(np.linalg.det(self._A_a) \n",
    "                                                                              / (self._lmbda**self._n_item)))\n",
    "            \n",
    "            payoffs =[np.dot(self._theta, action) + np.sqrt(beta * self._alpha) *(actions.T @ self._A_a_inv @ actions)\n",
    "                       for action in actions]#(n_item,)\n",
    "    \n",
    "            actions = payoffs.argsort()[-self._nb_arms:][::-1]  #(nb_arm,), select the top nb_arms recommended songs and return their item_id\n",
    "    \n",
    "        return payoffs, actions\n",
    "\n",
    "    def update(self, context, actions_chosen, pay_offs, reward_list):\n",
    "        last_user = context[0][0]\n",
    "        chosen_items = np.zeros(self._n_item)#(n_item,)\n",
    "        for i, a in enumerate(actions_chosen):\n",
    "            self._n[last_user, a] += 1\n",
    "            self._q[last_user, a] += reward_list[i]\n",
    "            chosen_items[a] == pay_offs[a]\n",
    "        for i, a in enumerate(actions_chosen):\n",
    "            self._b += chosen_items* reward_list[i]#(n_item,)\n",
    "\n",
    "        self._t += 1\n",
    "        self._A_a += np.outer(chosen_items, chosen_items) #(n_item,n_item)\n",
    "        # Using Sherman–Morrison formula to compute the inverse of the sum of an invertible matrix A and the outer product\n",
    "        self._A_a_inv -= (self._A_a_inv @ np.outer(chosen_items, chosen_items) @ self._A_a_inv)/(1 + chosen_items.T @ self._A_a_inv @ chosen_items)\n"
   ]
  },
  {
   "cell_type": "markdown",
   "metadata": {},
   "source": [
    "## Experiment"
   ]
  },
  {
   "cell_type": "code",
   "execution_count": 77,
   "metadata": {},
   "outputs": [],
   "source": [
    "def run_exp(agent, env, nb_steps, nb_arms,env_seed):\n",
    "    rewards_list = np.zeros((nb_steps, nb_arms))\n",
    "    regrets_list = np.zeros((nb_steps, nb_arms))\n",
    "    actions_list = np.zeros((nb_steps, nb_arms))\n",
    "    context = env.reset(data = None, seed = env_seed)\n",
    "\n",
    "    for i in range(nb_steps):\n",
    "        # Select action from agent policy.\n",
    "        actions = agent.act(context)\n",
    "        \n",
    "        # Play action in the environment and get reward.\n",
    "        rewards, next_context, done, optimal_return = env.step(actions)\n",
    "        \n",
    "        # Update history\n",
    "        user = context[0][0]\n",
    "        #item = context[action][1]\n",
    "        items = np.array([context[a][1] for a in actions])  # a list of [user_id, item_id, ]\n",
    "        rating = rewards\n",
    "        \n",
    "        # Update agent.\n",
    "        agent.update(context, actions, rewards)\n",
    "        context = next_context\n",
    "        \n",
    "        # Save history.\n",
    "        rewards_list[i] = rewards\n",
    "        actions_list[i] = actions\n",
    "        regrets_list[i] = optimal_return - rewards\n",
    "\n",
    "    reward = np.sum(rewards_list, axis = 0)\n",
    "    regret = np.sum(regrets_list, axis = 0)\n",
    " \n",
    "    return {'reward': reward, \n",
    "            'regret': regret,\n",
    "            'rewards': rewards_list,\n",
    "            'regrets': regrets_list,\n",
    "            'actions': actions_list,\n",
    "            'cum_rewards': np.cumsum(rewards_list, axis = 0), \n",
    "            'cum_regrets': np.cumsum(regrets_list, axis = 0),\n",
    "            }\n"
   ]
  },
  {
   "cell_type": "markdown",
   "metadata": {},
   "source": [
    "## Results by using Random Agent"
   ]
  },
  {
   "cell_type": "code",
   "execution_count": 150,
   "metadata": {},
   "outputs": [],
   "source": [
    "random_agent = Random(nb_arms = 3, seed=0)"
   ]
  },
  {
   "cell_type": "code",
   "execution_count": 85,
   "metadata": {},
   "outputs": [],
   "source": [
    "res_random_agent = run_exp(random_agent, env, nb_steps=5, nb_arms=3, env_seed=0)"
   ]
  },
  {
   "cell_type": "code",
   "execution_count": 86,
   "metadata": {},
   "outputs": [
    {
     "data": {
      "text/plain": [
       "{'reward': array([10.34,  9.57, 10.  ]),\n",
       " 'regret': array([1.89, 2.53, 1.99]),\n",
       " 'rewards': array([[2.05, 1.98, 2.05],\n",
       "        [2.04, 2.04, 2.1 ],\n",
       "        [1.98, 1.68, 1.98],\n",
       "        [1.98, 1.98, 1.98],\n",
       "        [2.28, 1.89, 1.89]]),\n",
       " 'regrets': array([[0.24, 0.31, 0.23],\n",
       "        [0.28, 0.28, 0.22],\n",
       "        [0.55, 0.86, 0.46],\n",
       "        [0.23, 0.22, 0.22],\n",
       "        [0.59, 0.86, 0.86]]),\n",
       " 'actions': array([[0., 1., 0.],\n",
       "        [1., 1., 2.],\n",
       "        [0., 2., 0.],\n",
       "        [0., 0., 2.],\n",
       "        [1., 2., 2.]]),\n",
       " 'cum_rewards': array([[ 2.05,  1.98,  2.05],\n",
       "        [ 4.1 ,  4.02,  4.15],\n",
       "        [ 6.08,  5.7 ,  6.13],\n",
       "        [ 8.06,  7.68,  8.11],\n",
       "        [10.34,  9.57, 10.  ]]),\n",
       " 'cum_regrets': array([[0.24, 0.31, 0.23],\n",
       "        [0.52, 0.59, 0.46],\n",
       "        [1.07, 1.45, 0.91],\n",
       "        [1.3 , 1.67, 1.13],\n",
       "        [1.89, 2.53, 1.99]])}"
      ]
     },
     "execution_count": 86,
     "metadata": {},
     "output_type": "execute_result"
    }
   ],
   "source": [
    "res_random_agent"
   ]
  },
  {
   "cell_type": "markdown",
   "metadata": {},
   "source": [
    "## Draw empirical regret and confidence bound"
   ]
  },
  {
   "cell_type": "code",
   "execution_count": 87,
   "metadata": {},
   "outputs": [],
   "source": [
    "def draw_regret_bound(agent_name, nb_arms=3, nb_exp=10, nb_steps=10):\n",
    "    '''\n",
    "    Repeat environment-agent interations and draw regret bound for a given agent\n",
    "    '''    \n",
    "    regret = np.zeros(nb_exp)\n",
    "    regrets = np.zeros((nb_exp, nb_steps))\n",
    "    for i in range(nb_exp):\n",
    "        env = music_rec_env(data = df, seed = i)\n",
    "        if agent_name == 'random':\n",
    "            agent = Random(nb_arms, seed=i)\n",
    "        if agent_name == 'ucb':\n",
    "            agent = UCB(nb_arms, n_user=943, n_item=1400, seed=i)\n",
    "            \n",
    "        exp = run_exp(agent, env, nb_steps, nb_arms, env_seed=2*i)\n",
    "        \n",
    "        regret[i] = np.sum(exp['regret'])\n",
    "        regrets[i] = np.sum(exp['cum_regrets'], axis = 1) \n",
    "        \n",
    "    plt.plot(regrets.mean(axis=0), color='blue')\n",
    "    plt.plot(np.quantile(regrets, 0.05,axis=0), color='grey', alpha=0.5)\n",
    "    plt.plot(np.quantile(regrets, 0.95,axis=0), color='grey', alpha=0.5)\n",
    "    plt.title('Mean regret: {:.2f}'.format(regret.mean()))\n",
    "    plt.xlabel('steps')\n",
    "    plt.ylabel('regret')\n",
    "    plt.show()   \n",
    "    \n",
    "    "
   ]
  },
  {
   "cell_type": "code",
   "execution_count": 88,
   "metadata": {},
   "outputs": [
    {
     "data": {
      "image/png": "[encoded data removed]",
      "text/plain": [
       "<Figure size 432x288 with 1 Axes>"
      ]
     },
     "metadata": {
      "needs_background": "light"
     },
     "output_type": "display_data"
    }
   ],
   "source": [
    "t1 = time.perf_counter()\n",
    "draw_regret_bound('random', nb_arms=3, nb_exp=10, nb_steps=5)\n",
    "t2 = time.perf_counter()"
   ]
  },
  {
   "cell_type": "code",
   "execution_count": 89,
   "metadata": {},
   "outputs": [
    {
     "data": {
      "text/plain": [
       "314.3568156160036"
      ]
     },
     "execution_count": 89,
     "metadata": {},
     "output_type": "execute_result"
    }
   ],
   "source": [
    "t2-t1 # running time in seconds"
   ]
  },
  {
   "cell_type": "code",
   "execution_count": 151,
   "metadata": {},
   "outputs": [
    {
     "ename": "IndexError",
     "evalue": "index 1682 is out of bounds for axis 0 with size 1682",
     "output_type": "error",
     "traceback": [
      "\u001b[0;31m---------------------------------------------------------------------------\u001b[0m",
      "\u001b[0;31mIndexError\u001b[0m                                Traceback (most recent call last)",
      "\u001b[0;32m<ipython-input-151-1fc1307ddb87>\u001b[0m in \u001b[0;36m<module>\u001b[0;34m\u001b[0m\n\u001b[1;32m      1\u001b[0m \u001b[0mt1\u001b[0m \u001b[0;34m=\u001b[0m \u001b[0mtime\u001b[0m\u001b[0;34m.\u001b[0m\u001b[0mperf_counter\u001b[0m\u001b[0;34m(\u001b[0m\u001b[0;34m)\u001b[0m\u001b[0;34m\u001b[0m\u001b[0;34m\u001b[0m\u001b[0m\n\u001b[0;32m----> 2\u001b[0;31m \u001b[0mdraw_regret_bound\u001b[0m\u001b[0;34m(\u001b[0m\u001b[0;34m'random'\u001b[0m\u001b[0;34m,\u001b[0m \u001b[0mnb_arms\u001b[0m\u001b[0;34m=\u001b[0m\u001b[0;36m3\u001b[0m\u001b[0;34m,\u001b[0m \u001b[0mnb_exp\u001b[0m\u001b[0;34m=\u001b[0m\u001b[0;36m100\u001b[0m\u001b[0;34m,\u001b[0m \u001b[0mnb_steps\u001b[0m\u001b[0;34m=\u001b[0m\u001b[0;36m100\u001b[0m\u001b[0;34m)\u001b[0m\u001b[0;34m\u001b[0m\u001b[0;34m\u001b[0m\u001b[0m\n\u001b[0m\u001b[1;32m      3\u001b[0m \u001b[0mt2\u001b[0m \u001b[0;34m=\u001b[0m \u001b[0mtime\u001b[0m\u001b[0;34m.\u001b[0m\u001b[0mperf_counter\u001b[0m\u001b[0;34m(\u001b[0m\u001b[0;34m)\u001b[0m\u001b[0;34m\u001b[0m\u001b[0;34m\u001b[0m\u001b[0m\n",
      "\u001b[0;32m<ipython-input-87-b0eb80720c1e>\u001b[0m in \u001b[0;36mdraw_regret_bound\u001b[0;34m(agent_name, nb_arms, nb_exp, nb_steps)\u001b[0m\n\u001b[1;32m     12\u001b[0m             \u001b[0magent\u001b[0m \u001b[0;34m=\u001b[0m \u001b[0mUCB\u001b[0m\u001b[0;34m(\u001b[0m\u001b[0mnb_arms\u001b[0m\u001b[0;34m,\u001b[0m \u001b[0mn_user\u001b[0m\u001b[0;34m=\u001b[0m\u001b[0;36m943\u001b[0m\u001b[0;34m,\u001b[0m \u001b[0mn_item\u001b[0m\u001b[0;34m=\u001b[0m\u001b[0;36m1400\u001b[0m\u001b[0;34m,\u001b[0m \u001b[0mseed\u001b[0m\u001b[0;34m=\u001b[0m\u001b[0mi\u001b[0m\u001b[0;34m)\u001b[0m\u001b[0;34m\u001b[0m\u001b[0;34m\u001b[0m\u001b[0m\n\u001b[1;32m     13\u001b[0m \u001b[0;34m\u001b[0m\u001b[0m\n\u001b[0;32m---> 14\u001b[0;31m         \u001b[0mexp\u001b[0m \u001b[0;34m=\u001b[0m \u001b[0mrun_exp\u001b[0m\u001b[0;34m(\u001b[0m\u001b[0magent\u001b[0m\u001b[0;34m,\u001b[0m \u001b[0menv\u001b[0m\u001b[0;34m,\u001b[0m \u001b[0mnb_steps\u001b[0m\u001b[0;34m,\u001b[0m \u001b[0mnb_arms\u001b[0m\u001b[0;34m,\u001b[0m \u001b[0menv_seed\u001b[0m\u001b[0;34m=\u001b[0m\u001b[0;36m2\u001b[0m\u001b[0;34m*\u001b[0m\u001b[0mi\u001b[0m\u001b[0;34m)\u001b[0m\u001b[0;34m\u001b[0m\u001b[0;34m\u001b[0m\u001b[0m\n\u001b[0m\u001b[1;32m     15\u001b[0m \u001b[0;34m\u001b[0m\u001b[0m\n\u001b[1;32m     16\u001b[0m         \u001b[0mregret\u001b[0m\u001b[0;34m[\u001b[0m\u001b[0mi\u001b[0m\u001b[0;34m]\u001b[0m \u001b[0;34m=\u001b[0m \u001b[0mnp\u001b[0m\u001b[0;34m.\u001b[0m\u001b[0msum\u001b[0m\u001b[0;34m(\u001b[0m\u001b[0mexp\u001b[0m\u001b[0;34m[\u001b[0m\u001b[0;34m'regret'\u001b[0m\u001b[0;34m]\u001b[0m\u001b[0;34m)\u001b[0m\u001b[0;34m\u001b[0m\u001b[0;34m\u001b[0m\u001b[0m\n",
      "\u001b[0;32m<ipython-input-77-17e5d6746024>\u001b[0m in \u001b[0;36mrun_exp\u001b[0;34m(agent, env, nb_steps, nb_arms, env_seed)\u001b[0m\n\u001b[1;32m     10\u001b[0m \u001b[0;34m\u001b[0m\u001b[0m\n\u001b[1;32m     11\u001b[0m         \u001b[0;31m# Play action in the environment and get reward.\u001b[0m\u001b[0;34m\u001b[0m\u001b[0;34m\u001b[0m\u001b[0;34m\u001b[0m\u001b[0m\n\u001b[0;32m---> 12\u001b[0;31m         \u001b[0mrewards\u001b[0m\u001b[0;34m,\u001b[0m \u001b[0mnext_context\u001b[0m\u001b[0;34m,\u001b[0m \u001b[0mdone\u001b[0m\u001b[0;34m,\u001b[0m \u001b[0moptimal_return\u001b[0m \u001b[0;34m=\u001b[0m \u001b[0menv\u001b[0m\u001b[0;34m.\u001b[0m\u001b[0mstep\u001b[0m\u001b[0;34m(\u001b[0m\u001b[0mactions\u001b[0m\u001b[0;34m)\u001b[0m\u001b[0;34m\u001b[0m\u001b[0;34m\u001b[0m\u001b[0m\n\u001b[0m\u001b[1;32m     13\u001b[0m \u001b[0;34m\u001b[0m\u001b[0m\n\u001b[1;32m     14\u001b[0m         \u001b[0;31m# Update history\u001b[0m\u001b[0;34m\u001b[0m\u001b[0;34m\u001b[0m\u001b[0;34m\u001b[0m\u001b[0m\n",
      "\u001b[0;32m<ipython-input-63-ea3f6bcfbeb3>\u001b[0m in \u001b[0;36mstep\u001b[0;34m(self, action_list)\u001b[0m\n\u001b[1;32m     38\u001b[0m         \u001b[0;31m# compute potential rewards\u001b[0m\u001b[0;34m\u001b[0m\u001b[0;34m\u001b[0m\u001b[0;34m\u001b[0m\u001b[0m\n\u001b[1;32m     39\u001b[0m         potential_rewards = [self._get_user_item_rating(self.current_user, i) \n\u001b[0;32m---> 40\u001b[0;31m                              for i in np.argwhere(self.user_item_history[self.current_user, :] == 0).flatten()]\n\u001b[0m\u001b[1;32m     41\u001b[0m \u001b[0;34m\u001b[0m\u001b[0m\n\u001b[1;32m     42\u001b[0m         \u001b[0;31m# compute optimal reward\u001b[0m\u001b[0;34m\u001b[0m\u001b[0;34m\u001b[0m\u001b[0;34m\u001b[0m\u001b[0m\n",
      "\u001b[0;32m<ipython-input-63-ea3f6bcfbeb3>\u001b[0m in \u001b[0;36m<listcomp>\u001b[0;34m(.0)\u001b[0m\n\u001b[1;32m     38\u001b[0m         \u001b[0;31m# compute potential rewards\u001b[0m\u001b[0;34m\u001b[0m\u001b[0;34m\u001b[0m\u001b[0;34m\u001b[0m\u001b[0m\n\u001b[1;32m     39\u001b[0m         potential_rewards = [self._get_user_item_rating(self.current_user, i) \n\u001b[0;32m---> 40\u001b[0;31m                              for i in np.argwhere(self.user_item_history[self.current_user, :] == 0).flatten()]\n\u001b[0m\u001b[1;32m     41\u001b[0m \u001b[0;34m\u001b[0m\u001b[0m\n\u001b[1;32m     42\u001b[0m         \u001b[0;31m# compute optimal reward\u001b[0m\u001b[0;34m\u001b[0m\u001b[0;34m\u001b[0m\u001b[0;34m\u001b[0m\u001b[0m\n",
      "\u001b[0;32m<ipython-input-63-ea3f6bcfbeb3>\u001b[0m in \u001b[0;36m_get_user_item_rating\u001b[0;34m(self, user, item)\u001b[0m\n\u001b[1;32m    113\u001b[0m \u001b[0;34m\u001b[0m\u001b[0m\n\u001b[1;32m    114\u001b[0m         \u001b[0muser_raw_data\u001b[0m \u001b[0;34m=\u001b[0m \u001b[0mself\u001b[0m\u001b[0;34m.\u001b[0m\u001b[0mraw_data\u001b[0m\u001b[0;34m[\u001b[0m\u001b[0mself\u001b[0m\u001b[0;34m.\u001b[0m\u001b[0mraw_data\u001b[0m\u001b[0;34m[\u001b[0m\u001b[0;34m'user_id'\u001b[0m\u001b[0;34m]\u001b[0m\u001b[0;34m==\u001b[0m\u001b[0muser\u001b[0m\u001b[0;34m]\u001b[0m\u001b[0;34m\u001b[0m\u001b[0;34m\u001b[0m\u001b[0m\n\u001b[0;32m--> 115\u001b[0;31m         \u001b[0msongs_similarity\u001b[0m \u001b[0;34m=\u001b[0m \u001b[0mself\u001b[0m\u001b[0;34m.\u001b[0m\u001b[0mitems_embedding\u001b[0m\u001b[0;34m[\u001b[0m\u001b[0mnp\u001b[0m\u001b[0;34m.\u001b[0m\u001b[0marray\u001b[0m\u001b[0;34m(\u001b[0m\u001b[0muser_raw_data\u001b[0m\u001b[0;34m[\u001b[0m\u001b[0;34m'item_id'\u001b[0m\u001b[0;34m]\u001b[0m\u001b[0;34m)\u001b[0m\u001b[0;34m,\u001b[0m\u001b[0;34m:\u001b[0m\u001b[0;34m]\u001b[0m\u001b[0;34m.\u001b[0m\u001b[0mdot\u001b[0m\u001b[0;34m(\u001b[0m\u001b[0mself\u001b[0m\u001b[0;34m.\u001b[0m\u001b[0mitems_embedding\u001b[0m\u001b[0;34m[\u001b[0m\u001b[0mitem\u001b[0m\u001b[0;34m]\u001b[0m\u001b[0;34m)\u001b[0m\u001b[0;34m\u001b[0m\u001b[0;34m\u001b[0m\u001b[0m\n\u001b[0m\u001b[1;32m    116\u001b[0m \u001b[0;34m\u001b[0m\u001b[0m\n\u001b[1;32m    117\u001b[0m         \u001b[0;31m# compute estimated_time_bonus\u001b[0m\u001b[0;34m\u001b[0m\u001b[0;34m\u001b[0m\u001b[0;34m\u001b[0m\u001b[0m\n",
      "\u001b[0;31mIndexError\u001b[0m: index 1682 is out of bounds for axis 0 with size 1682"
     ]
    }
   ],
   "source": [
    "t1 = time.perf_counter()\n",
    "draw_regret_bound('random', nb_arms=3, nb_exp=100, nb_steps=100)\n",
    "t2 = time.perf_counter()"
   ]
  },
  {
   "cell_type": "markdown",
   "metadata": {},
   "source": [
    "## Result by using UCB Agent"
   ]
  },
  {
   "cell_type": "code",
   "execution_count": 134,
   "metadata": {},
   "outputs": [],
   "source": [
    "ucb = UCB(nb_arms = 3, n_user=943, n_item=1682, seed=0)"
   ]
  },
  {
   "cell_type": "code",
   "execution_count": 258,
   "metadata": {},
   "outputs": [],
   "source": [
    "res_ucb = run_exp(ucb, env, nb_steps=5, nb_arms=3, env_seed=0)"
   ]
  },
  {
   "cell_type": "code",
   "execution_count": 259,
   "metadata": {},
   "outputs": [
    {
     "data": {
      "text/plain": [
       "{'reward': array([10.77, 10.24, 10.48]),\n",
       " 'regret': array([1.46, 1.86, 1.51]),\n",
       " 'rewards': array([[2.23, 2.06, 2.14],\n",
       "        [2.12, 2.02, 2.11],\n",
       "        [2.19, 1.92, 2.18],\n",
       "        [2.07, 1.96, 2.12],\n",
       "        [2.16, 2.27, 1.92]]),\n",
       " 'regrets': array([[0.06, 0.23, 0.15],\n",
       "        [0.21, 0.3 , 0.21],\n",
       "        [0.34, 0.61, 0.25],\n",
       "        [0.14, 0.23, 0.08],\n",
       "        [0.72, 0.49, 0.83]]),\n",
       " 'actions': array([[1269.,  881.,  212.],\n",
       "        [1291.,  935., 1517.],\n",
       "        [ 388., 1475.,  830.],\n",
       "        [1160.,  800., 1295.],\n",
       "        [1256., 1401., 1419.]]),\n",
       " 'cum_rewards': array([[ 2.23,  2.06,  2.14],\n",
       "        [ 4.35,  4.08,  4.25],\n",
       "        [ 6.54,  6.01,  6.43],\n",
       "        [ 8.61,  7.97,  8.55],\n",
       "        [10.77, 10.24, 10.48]]),\n",
       " 'cum_regrets': array([[0.06, 0.23, 0.15],\n",
       "        [0.27, 0.53, 0.36],\n",
       "        [0.61, 1.14, 0.61],\n",
       "        [0.75, 1.37, 0.68],\n",
       "        [1.46, 1.86, 1.51]])}"
      ]
     },
     "execution_count": 259,
     "metadata": {},
     "output_type": "execute_result"
    }
   ],
   "source": [
    "res_ucb"
   ]
  },
  {
   "cell_type": "code",
   "execution_count": 264,
   "metadata": {},
   "outputs": [
    {
     "data": {
      "image/png": "[encoded data removed]",
      "text/plain": [
       "<Figure size 432x288 with 1 Axes>"
      ]
     },
     "metadata": {
      "needs_background": "light"
     },
     "output_type": "display_data"
    }
   ],
   "source": [
    "\n",
    "regret = np.zeros(10)\n",
    "regrets = np.zeros((10, 5))\n",
    "for i in range(10):\n",
    "    regret[i] = np.sum(res_ucb['regret'])\n",
    "    regrets[i] = np.sum(res_ucb['cum_regrets'], axis = 1) \n",
    "        \n",
    "plt.plot(regrets.mean(axis=0), color='blue')\n",
    "plt.plot(np.quantile(regrets, 0.05,axis=0), color='grey', alpha=0.5)\n",
    "plt.plot(np.quantile(regrets, 0.95,axis=0), color='grey', alpha=0.5)\n",
    "plt.title('Mean regret: {:.2f}'.format(regret.mean()))\n",
    "plt.xlabel('steps')\n",
    "plt.ylabel('regret')\n",
    "plt.show()    "
   ]
  },
  {
   "cell_type": "code",
   "execution_count": 297,
   "metadata": {},
   "outputs": [
    {
     "data": {
      "image/png": "[encoded data removed]",
      "text/plain": [
       "<Figure size 432x288 with 1 Axes>"
      ]
     },
     "metadata": {
      "needs_background": "light"
     },
     "output_type": "display_data"
    }
   ],
   "source": [
    "t1 = time.perf_counter()\n",
    "draw_regret_bound('ucb', nb_arms=3, nb_exp=10, nb_steps=5)\n",
    "t2 = time.perf_counter()"
   ]
  },
  {
   "cell_type": "markdown",
   "metadata": {},
   "source": [
    "## Result by using Linear UCB Agent"
   ]
  },
  {
   "cell_type": "code",
   "execution_count": 138,
   "metadata": {},
   "outputs": [],
   "source": [
    "linear_ucb = LinUCB(nb_arms=3, n_user=943, n_item=700, c=2., seed=None, delta =0.1,alpha=0.1,lmbda=1,S=1 )"
   ]
  },
  {
   "cell_type": "code",
   "execution_count": 139,
   "metadata": {},
   "outputs": [],
   "source": [
    "def run_exp_linear_ucb(agent, env, nb_steps, nb_arms,env_seed):\n",
    "    rewards_list = np.zeros((nb_steps, nb_arms))\n",
    "    regrets_list = np.zeros((nb_steps, nb_arms))\n",
    "    actions_list = np.zeros((nb_steps, nb_arms))\n",
    "    context = env.reset(data = None, seed = env_seed)\n",
    "\n",
    "    for i in range(nb_steps):\n",
    "        # Select action from agent policy.\n",
    "        payoffs, actions = agent.act(context)\n",
    "        \n",
    "        # Play action in the environment and get reward.\n",
    "        rewards, next_context, done, optimal_return = env.step(actions)\n",
    "        \n",
    "        # Update history\n",
    "        user = context[0][0]\n",
    "        #item = context[action][1]\n",
    "        items = np.array([context[a][1] for a in actions])  # a list of [user_id, item_id, ]\n",
    "        rating = rewards\n",
    "        \n",
    "        # Update agent.\n",
    "        agent.update(context, actions, payoffs, rewards)\n",
    "        context = next_context\n",
    "        \n",
    "        # Save history.\n",
    "        rewards_list[i] = rewards\n",
    "        actions_list[i] = actions\n",
    "        regrets_list[i] = optimal_return - rewards\n",
    "\n",
    "    reward = np.sum(rewards_list, axis = 0)\n",
    "    regret = np.sum(regrets_list, axis = 0)\n",
    " \n",
    "    return {'reward': reward, \n",
    "            'regret': regret,\n",
    "            'rewards': rewards_list,\n",
    "            'regrets': regrets_list,\n",
    "            'actions': actions_list,\n",
    "            'cum_rewards': np.cumsum(rewards_list, axis = 0), \n",
    "            'cum_regrets': np.cumsum(regrets_list, axis = 0),\n",
    "            }\n",
    "\n"
   ]
  },
  {
   "cell_type": "code",
   "execution_count": 142,
   "metadata": {},
   "outputs": [],
   "source": [
    "res_linear_ucb = run_exp_linear_ucb(linear_ucb, env, nb_steps=5, nb_arms=3, env_seed=0)"
   ]
  },
  {
   "cell_type": "code",
   "execution_count": 143,
   "metadata": {},
   "outputs": [
    {
     "data": {
      "text/plain": [
       "{'reward': array([11.11, 10.81, 10.87]),\n",
       " 'regret': array([1.51, 1.79, 1.59]),\n",
       " 'rewards': array([[1.93, 1.95, 2.07],\n",
       "        [1.97, 1.94, 2.19],\n",
       "        [2.23, 2.17, 2.28],\n",
       "        [2.94, 2.67, 2.49],\n",
       "        [2.04, 2.08, 1.83]]),\n",
       " 'regrets': array([[0.35, 0.33, 0.21],\n",
       "        [0.37, 0.4 , 0.15],\n",
       "        [0.34, 0.4 , 0.24],\n",
       "        [0.24, 0.51, 0.58],\n",
       "        [0.21, 0.16, 0.41]]),\n",
       " 'actions': array([[556., 534., 519.],\n",
       "        [250., 443., 619.],\n",
       "        [685., 233., 287.],\n",
       "        [158., 647., 668.],\n",
       "        [396., 699., 310.]]),\n",
       " 'cum_rewards': array([[ 1.93,  1.95,  2.07],\n",
       "        [ 3.9 ,  3.89,  4.26],\n",
       "        [ 6.13,  6.05,  6.55],\n",
       "        [ 9.07,  8.73,  9.04],\n",
       "        [11.11, 10.81, 10.87]]),\n",
       " 'cum_regrets': array([[0.35, 0.33, 0.21],\n",
       "        [0.72, 0.73, 0.35],\n",
       "        [1.06, 1.13, 0.59],\n",
       "        [1.3 , 1.64, 1.18],\n",
       "        [1.51, 1.79, 1.59]])}"
      ]
     },
     "execution_count": 143,
     "metadata": {},
     "output_type": "execute_result"
    }
   ],
   "source": [
    "res_linear_ucb"
   ]
  },
  {
   "cell_type": "code",
   "execution_count": 145,
   "metadata": {},
   "outputs": [],
   "source": [
    "def draw_regret_bound_linear_ucb(nb_arms, nb_exp, nb_steps):\n",
    "    '''\n",
    "    Repeat environment-agent interations and draw regret bound for a given agent\n",
    "    '''    \n",
    "    regret = np.zeros(nb_exp)\n",
    "    regrets = np.zeros((nb_exp, nb_steps))\n",
    "    for i in range(nb_exp):\n",
    "        env = music_rec_env(data = df, seed = i)\n",
    "        agent = LinUCB(nb_arms=3, n_user=943, n_item=700, c=2., seed=None, delta =0.1,alpha=0.1,lmbda=1,S=1 )\n",
    "        exp = run_exp_linear_ucb(agent, env, nb_steps, nb_arms, env_seed=2*i)\n",
    "        \n",
    "        regret[i] = np.sum(exp['regret'])\n",
    "        regrets[i] = np.sum(exp['cum_regrets'], axis = 1) \n",
    "        \n",
    "    plt.plot(regrets.mean(axis=0), color='blue')\n",
    "    plt.plot(np.quantile(regrets, 0.05,axis=0), color='grey', alpha=0.5)\n",
    "    plt.plot(np.quantile(regrets, 0.95,axis=0), color='grey', alpha=0.5)\n",
    "    plt.title('Mean regret: {:.2f}'.format(regret.mean()))\n",
    "    plt.xlabel('steps')\n",
    "    plt.ylabel('regret')\n",
    "    plt.show()   \n",
    "    \n",
    "    "
   ]
  },
  {
   "cell_type": "code",
   "execution_count": 146,
   "metadata": {},
   "outputs": [
    {
     "data": {
      "image/png": "[encoded data removed]",
      "text/plain": [
       "<Figure size 432x288 with 1 Axes>"
      ]
     },
     "metadata": {
      "needs_background": "light"
     },
     "output_type": "display_data"
    }
   ],
   "source": [
    "t1 = time.perf_counter()\n",
    "draw_regret_bound_linear_ucb(nb_arms=3, nb_exp=10, nb_steps=5)\n",
    "t2 = time.perf_counter()"
   ]
  },
  {
   "cell_type": "code",
   "execution_count": 147,
   "metadata": {},
   "outputs": [
    {
     "data": {
      "text/plain": [
       "349.5711040820024"
      ]
     },
     "execution_count": 147,
     "metadata": {},
     "output_type": "execute_result"
    }
   ],
   "source": [
    "t2-t1"
   ]
  },
  {
   "cell_type": "code",
   "execution_count": 528,
   "metadata": {},
   "outputs": [
    {
     "data": {
      "image/png": "[encoded data removed]",
      "text/plain": [
       "<Figure size 432x288 with 1 Axes>"
      ]
     },
     "metadata": {
      "needs_background": "light"
     },
     "output_type": "display_data"
    }
   ],
   "source": [
    "t1 = time.perf_counter()\n",
    "draw_regret_bound_linear_ucb(nb_arms=3, nb_exp=10, nb_steps=5)\n",
    "t2 = time.perf_counter()"
   ]
  }
 ],
 "metadata": {
  "kernelspec": {
   "display_name": "Python 3",
   "language": "python",
   "name": "python3"
  },
  "language_info": {
   "codemirror_mode": {
    "name": "ipython",
    "version": 3
   },
   "file_extension": ".py",
   "mimetype": "text/x-python",
   "name": "python",
   "nbconvert_exporter": "python",
   "pygments_lexer": "ipython3",
   "version": "3.6.8"
  }
 },
 "nbformat": 4,
 "nbformat_minor": 2
}
