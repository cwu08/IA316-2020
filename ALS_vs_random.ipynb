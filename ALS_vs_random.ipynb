{
 "cells": [
  {
   "cell_type": "markdown",
   "metadata": {},
   "source": [
    "# <center> Music Recommender System"
   ]
  },
  {
   "cell_type": "markdown",
   "metadata": {},
   "source": [
    "We draw inspiration from Spotify's \"Discover Weekly\" service and aim to recommend a list of songs to each user according to his preference."
   ]
  },
  {
   "cell_type": "code",
   "execution_count": 1,
   "metadata": {},
   "outputs": [],
   "source": [
    "%matplotlib inline\n",
    "import numpy as np\n",
    "import matplotlib.pyplot as plt\n",
    "from copy import copy, deepcopy\n",
    "import random\n",
    "from scipy.stats import norm\n",
    "import pandas as pd\n",
    "from sklearn.preprocessing import MinMaxScaler\n",
    "import time"
   ]
  },
  {
   "cell_type": "markdown",
   "metadata": {},
   "source": [
    "## Import Data "
   ]
  },
  {
   "cell_type": "code",
   "execution_count": 3,
   "metadata": {},
   "outputs": [
    {
     "data": {
      "text/html": [
       "<div>\n",
       "<style scoped>\n",
       "    .dataframe tbody tr th:only-of-type {\n",
       "        vertical-align: middle;\n",
       "    }\n",
       "\n",
       "    .dataframe tbody tr th {\n",
       "        vertical-align: top;\n",
       "    }\n",
       "\n",
       "    .dataframe thead th {\n",
       "        text-align: right;\n",
       "    }\n",
       "</style>\n",
       "<table border=\"1\" class=\"dataframe\">\n",
       "  <thead>\n",
       "    <tr style=\"text-align: right;\">\n",
       "      <th></th>\n",
       "      <th>user_id</th>\n",
       "      <th>item_id</th>\n",
       "      <th>listening_time_in_scale_0-5</th>\n",
       "      <th>title</th>\n",
       "      <th>duration</th>\n",
       "      <th>loudness</th>\n",
       "      <th>tempo</th>\n",
       "      <th>key</th>\n",
       "      <th>event_type</th>\n",
       "    </tr>\n",
       "  </thead>\n",
       "  <tbody>\n",
       "    <tr>\n",
       "      <th>0</th>\n",
       "      <td>196</td>\n",
       "      <td>242</td>\n",
       "      <td>4.06</td>\n",
       "      <td>Atmosphere Station</td>\n",
       "      <td>191.81669</td>\n",
       "      <td>-38.525</td>\n",
       "      <td>90.084</td>\n",
       "      <td>9</td>\n",
       "      <td>\"Listen it frequently\"\"View Song Information\"\"...</td>\n",
       "    </tr>\n",
       "    <tr>\n",
       "      <th>1</th>\n",
       "      <td>63</td>\n",
       "      <td>242</td>\n",
       "      <td>3.24</td>\n",
       "      <td>Atmosphere Station</td>\n",
       "      <td>191.81669</td>\n",
       "      <td>-38.525</td>\n",
       "      <td>90.084</td>\n",
       "      <td>9</td>\n",
       "      <td>\"Listen it frequently\"\"Like\"\"View Song Informa...</td>\n",
       "    </tr>\n",
       "    <tr>\n",
       "      <th>2</th>\n",
       "      <td>154</td>\n",
       "      <td>242</td>\n",
       "      <td>4.34</td>\n",
       "      <td>Atmosphere Station</td>\n",
       "      <td>191.81669</td>\n",
       "      <td>-38.525</td>\n",
       "      <td>90.084</td>\n",
       "      <td>9</td>\n",
       "      <td>\"Listen it frequently\"\"Like\"\"View Song Informa...</td>\n",
       "    </tr>\n",
       "    <tr>\n",
       "      <th>3</th>\n",
       "      <td>34</td>\n",
       "      <td>242</td>\n",
       "      <td>3.57</td>\n",
       "      <td>Atmosphere Station</td>\n",
       "      <td>191.81669</td>\n",
       "      <td>-38.525</td>\n",
       "      <td>90.084</td>\n",
       "      <td>9</td>\n",
       "      <td>\"Have listened  it completely\"\"View Song Infor...</td>\n",
       "    </tr>\n",
       "    <tr>\n",
       "      <th>4</th>\n",
       "      <td>35</td>\n",
       "      <td>242</td>\n",
       "      <td>3.09</td>\n",
       "      <td>Atmosphere Station</td>\n",
       "      <td>191.81669</td>\n",
       "      <td>-38.525</td>\n",
       "      <td>90.084</td>\n",
       "      <td>9</td>\n",
       "      <td>\"Have listened  it completely\"\"View Song Infor...</td>\n",
       "    </tr>\n",
       "  </tbody>\n",
       "</table>\n",
       "</div>"
      ],
      "text/plain": [
       "   user_id  item_id  listening_time_in_scale_0-5               title  \\\n",
       "0      196      242                         4.06  Atmosphere Station   \n",
       "1       63      242                         3.24  Atmosphere Station   \n",
       "2      154      242                         4.34  Atmosphere Station   \n",
       "3       34      242                         3.57  Atmosphere Station   \n",
       "4       35      242                         3.09  Atmosphere Station   \n",
       "\n",
       "    duration  loudness   tempo  key  \\\n",
       "0  191.81669   -38.525  90.084    9   \n",
       "1  191.81669   -38.525  90.084    9   \n",
       "2  191.81669   -38.525  90.084    9   \n",
       "3  191.81669   -38.525  90.084    9   \n",
       "4  191.81669   -38.525  90.084    9   \n",
       "\n",
       "                                          event_type  \n",
       "0  \"Listen it frequently\"\"View Song Information\"\"...  \n",
       "1  \"Listen it frequently\"\"Like\"\"View Song Informa...  \n",
       "2  \"Listen it frequently\"\"Like\"\"View Song Informa...  \n",
       "3  \"Have listened  it completely\"\"View Song Infor...  \n",
       "4  \"Have listened  it completely\"\"View Song Infor...  "
      ]
     },
     "execution_count": 3,
     "metadata": {},
     "output_type": "execute_result"
    }
   ],
   "source": [
    "df = pd.read_csv(\"smaller_songs_dataset.csv\")\n",
    "df.head()"
   ]
  },
  {
   "cell_type": "code",
   "execution_count": 4,
   "metadata": {},
   "outputs": [
    {
     "data": {
      "text/plain": [
       "\"Listen it frequently\"\"Download\"                                                               286\n",
       "\"Have listened  it completely\"\"Like\"\"View Song Information\"\"Download\"                          283\n",
       "\"Listen it frequently\"\"Add it to your music\"                                                   282\n",
       "\"Have listened  it completely\"\"View Song Information\"\"Add it to your music\"                    279\n",
       "\"Skip it\"\"Not recommend it anymore\"                                                            278\n",
       "\"Listen it frequently\"\"Like\"\"View Song Information\"                                            275\n",
       "\"Have listened  it completely\"\"Download\"                                                       273\n",
       "\"Skip it frequently\"\"Not recommend it anymore\"                                                 273\n",
       "\"Listen it frequently\"\"Like\"\"Download\"                                                         272\n",
       "\"Have listened  it completely\"\"Like\"\"Add it to your music\"                                     270\n",
       "\"Have listened  it completely\"\"Like\"\"View Song Information\"                                    269\n",
       "\"Have listened  it completely\"\"Like\"                                                           268\n",
       "\"Skip it\"                                                                                      265\n",
       "\"Listen it frequently\"\"Like\"\"View Song Information\"\"Add it to your music\"                      265\n",
       "\"Listen it frequently\"                                                                         264\n",
       "\"Have listened  it completely\"\"Like\"\"Download\"                                                 264\n",
       "\"Listen it frequently\"\"View Song Information\"                                                  261\n",
       "\"Listen it frequently\"\"View Song Information\"\"Add it to your music\"\"Download\"                  261\n",
       "\"Have listened  it completely\"\"Like\"\"Add it to your music\"\"Download\"                           261\n",
       "\"Listen it frequently\"\"View Song Information\"\"Download\"                                        260\n",
       "\"Listen it frequently\"\"Like\"\"Add it to your music\"\"Download\"                                   260\n",
       "\"Listen it frequently\"\"View Song Information\"\"Add it to your music\"                            257\n",
       "\"Listen it frequently\"\"Like\"\"View Song Information\"\"Download\"                                  257\n",
       "\"Have listened  it completely\"                                                                 257\n",
       "\"Have listened  it completely\"\"View Song Information\"\"Add it to your music\"\"Download\"          255\n",
       "\"Have listened  it completely\"\"Add it to your music\"                                           254\n",
       "\"Listen it frequently\"\"Like\"\"Add it to your music\"                                             254\n",
       "\"Have listened  it completely\"\"Like\"\"View Song Information\"\"Add it to your music\"              252\n",
       "\"Listen it frequently\"\"Like\"\"View Song Information\"\"Add it to your music\"\"Download\"            250\n",
       "\"Have listened  it completely\"\"View Song Information\"\"Download\"                                249\n",
       "\"Have listened  it completely\"\"Add it to your music\"\"Download\"                                 248\n",
       "\"Skip it frequently\"                                                                           248\n",
       "\"Listen it frequently\"\"Add it to your music\"\"Download\"                                         246\n",
       "\"Listen it frequently\"\"Like\"                                                                   240\n",
       "\"Have listened  it completely\"\"Like\"\"View Song Information\"\"Add it to your music\"\"Download\"    240\n",
       "\"Have listened  it completely\"\"View Song Information\"                                          233\n",
       "Name: event_type, dtype: int64"
      ]
     },
     "execution_count": 4,
     "metadata": {},
     "output_type": "execute_result"
    }
   ],
   "source": [
    "df['event_type'].value_counts()"
   ]
  },
  {
   "cell_type": "code",
   "execution_count": 5,
   "metadata": {},
   "outputs": [
    {
     "name": "stdout",
     "output_type": "stream",
     "text": [
      "<class 'pandas.core.frame.DataFrame'>\n",
      "RangeIndex: 9409 entries, 0 to 9408\n",
      "Data columns (total 9 columns):\n",
      " #   Column                       Non-Null Count  Dtype  \n",
      "---  ------                       --------------  -----  \n",
      " 0   user_id                      9409 non-null   int64  \n",
      " 1   item_id                      9409 non-null   int64  \n",
      " 2   listening_time_in_scale_0-5  9409 non-null   float64\n",
      " 3   title                        9409 non-null   object \n",
      " 4   duration                     9409 non-null   float64\n",
      " 5   loudness                     9409 non-null   float64\n",
      " 6   tempo                        9409 non-null   float64\n",
      " 7   key                          9409 non-null   int64  \n",
      " 8   event_type                   9409 non-null   object \n",
      "dtypes: float64(4), int64(3), object(2)\n",
      "memory usage: 661.7+ KB\n"
     ]
    }
   ],
   "source": [
    "df.info()"
   ]
  },
  {
   "cell_type": "code",
   "execution_count": 6,
   "metadata": {},
   "outputs": [
    {
     "data": {
      "text/plain": [
       "1      272\n",
       "13     191\n",
       "92     181\n",
       "94     160\n",
       "59     159\n",
       "      ... \n",
       "61       6\n",
       "147      5\n",
       "111      5\n",
       "36       5\n",
       "88       3\n",
       "Name: user_id, Length: 200, dtype: int64"
      ]
     },
     "execution_count": 6,
     "metadata": {},
     "output_type": "execute_result"
    }
   ],
   "source": [
    "df['user_id'].value_counts()"
   ]
  },
  {
   "cell_type": "code",
   "execution_count": 7,
   "metadata": {},
   "outputs": [
    {
     "data": {
      "text/plain": [
       "50     118\n",
       "258    116\n",
       "100    105\n",
       "294    102\n",
       "286    100\n",
       "      ... \n",
       "146      2\n",
       "296      2\n",
       "74       1\n",
       "75       1\n",
       "119      1\n",
       "Name: item_id, Length: 300, dtype: int64"
      ]
     },
     "execution_count": 7,
     "metadata": {},
     "output_type": "execute_result"
    }
   ],
   "source": [
    "df['item_id'].value_counts()"
   ]
  },
  {
   "cell_type": "markdown",
   "metadata": {},
   "source": [
    "## Data Preprocessing "
   ]
  },
  {
   "cell_type": "markdown",
   "metadata": {},
   "source": [
    "Define strength for each event in 'event_type'\n",
    "\n",
    "Quantify implicit event feedback "
   ]
  },
  {
   "cell_type": "code",
   "execution_count": 8,
   "metadata": {},
   "outputs": [],
   "source": [
    "# event --> strength\n",
    "event_type_strength = {\n",
    "    'Listen it frequently': 3.0,\n",
    "    'Have listened  it completely': 1.0,\n",
    "    'Like': 1.0,\n",
    "    'View Song Information': 1.0,\n",
    "    'Download': 3.0,\n",
    "    'Add it to your music': 2.0,\n",
    "    'Skip it':  -1.0, \n",
    "    'Skip it frequently': -3.0,\n",
    "    'Not recommend it anymore': -2.0}"
   ]
  },
  {
   "cell_type": "code",
   "execution_count": 9,
   "metadata": {},
   "outputs": [],
   "source": [
    "# extract event into a list from a string\n",
    "df['event_type'] = df['event_type'].apply(lambda x: [e for e in x.split(\"\\\"\") if len(e)])\n",
    "\n",
    "# add a column event_strength\n",
    "df['event_strength'] = df['event_type'].apply(lambda x: np.sum([event_type_strength[e] for e in x]))"
   ]
  },
  {
   "cell_type": "code",
   "execution_count": 10,
   "metadata": {},
   "outputs": [
    {
     "data": {
      "text/plain": [
       " 6.0     1328\n",
       " 4.0     1323\n",
       " 5.0     1322\n",
       " 7.0     1313\n",
       " 3.0      787\n",
       " 8.0      743\n",
       "-3.0      526\n",
       " 9.0      521\n",
       " 2.0      501\n",
       "-5.0      273\n",
       "-1.0      265\n",
       " 1.0      257\n",
       " 10.0     250\n",
       "Name: event_strength, dtype: int64"
      ]
     },
     "execution_count": 10,
     "metadata": {},
     "output_type": "execute_result"
    }
   ],
   "source": [
    "# stats on event strength\n",
    "df['event_strength'].value_counts()"
   ]
  },
  {
   "cell_type": "code",
   "execution_count": 11,
   "metadata": {},
   "outputs": [
    {
     "data": {
      "text/html": [
       "<div>\n",
       "<style scoped>\n",
       "    .dataframe tbody tr th:only-of-type {\n",
       "        vertical-align: middle;\n",
       "    }\n",
       "\n",
       "    .dataframe tbody tr th {\n",
       "        vertical-align: top;\n",
       "    }\n",
       "\n",
       "    .dataframe thead th {\n",
       "        text-align: right;\n",
       "    }\n",
       "</style>\n",
       "<table border=\"1\" class=\"dataframe\">\n",
       "  <thead>\n",
       "    <tr style=\"text-align: right;\">\n",
       "      <th></th>\n",
       "      <th>user_id</th>\n",
       "      <th>item_id</th>\n",
       "      <th>listening_time_in_scale_0-5</th>\n",
       "      <th>title</th>\n",
       "      <th>duration</th>\n",
       "      <th>loudness</th>\n",
       "      <th>tempo</th>\n",
       "      <th>key</th>\n",
       "      <th>event_type</th>\n",
       "      <th>event_strength</th>\n",
       "    </tr>\n",
       "  </thead>\n",
       "  <tbody>\n",
       "    <tr>\n",
       "      <th>0</th>\n",
       "      <td>196</td>\n",
       "      <td>242</td>\n",
       "      <td>4.06</td>\n",
       "      <td>Atmosphere Station</td>\n",
       "      <td>191.81669</td>\n",
       "      <td>-38.525</td>\n",
       "      <td>90.084</td>\n",
       "      <td>9</td>\n",
       "      <td>[Listen it frequently, View Song Information, ...</td>\n",
       "      <td>7.0</td>\n",
       "    </tr>\n",
       "    <tr>\n",
       "      <th>1</th>\n",
       "      <td>63</td>\n",
       "      <td>242</td>\n",
       "      <td>3.24</td>\n",
       "      <td>Atmosphere Station</td>\n",
       "      <td>191.81669</td>\n",
       "      <td>-38.525</td>\n",
       "      <td>90.084</td>\n",
       "      <td>9</td>\n",
       "      <td>[Listen it frequently, Like, View Song Informa...</td>\n",
       "      <td>5.0</td>\n",
       "    </tr>\n",
       "    <tr>\n",
       "      <th>2</th>\n",
       "      <td>154</td>\n",
       "      <td>242</td>\n",
       "      <td>4.34</td>\n",
       "      <td>Atmosphere Station</td>\n",
       "      <td>191.81669</td>\n",
       "      <td>-38.525</td>\n",
       "      <td>90.084</td>\n",
       "      <td>9</td>\n",
       "      <td>[Listen it frequently, Like, View Song Informa...</td>\n",
       "      <td>7.0</td>\n",
       "    </tr>\n",
       "    <tr>\n",
       "      <th>3</th>\n",
       "      <td>34</td>\n",
       "      <td>242</td>\n",
       "      <td>3.57</td>\n",
       "      <td>Atmosphere Station</td>\n",
       "      <td>191.81669</td>\n",
       "      <td>-38.525</td>\n",
       "      <td>90.084</td>\n",
       "      <td>9</td>\n",
       "      <td>[Have listened  it completely, View Song Infor...</td>\n",
       "      <td>5.0</td>\n",
       "    </tr>\n",
       "    <tr>\n",
       "      <th>4</th>\n",
       "      <td>35</td>\n",
       "      <td>242</td>\n",
       "      <td>3.09</td>\n",
       "      <td>Atmosphere Station</td>\n",
       "      <td>191.81669</td>\n",
       "      <td>-38.525</td>\n",
       "      <td>90.084</td>\n",
       "      <td>9</td>\n",
       "      <td>[Have listened  it completely, View Song Infor...</td>\n",
       "      <td>4.0</td>\n",
       "    </tr>\n",
       "  </tbody>\n",
       "</table>\n",
       "</div>"
      ],
      "text/plain": [
       "   user_id  item_id  listening_time_in_scale_0-5               title  \\\n",
       "0      196      242                         4.06  Atmosphere Station   \n",
       "1       63      242                         3.24  Atmosphere Station   \n",
       "2      154      242                         4.34  Atmosphere Station   \n",
       "3       34      242                         3.57  Atmosphere Station   \n",
       "4       35      242                         3.09  Atmosphere Station   \n",
       "\n",
       "    duration  loudness   tempo  key  \\\n",
       "0  191.81669   -38.525  90.084    9   \n",
       "1  191.81669   -38.525  90.084    9   \n",
       "2  191.81669   -38.525  90.084    9   \n",
       "3  191.81669   -38.525  90.084    9   \n",
       "4  191.81669   -38.525  90.084    9   \n",
       "\n",
       "                                          event_type  event_strength  \n",
       "0  [Listen it frequently, View Song Information, ...             7.0  \n",
       "1  [Listen it frequently, Like, View Song Informa...             5.0  \n",
       "2  [Listen it frequently, Like, View Song Informa...             7.0  \n",
       "3  [Have listened  it completely, View Song Infor...             5.0  \n",
       "4  [Have listened  it completely, View Song Infor...             4.0  "
      ]
     },
     "execution_count": 11,
     "metadata": {},
     "output_type": "execute_result"
    }
   ],
   "source": [
    "df.head()"
   ]
  },
  {
   "cell_type": "markdown",
   "metadata": {},
   "source": [
    "## Spotify environment "
   ]
  },
  {
   "cell_type": "code",
   "execution_count": 12,
   "metadata": {},
   "outputs": [],
   "source": [
    "def random_argmax(rng, list_):\n",
    "    \"\"\" return a random element among max when multiple max exists.\"\"\"\n",
    "    return rng.choice(np.argwhere(list_ == list_.max()).flatten())"
   ]
  },
  {
   "cell_type": "code",
   "execution_count": 13,
   "metadata": {},
   "outputs": [],
   "source": [
    "np.set_printoptions(precision=2)"
   ]
  },
  {
   "cell_type": "code",
   "execution_count": 14,
   "metadata": {},
   "outputs": [],
   "source": [
    "class music_rec_env:\n",
    "    \"\"\" A rating environment that simulates Spotify.\n",
    "        User and items are represented by points in R^3 modelling song style (loudness, tempo, key) \n",
    "        User interest for a given item is modeled by 3 parts:\n",
    "        1. dot product of user,item embedding vector (cosine similarity, style coherence)\n",
    "        2. user listening time estimation\n",
    "        3. user event estimation (event_strength)\n",
    "        action: Recommend a song list for a given user among those he has never listened to before\n",
    "    \"\"\"\n",
    "    \n",
    "    def __init__(self, data, seed=None,\n",
    "                 internal_embedding_size=3,\n",
    "                 displayed_users_embedding_size=2,\n",
    "                 displayed_items_embedding_size=2,\n",
    "                 noise_size=2):\n",
    "        self.raw_data = data  # pandas dataframe with 'user_id', 'item_id' columns\n",
    "        self.nb_users = len(df['user_id'].value_counts())\n",
    "        self.nb_items = len(df['item_id'].value_counts())\n",
    "        self.internal_embedding_size = internal_embedding_size\n",
    "        self.displayed_users_embedding_size = displayed_users_embedding_size\n",
    "        self.displayed_items_embedding_size = displayed_items_embedding_size\n",
    "        self.noise_size = noise_size\n",
    "        self._rng = np.random.RandomState(seed)\n",
    "        \n",
    "        self.action_size = self.nb_items\n",
    "        self.sampling_limit = self.nb_users * self.nb_items\n",
    "        self.users_embedding = None\n",
    "        self.items_embedding = None\n",
    "        self.user_item_history = None\n",
    "        self.done = False\n",
    "\n",
    "    def step(self, action_list):\n",
    "        # check if behind done\n",
    "        if self.done:\n",
    "            print(\"Calling step after it returns done=True.\\n\"\n",
    "                  \"Please reset the environment.\")\n",
    "\n",
    "        # compute potential rewards\n",
    "        potential_rewards = [self._get_user_item_rating(self.current_user, i) \n",
    "                             for i in np.argwhere(self.user_item_history[self.current_user, :] == 0).flatten()]\n",
    "        \n",
    "        # compute optimal reward\n",
    "        optimal_returns = np.array(sorted(potential_rewards, reverse = True))[:len(action_list)]\n",
    "\n",
    "        # map actions to items\n",
    "        self.recommended_items = [np.argwhere(self.user_item_history[self.current_user, :] == 0)[action][0] for action in action_list]\n",
    "\n",
    "        # mark items as rated\n",
    "        self.user_item_history[self.current_user, self.recommended_items] = 1\n",
    "\n",
    "        # compute reward R_t\n",
    "        self.current_ratings = [self._get_user_item_rating(self.current_user, rec_item) for rec_item in self.recommended_items]\n",
    "        self.rewards = self.current_ratings\n",
    "        \n",
    "        # check if done\n",
    "        if self.user_item_history.sum() == self.sampling_limit:\n",
    "            self.done = True\n",
    "\n",
    "        # compute next state S_{t+1}\n",
    "        self._next_state()\n",
    "\n",
    "        # update action space t+1\n",
    "        self.action_size = len(self.available_items)\n",
    "\n",
    "        return self.rewards, self.state, self.done, optimal_returns\n",
    "\n",
    "    def reset(self, data=None, seed=None):\n",
    "        \n",
    "        if data:\n",
    "            self.raw_data = data\n",
    "            \n",
    "        if seed:\n",
    "            self._rng = np.random.RandomState(seed)\n",
    " \n",
    "        # create item embedding matrix (song style features) \n",
    "        song_df = self.raw_data[['item_id','loudness','tempo','key']].drop_duplicates().sort_values(by = 'item_id')\n",
    "        style_raw_data = np.vstack((song_df['loudness'], song_df['tempo'],song_df['key'])).T\n",
    "        min_max_scaler = MinMaxScaler()\n",
    "        self.items_embedding = min_max_scaler.fit_transform(style_raw_data)\n",
    "        \n",
    "        # create user embedding matrix (song style preference features)\n",
    "        self.users_embedding = np.array([])\n",
    "        for user in np.array(sorted(self.raw_data['user_id'].unique())):\n",
    "            user_raw_data = self.raw_data[self.raw_data['user_id']==user]\n",
    "            tmp = user_raw_data[['loudness','tempo','key']].mul(user_raw_data['listening_time_in_scale_0-5'], axis=0)\n",
    "            tmp = tmp.div(user_raw_data['listening_time_in_scale_0-5'].sum())\n",
    "            user_unscaled_data = np.array(tmp.mean(axis=0))\n",
    "            self.users_embedding = np.append(self.users_embedding, user_unscaled_data)    \n",
    "        self.users_embedding = min_max_scaler.fit_transform(self.users_embedding.reshape(self.raw_data['user_id'].nunique(),3))    \n",
    "\n",
    "        # initialize history matrix, recommend history + listening history\n",
    "        # listening/reocmmend history = 1\n",
    "        self.user_item_history = np.zeros((self.nb_users, self.nb_items))\n",
    "        v_func = np.vectorize(self._get_listening_history)\n",
    "        v_func(a=np.array(self.raw_data['user_id']), b=np.array(self.raw_data['item_id']))\n",
    "        \n",
    "        self.done = False\n",
    "\n",
    "        self._next_state()\n",
    "        return self.state\n",
    "     \n",
    "    def _get_listening_history(self, a, b):\n",
    "        # record listening history in raw_data\n",
    "        # a: user_id, b: item_id, M: ndarray\n",
    "        self.user_item_history[a-1,b-1] = 1  # both id start from 1\n",
    "\n",
    "    def _get_user_item_rating(self, user, item): \n",
    "        # score = style_matching_score + estimated_time_bonus + estimated_event_bonus\n",
    "        # all 3 parts range from 0 to 1\n",
    "\n",
    "        # compute style_matching_score\n",
    "        style_matching_score = self.users_embedding[user].dot(self.items_embedding[item])\n",
    "        \n",
    "        user_raw_data = self.raw_data[self.raw_data['user_id']==user]\n",
    "        songs_similarity = self.items_embedding[np.array(user_raw_data['item_id'])-1,:].dot(self.items_embedding[item])\n",
    "        \n",
    "        # compute estimated_time_bonus   \n",
    "        unscaled_estimated_time_bonuses = user_raw_data['listening_time_in_scale_0-5'].mul(songs_similarity)\n",
    "        scaled_estimated_time_bonuses = unscaled_estimated_time_bonuses.div(np.sum(songs_similarity))\n",
    "        estimated_time_bonus = (scaled_estimated_time_bonuses.sum() - user_raw_data['listening_time_in_scale_0-5'].min())/ \\\n",
    "                               (user_raw_data['listening_time_in_scale_0-5'].max() - user_raw_data['listening_time_in_scale_0-5'].min())\n",
    "        \n",
    "        # compute estimated_event_bonus\n",
    "        unscaled_estimated_event_bonuses = user_raw_data['event_strength'].mul(songs_similarity)\n",
    "        scaled_estimated_event_bonuses = unscaled_estimated_event_bonuses.div(np.sum(songs_similarity))\n",
    "        estimated_event_bonus = (scaled_estimated_event_bonuses.sum() - user_raw_data['event_strength'].min())/ \\\n",
    "                                (user_raw_data['event_strength'].max() - user_raw_data['event_strength'].min())\n",
    "        \n",
    "      #  rand_engine = np.random.RandomState(0)    \n",
    "        unexplained_changes = np.random.normal(loc=0.0, scale=0.2)\n",
    "        score = style_matching_score + estimated_time_bonus + estimated_event_bonus + unexplained_changes\n",
    "        return score\n",
    "\n",
    "    def _get_variables(self, user, item):\n",
    "        user_embedding = self.users_embedding[user]\n",
    "        item_embedding = self.items_embedding[item]\n",
    "        if self.displayed_users_embedding_size + self.displayed_items_embedding_size > 0:\n",
    "            variables = np.array([user_embedding[:self.displayed_users_embedding_size],\n",
    "                                  item_embedding[:self.displayed_items_embedding_size]])\n",
    "\n",
    "            if self.noise_size > 0:\n",
    "                noise = self._rng.normal(loc=np.zeros(self.noise_size),\n",
    "                                         scale=np.ones(self.noise_size)/2,\n",
    "                                         size=self.noise_size)\n",
    "                variables = np.append(variables, noise)\n",
    "\n",
    "            return variables\n",
    "\n",
    "    def _get_new_user(self):\n",
    "        has_picked = False\n",
    "        user = self._rng.randint(0, self.nb_users)\n",
    "        # get a new user who hasn't tried all the songs\n",
    "        while np.sum(self.user_item_history[user, :]) == self.nb_items:\n",
    "            user = self._rng.randint(0, self.nb_users)\n",
    "        return user    \n",
    "\n",
    "    def _next_state(self):\n",
    "        # Pick a user\n",
    "        if self.user_item_history.sum() < self.sampling_limit: \n",
    "            self.current_user = self._get_new_user()\n",
    "        else:\n",
    "            self.current_user = None\n",
    "\n",
    "        # list available items\n",
    "        self.available_items = np.argwhere(self.user_item_history[self.current_user, :] == 0)\n",
    "\n",
    "        self.state = list()\n",
    "        for i in self.available_items:\n",
    "            item = i[0]   \n",
    "            # compute variables (part of the user, item embedding (with noise))\n",
    "            variables = self._get_variables(self.current_user, item)\n",
    "            self.state.append([self.current_user+1, item+1, variables])\n"
   ]
  },
  {
   "cell_type": "code",
   "execution_count": 15,
   "metadata": {},
   "outputs": [],
   "source": [
    "env =  music_rec_env(data = df, seed = 2020)"
   ]
  },
  {
   "cell_type": "code",
   "execution_count": 16,
   "metadata": {},
   "outputs": [
    {
     "data": {
      "text/plain": [
       "[[97, 2, array([ 0.94,  0.04,  0.79,  0.41,  0.18, -0.51])],\n",
       " [97, 3, array([ 0.94,  0.04,  0.8 ,  0.49,  0.05, -0.61])],\n",
       " [97, 4, array([ 0.94,  0.04,  0.93,  0.54,  0.99, -0.04])],\n",
       " [97, 5, array([ 0.94,  0.04,  0.8 ,  0.61, -0.42,  0.09])],\n",
       " [97, 6, array([ 0.94,  0.04,  0.58,  0.46, -0.13,  0.91])],\n",
       " [97, 8, array([ 0.94,  0.04,  0.68,  0.36, -0.2 , -0.01])],\n",
       " [97, 9, array([ 0.94,  0.04,  0.87,  0.47,  0.03, -1.32])],\n",
       " [97, 10, array([ 0.94,  0.04,  0.78,  0.61, -0.62, -0.79])],\n",
       " [97, 11, array([ 0.94,  0.04,  0.84,  0.49, -0.15, -0.56])],\n",
       " [97, 12, array([ 0.94,  0.04,  0.87,  0.54,  0.4 , -0.29])]]"
      ]
     },
     "execution_count": 16,
     "metadata": {},
     "output_type": "execute_result"
    }
   ],
   "source": [
    "env.reset(seed=2020)[:10]  # user, available_item, user_item_feature with noise"
   ]
  },
  {
   "cell_type": "code",
   "execution_count": 17,
   "metadata": {},
   "outputs": [
    {
     "data": {
      "text/plain": [
       "array([ 1,  7, 23, 28, 32, 50, 69, 79, 82, 83])"
      ]
     },
     "execution_count": 17,
     "metadata": {},
     "output_type": "execute_result"
    }
   ],
   "source": [
    "np.array(sorted(df[df['user_id']==97]['item_id']))[:10]"
   ]
  },
  {
   "cell_type": "markdown",
   "metadata": {},
   "source": [
    "User 97 is connecting to the platform.\n",
    "\n",
    "Recommend him three songs among all available songs.\n",
    "\n",
    "For each user-item pair, observe also a vector of features that depends on the user, the song and/or some context(like occasion, weather, user's emotion, etc)."
   ]
  },
  {
   "cell_type": "code",
   "execution_count": 18,
   "metadata": {},
   "outputs": [
    {
     "name": "stdout",
     "output_type": "stream",
     "text": [
      "reward:  [2.0338785738452354, 2.017059580487061, 2.033373336338571]\n",
      "best reward: [2.63 2.6  2.5 ]\n"
     ]
    }
   ],
   "source": [
    "reward, next_state, done, optimal_return = env.step(np.arange(3)) # pick the first 3 available items in the list \n",
    "print('reward: ', reward)\n",
    "print('best reward:',optimal_return)"
   ]
  },
  {
   "cell_type": "code",
   "execution_count": 19,
   "metadata": {},
   "outputs": [
    {
     "data": {
      "text/plain": [
       "[[8, 1, array([ 0.95,  0.05,  0.78,  0.5 , -0.25, -0.23])],\n",
       " [8, 2, array([ 0.95,  0.05,  0.79,  0.41, -0.02, -0.27])],\n",
       " [8, 3, array([ 0.95,  0.05,  0.8 ,  0.49,  0.59, -0.96])],\n",
       " [8, 4, array([ 0.95,  0.05,  0.93,  0.54, -0.27,  0.34])],\n",
       " [8, 5, array([ 0.95,  0.05,  0.8 ,  0.61, -0.77,  0.56])],\n",
       " [8, 6, array([ 0.95,  0.05,  0.58,  0.46,  0.14, -0.34])],\n",
       " [8, 8, array([ 0.95,  0.05,  0.68,  0.36, -0.65,  0.7 ])],\n",
       " [8, 9, array([ 0.95,  0.05,  0.87,  0.47, -0.04,  0.52])],\n",
       " [8, 10, array([ 0.95,  0.05,  0.78,  0.61,  0.53, -0.3 ])],\n",
       " [8, 12, array([ 0.95,  0.05,  0.87,  0.54,  0.63, -0.64])]]"
      ]
     },
     "execution_count": 19,
     "metadata": {},
     "output_type": "execute_result"
    }
   ],
   "source": [
    "next_state[:10]"
   ]
  },
  {
   "cell_type": "code",
   "execution_count": 20,
   "metadata": {},
   "outputs": [
    {
     "data": {
      "text/plain": [
       "array([  1,   7,  24,  25,  50, 100, 106, 117, 118, 121])"
      ]
     },
     "execution_count": 20,
     "metadata": {},
     "output_type": "execute_result"
    }
   ],
   "source": [
    "np.array(sorted(df[df['user_id']==54]['item_id']))[:10]"
   ]
  },
  {
   "cell_type": "code",
   "execution_count": 21,
   "metadata": {},
   "outputs": [
    {
     "name": "stdout",
     "output_type": "stream",
     "text": [
      "reward:  [2.013929537409577, 1.692477773465048, 1.692417186802118]\n",
      "best reward: [2.4  2.31 2.27]\n"
     ]
    }
   ],
   "source": [
    "env.reset(seed=2000)[:10]\n",
    "reward, next_state, done, optimal_return = env.step(np.arange(3)) # pick the first 3 available items in the list \n",
    "print('reward: ', reward)\n",
    "print('best reward:',optimal_return)"
   ]
  },
  {
   "cell_type": "markdown",
   "metadata": {},
   "source": [
    "## Agent"
   ]
  },
  {
   "cell_type": "markdown",
   "metadata": {},
   "source": [
    "### Random Agent"
   ]
  },
  {
   "cell_type": "code",
   "execution_count": 22,
   "metadata": {},
   "outputs": [],
   "source": [
    "class Random:\n",
    "    \"\"\" Random agent. \"\"\"\n",
    "    def __init__(self, nb_arms, seed=None):\n",
    "        self._nb_arms = nb_arms\n",
    "        self._rng = np.random.RandomState(seed)\n",
    "        \n",
    "    def act(self, context):\n",
    "        actions = self._rng.randint(len(context), size = self._nb_arms)  \n",
    "        return actions\n",
    "    \n",
    "    def update(self, context, action, reward):\n",
    "        pass"
   ]
  },
  {
   "cell_type": "code",
   "execution_count": 23,
   "metadata": {},
   "outputs": [],
   "source": [
    "random_agent = Random(nb_arms = 3, seed=0)"
   ]
  },
  {
   "cell_type": "markdown",
   "metadata": {},
   "source": [
    "### ALS "
   ]
  },
  {
   "cell_type": "code",
   "execution_count": 24,
   "metadata": {},
   "outputs": [],
   "source": [
    "from pyspark.sql import SparkSession\n",
    "spark = SparkSession.builder.getOrCreate()"
   ]
  },
  {
   "cell_type": "code",
   "execution_count": 25,
   "metadata": {},
   "outputs": [],
   "source": [
    "from pyspark.ml.recommendation import ALS\n",
    "from scipy.sparse import *"
   ]
  },
  {
   "cell_type": "code",
   "execution_count": 26,
   "metadata": {},
   "outputs": [],
   "source": [
    "class ALS_matrix_factorization:\n",
    "    \"\"\" ALS agent. \"\"\"\n",
    "    def __init__(self, ratings, nb_arms ,seed=None):\n",
    "        self._ratings = ratings\n",
    "        self._n_user = ratings.shape[0]\n",
    "        self._n_item = ratings.shape[1]\n",
    "        self._nb_arms = nb_arms\n",
    "        self._policy = ALS(maxIter=10, regParam=1, rank=10, implicitPrefs = False, userCol=\"user_id\", itemCol=\"item_id\", ratingCol=\"rating\",coldStartStrategy=\"drop\")\n",
    "        self._rng = np.random.RandomState(seed)\n",
    "        \n",
    "    def act(self, context, new_rating):\n",
    "        user = context[0][0]  # current user id\n",
    "        self._ratings = new_rating\n",
    "        ratings = copy(self._ratings)\n",
    "        available_items = [l[1] for l in context]\n",
    "        \n",
    "        df = self.convert_to_df(ratings)\n",
    "        test_df = df[(df['user_id'] == user) & (df['item_id'].isin(available_items))]  # forecast target\n",
    "        train_df = df[df['rating'] != 0]\n",
    "        train_df = spark.createDataFrame(train_df)\n",
    "        test_df = spark.createDataFrame(test_df)\n",
    "\n",
    "        model = self._policy.fit(train_df)\n",
    "        predictions = model.transform(test_df) # predicted ratings for all available items (current user)\n",
    "       \n",
    "\n",
    "        predictions = predictions.toPandas()\n",
    "        pred_ratings = predictions['prediction']\n",
    "\n",
    "        \n",
    "        pred_ratings = np.array([-pred_ratings.at[i] for i in range(pred_ratings.shape[0])])\n",
    "        \n",
    "     \n",
    "        threshold = min(self._nb_arms, len(pred_ratings))\n",
    "        \n",
    "        actions = np.argpartition(pred_ratings, threshold)[:threshold]  # sorting in ascending order \n",
    "  \n",
    "        return actions\n",
    "    \n",
    "    def convert_to_df(self, ratings, name='rating'):\n",
    "        # convert a ndarray to pd.Dataframe\n",
    "        n_user, n_item = self._n_user, self._n_item\n",
    "        arr = np.array([np.repeat(np.arange(n_user), n_item),np.tile(np.arange(n_item), n_user),ratings.flatten()]).T\n",
    "        df = pd.DataFrame(arr,columns=['user_id','item_id',name], dtype = int)\n",
    "        return df\n",
    "        \n",
    "    def update(self, context, actions, rewards):\n",
    "        last_user = context[0][0]\n",
    "        last_reco_items = np.array([context[a][1] for a in actions]) \n",
    "        for item, rwd in zip(last_reco_items, rewards):\n",
    "            self._ratings[last_user, item] = rwd  # reward = rating "
   ]
  },
  {
   "cell_type": "markdown",
   "metadata": {},
   "source": [
    "## Experiment"
   ]
  },
  {
   "cell_type": "code",
   "execution_count": 27,
   "metadata": {},
   "outputs": [],
   "source": [
    "def run_exp(agent, env, nb_steps, nb_arms, env_seed, ratings = None):\n",
    "    rewards_list = np.zeros((nb_steps, nb_arms))\n",
    "    regrets_list = np.zeros((nb_steps, nb_arms))\n",
    "    actions_list = np.zeros((nb_steps, nb_arms))\n",
    "    context = env.reset(data = None, seed = env_seed)\n",
    "    \n",
    "    has_rating_history = False\n",
    "    try:\n",
    "        ratings.shape\n",
    "        rating_matrix = ratings \n",
    "        initial_rating_matrix = ratings\n",
    "        has_rating_history = True\n",
    "    except:\n",
    "        rating_matrix = np.zeros((env.nb_users, env.nb_items))\n",
    "        initial_rating_matrix = np.zeros((env.nb_users, env.nb_items))\n",
    "\n",
    "    for i in range(nb_steps):\n",
    "        # Select action from agent policy.\n",
    "        \n",
    "        if has_rating_history: # agent needs history data (ex. ALS)\n",
    "            actions = agent.act(context, rating_matrix)\n",
    "        else:\n",
    "            actions = agent.act(context)\n",
    "        \n",
    "        # Play action in the environment and get reward.\n",
    "        rewards, next_context, done, optimal_return = env.step(actions)\n",
    "        \n",
    "        # Update history\n",
    "        user = context[0][0]\n",
    "        items = np.array([context[a][1] for a in actions], dtype = int)  # a list of [user_id, item_id, ]\n",
    "\n",
    "        rating = rewards\n",
    "        rating_matrix[user-1, items-1] = rating\n",
    "        \n",
    "        # Update agent.\n",
    "        agent.update(context, actions, rewards)\n",
    "        context = next_context\n",
    "        \n",
    "        # Save history.\n",
    "        rewards_list[i] = rewards\n",
    "        actions_list[i] = actions\n",
    "        regrets_list[i] = optimal_return - rewards\n",
    "\n",
    "    reward = np.sum(rewards_list, axis = 0)\n",
    "    regret = np.sum(regrets_list, axis = 0)\n",
    " \n",
    "    return {'reward': reward, \n",
    "            'regret': regret,\n",
    "            'rewards': rewards_list,\n",
    "            'regrets': regrets_list,\n",
    "            'actions': actions_list,\n",
    "            'cum_rewards': np.cumsum(rewards_list, axis = 0), \n",
    "            'cum_regrets': np.cumsum(regrets_list, axis = 0),\n",
    "            'rating_matrix': rating_matrix-initial_rating_matrix\n",
    "            }\n"
   ]
  },
  {
   "cell_type": "code",
   "execution_count": 28,
   "metadata": {},
   "outputs": [],
   "source": [
    "res = run_exp(random_agent, env, nb_steps=20, nb_arms=3, env_seed=0)"
   ]
  },
  {
   "cell_type": "code",
   "execution_count": 29,
   "metadata": {},
   "outputs": [
    {
     "data": {
      "text/plain": [
       "{'reward': array([41.01, 39.14, 40.33]),\n",
       " 'regret': array([12.18, 12.76, 10.73]),\n",
       " 'rewards': array([[2.44, 1.73, 2.16],\n",
       "        [1.71, 2.73, 2.38],\n",
       "        [2.27, 2.61, 1.72],\n",
       "        [2.28, 1.67, 2.56],\n",
       "        [2.23, 2.43, 2.07],\n",
       "        [2.1 , 2.23, 2.2 ],\n",
       "        [2.29, 1.6 , 2.19],\n",
       "        [1.87, 1.4 , 1.86],\n",
       "        [2.37, 2.04, 2.46],\n",
       "        [1.59, 1.84, 1.75],\n",
       "        [2.19, 2.16, 1.45],\n",
       "        [1.96, 2.06, 1.58],\n",
       "        [2.28, 2.13, 2.57],\n",
       "        [1.98, 1.69, 1.66],\n",
       "        [2.08, 1.83, 1.97],\n",
       "        [1.97, 1.86, 2.02],\n",
       "        [1.9 , 1.8 , 2.13],\n",
       "        [1.5 , 1.51, 1.9 ],\n",
       "        [1.74, 2.07, 1.98],\n",
       "        [2.27, 1.75, 1.72]]),\n",
       " 'regrets': array([[ 0.35,  1.04,  0.59],\n",
       "        [ 0.89, -0.25,  0.08],\n",
       "        [ 1.  ,  0.55,  1.41],\n",
       "        [ 0.34,  0.82, -0.08],\n",
       "        [ 0.2 , -0.06,  0.29],\n",
       "        [ 0.82,  0.67,  0.6 ],\n",
       "        [ 0.34,  0.98,  0.35],\n",
       "        [ 0.35,  0.77,  0.31],\n",
       "        [ 0.4 ,  0.62,  0.15],\n",
       "        [ 1.2 ,  0.92,  0.87],\n",
       "        [ 0.43,  0.38,  1.08],\n",
       "        [ 0.75,  0.43,  0.89],\n",
       "        [ 0.5 ,  0.54,  0.06],\n",
       "        [ 0.43,  0.7 ,  0.66],\n",
       "        [ 0.53,  0.74,  0.58],\n",
       "        [ 0.6 ,  0.7 ,  0.49],\n",
       "        [ 0.9 ,  0.94,  0.58],\n",
       "        [ 0.8 ,  0.79,  0.31],\n",
       "        [ 0.79,  0.45,  0.52],\n",
       "        [ 0.57,  1.05,  1.02]]),\n",
       " 'actions': array([[172.,  47., 117.],\n",
       "        [192., 251., 195.],\n",
       "        [  9., 211., 277.],\n",
       "        [242.,  87.,  70.],\n",
       "        [ 88., 140.,  58.],\n",
       "        [193.,  39.,  87.],\n",
       "        [174.,  88., 165.],\n",
       "        [ 25.,  72., 265.],\n",
       "        [115., 243., 197.],\n",
       "        [ 99., 177., 243.],\n",
       "        [147., 147., 265.],\n",
       "        [127.,  32.,  31.],\n",
       "        [151., 163., 114.],\n",
       "        [183.,  28., 128.],\n",
       "        [128.,  53.,  38.],\n",
       "        [232., 244.,  17.],\n",
       "        [105.,  42.,  31.],\n",
       "        [120.,   1.,  65.],\n",
       "        [169.,  57.,  35.],\n",
       "        [119., 267.,  82.]]),\n",
       " 'cum_rewards': array([[ 2.44,  1.73,  2.16],\n",
       "        [ 4.15,  4.45,  4.54],\n",
       "        [ 6.42,  7.06,  6.26],\n",
       "        [ 8.7 ,  8.73,  8.82],\n",
       "        [10.93, 11.16, 10.89],\n",
       "        [13.03, 13.39, 13.09],\n",
       "        [15.31, 14.99, 15.28],\n",
       "        [17.18, 16.39, 17.14],\n",
       "        [19.55, 18.43, 19.6 ],\n",
       "        [21.15, 20.27, 21.35],\n",
       "        [23.34, 22.43, 22.8 ],\n",
       "        [25.3 , 24.49, 24.39],\n",
       "        [27.57, 26.62, 26.95],\n",
       "        [29.55, 28.31, 28.61],\n",
       "        [31.63, 30.14, 30.58],\n",
       "        [33.6 , 32.  , 32.6 ],\n",
       "        [35.5 , 33.81, 34.73],\n",
       "        [37.  , 35.31, 36.63],\n",
       "        [38.74, 37.39, 38.61],\n",
       "        [41.01, 39.14, 40.33]]),\n",
       " 'cum_regrets': array([[ 0.35,  1.04,  0.59],\n",
       "        [ 1.24,  0.8 ,  0.67],\n",
       "        [ 2.24,  1.34,  2.08],\n",
       "        [ 2.58,  2.16,  1.99],\n",
       "        [ 2.78,  2.1 ,  2.28],\n",
       "        [ 3.6 ,  2.77,  2.88],\n",
       "        [ 3.94,  3.75,  3.23],\n",
       "        [ 4.29,  4.52,  3.53],\n",
       "        [ 4.69,  5.14,  3.68],\n",
       "        [ 5.89,  6.05,  4.55],\n",
       "        [ 6.32,  6.43,  5.63],\n",
       "        [ 7.07,  6.86,  6.51],\n",
       "        [ 7.57,  7.4 ,  6.57],\n",
       "        [ 8.  ,  8.1 ,  7.23],\n",
       "        [ 8.52,  8.84,  7.81],\n",
       "        [ 9.12,  9.54,  8.3 ],\n",
       "        [10.03, 10.48,  8.88],\n",
       "        [10.82, 11.26,  9.18],\n",
       "        [11.61, 11.71,  9.71],\n",
       "        [12.18, 12.76, 10.73]]),\n",
       " 'rating_matrix': array([[0., 0., 0., ..., 0., 0., 0.],\n",
       "        [0., 0., 0., ..., 0., 0., 0.],\n",
       "        [0., 0., 0., ..., 0., 0., 0.],\n",
       "        ...,\n",
       "        [0., 0., 0., ..., 0., 0., 0.],\n",
       "        [0., 0., 0., ..., 0., 0., 0.],\n",
       "        [0., 0., 0., ..., 0., 0., 0.]])}"
      ]
     },
     "execution_count": 29,
     "metadata": {},
     "output_type": "execute_result"
    }
   ],
   "source": [
    "res"
   ]
  },
  {
   "cell_type": "code",
   "execution_count": 30,
   "metadata": {},
   "outputs": [],
   "source": [
    "res = run_exp(random_agent, env, nb_steps=500, nb_arms=3, env_seed=2)"
   ]
  },
  {
   "cell_type": "code",
   "execution_count": 31,
   "metadata": {},
   "outputs": [],
   "source": [
    "ALS_agent = ALS_matrix_factorization(ratings = res['rating_matrix'], nb_arms = 3, seed=15)"
   ]
  },
  {
   "cell_type": "code",
   "execution_count": 33,
   "metadata": {},
   "outputs": [
    {
     "data": {
      "text/plain": [
       "{'reward': array([38.87, 40.6 , 39.7 ]),\n",
       " 'regret': array([14.6 , 11.33, 11.63]),\n",
       " 'rewards': array([[1.82, 2.17, 2.08],\n",
       "        [1.82, 2.31, 1.73],\n",
       "        [2.06, 2.32, 2.17],\n",
       "        [1.43, 1.42, 2.24],\n",
       "        [2.15, 1.91, 1.29],\n",
       "        [2.16, 2.25, 2.04],\n",
       "        [2.04, 2.  , 1.44],\n",
       "        [1.84, 1.96, 2.39],\n",
       "        [1.74, 2.23, 2.3 ],\n",
       "        [2.28, 1.98, 2.03],\n",
       "        [2.11, 1.95, 1.69],\n",
       "        [2.31, 2.21, 1.73],\n",
       "        [1.46, 2.01, 1.64],\n",
       "        [2.44, 1.94, 2.31],\n",
       "        [1.89, 1.57, 2.27],\n",
       "        [1.41, 2.11, 1.71],\n",
       "        [2.08, 1.97, 2.37],\n",
       "        [2.08, 2.07, 2.36],\n",
       "        [1.95, 2.26, 2.01],\n",
       "        [1.79, 1.96, 1.92]]),\n",
       " 'regrets': array([[0.61, 0.24, 0.33],\n",
       "        [0.75, 0.09, 0.63],\n",
       "        [0.48, 0.15, 0.3 ],\n",
       "        [1.3 , 1.2 , 0.37],\n",
       "        [0.26, 0.5 , 1.11],\n",
       "        [0.6 , 0.43, 0.59],\n",
       "        [0.55, 0.57, 1.09],\n",
       "        [0.95, 0.65, 0.22],\n",
       "        [1.59, 1.1 , 0.97],\n",
       "        [0.5 , 0.78, 0.72],\n",
       "        [0.39, 0.5 , 0.73],\n",
       "        [0.31, 0.33, 0.78],\n",
       "        [1.17, 0.57, 0.88],\n",
       "        [0.28, 0.71, 0.31],\n",
       "        [0.77, 0.99, 0.25],\n",
       "        [1.37, 0.58, 0.97],\n",
       "        [0.53, 0.57, 0.15],\n",
       "        [0.72, 0.63, 0.24],\n",
       "        [0.76, 0.3 , 0.54],\n",
       "        [0.72, 0.44, 0.47]]),\n",
       " 'actions': array([[190.,  91., 170.],\n",
       "        [190.,  17., 167.],\n",
       "        [100.,  64., 206.],\n",
       "        [ 99.,  64., 209.],\n",
       "        [ 81.,  52., 159.],\n",
       "        [ 45.,  67., 133.],\n",
       "        [ 72.,  44.,  77.],\n",
       "        [ 65.,  99., 203.],\n",
       "        [194.,  17., 169.],\n",
       "        [101.,  65., 214.],\n",
       "        [ 60.,  95., 197.],\n",
       "        [ 64., 100., 213.],\n",
       "        [ 67., 135.,  46.],\n",
       "        [ 59.,  92., 193.],\n",
       "        [ 17., 192., 127.],\n",
       "        [ 97.,  64., 208.],\n",
       "        [ 37., 116.,  60.],\n",
       "        [ 58.,  94., 197.],\n",
       "        [202.,  96.,  62.],\n",
       "        [ 70.,  85.,   3.]]),\n",
       " 'cum_rewards': array([[ 1.82,  2.17,  2.08],\n",
       "        [ 3.65,  4.48,  3.81],\n",
       "        [ 5.7 ,  6.8 ,  5.98],\n",
       "        [ 7.13,  8.22,  8.22],\n",
       "        [ 9.28, 10.13,  9.51],\n",
       "        [11.44, 12.38, 11.55],\n",
       "        [13.49, 14.38, 12.99],\n",
       "        [15.33, 16.34, 15.37],\n",
       "        [17.07, 18.57, 17.67],\n",
       "        [19.34, 20.55, 19.7 ],\n",
       "        [21.45, 22.51, 21.39],\n",
       "        [23.76, 24.72, 23.12],\n",
       "        [25.22, 26.73, 24.76],\n",
       "        [27.67, 28.67, 27.07],\n",
       "        [29.56, 30.24, 29.34],\n",
       "        [30.97, 32.35, 31.05],\n",
       "        [33.05, 34.31, 33.42],\n",
       "        [35.12, 36.38, 35.77],\n",
       "        [37.08, 38.64, 37.79],\n",
       "        [38.87, 40.6 , 39.7 ]]),\n",
       " 'cum_regrets': array([[ 0.61,  0.24,  0.33],\n",
       "        [ 1.35,  0.34,  0.96],\n",
       "        [ 1.83,  0.49,  1.26],\n",
       "        [ 3.13,  1.69,  1.62],\n",
       "        [ 3.39,  2.19,  2.73],\n",
       "        [ 3.99,  2.61,  3.32],\n",
       "        [ 4.54,  3.18,  4.41],\n",
       "        [ 5.48,  3.83,  4.63],\n",
       "        [ 7.08,  4.93,  5.6 ],\n",
       "        [ 7.58,  5.71,  6.32],\n",
       "        [ 7.97,  6.2 ,  7.05],\n",
       "        [ 8.28,  6.54,  7.83],\n",
       "        [ 9.45,  7.11,  8.71],\n",
       "        [ 9.73,  7.82,  9.01],\n",
       "        [10.5 ,  8.81,  9.26],\n",
       "        [11.86,  9.39, 10.23],\n",
       "        [12.4 ,  9.96, 10.37],\n",
       "        [13.11, 10.59, 10.62],\n",
       "        [13.87, 10.89, 11.16],\n",
       "        [14.6 , 11.33, 11.63]]),\n",
       " 'rating_matrix': array([[ 0.,  0.,  0., ..., nan,  0.,  0.],\n",
       "        [ 0.,  0.,  0., ...,  0.,  0.,  0.],\n",
       "        [ 0.,  0.,  0., ...,  0.,  0.,  0.],\n",
       "        ...,\n",
       "        [ 0.,  0.,  0., ...,  0.,  0.,  0.],\n",
       "        [ 0.,  0.,  0., ...,  0.,  0.,  0.],\n",
       "        [ 0.,  0.,  0., ...,  0.,  0.,  0.]])}"
      ]
     },
     "execution_count": 33,
     "metadata": {},
     "output_type": "execute_result"
    }
   ],
   "source": [
    "for a,b in zip(np.array(df['user_id']),np.array(df['item_id'])):\n",
    "    res['rating_matrix'][a-1][b-1] = np.random.normal(loc=1.5, scale=0.1)\n",
    "    \n",
    "res_ALS = run_exp(ALS_agent, env, nb_steps=20, nb_arms=3, env_seed=7, ratings = res['rating_matrix'])\n",
    "res_ALS"
   ]
  },
  {
   "cell_type": "markdown",
   "metadata": {},
   "source": [
    "## Draw empirical regret and confidence bound"
   ]
  },
  {
   "cell_type": "code",
   "execution_count": 33,
   "metadata": {},
   "outputs": [],
   "source": [
    "def draw_regret_bound(agent_name, nb_arms=3, nb_exp=10, nb_steps=10):\n",
    "    '''\n",
    "    Repeat environment-agent interations and draw regret bound for a given agent\n",
    "    '''    \n",
    "    regret = np.zeros(nb_exp)\n",
    "    regrets = np.zeros((nb_exp, nb_steps))\n",
    "    for i in range(nb_exp):\n",
    "        env = music_rec_env(data = df, seed = i)\n",
    "        agent = Random(nb_arms, seed=i)\n",
    "        if agent_name == 'random':\n",
    "            agent = Random(nb_arms, seed=i)\n",
    "            exp = run_exp(agent, env, nb_steps, nb_arms, env_seed=2*i)\n",
    "        if agent_name == 'ALS':\n",
    "            agent = Random(nb_arms, seed=i)\n",
    "            exp1 = run_exp(agent, env, 400, nb_arms, env_seed=2*i)\n",
    "            for a,b in zip(np.array(df['user_id']),np.array(df['item_id'])):\n",
    "                exp1['rating_matrix'][a-1][b-1] = np.random.normal(loc=1.5, scale=0.1)\n",
    "            ALS_agent = ALS_matrix_factorization(ratings = exp1['rating_matrix'], nb_arms = 3, seed=i)\n",
    "            exp = run_exp(ALS_agent, env, nb_steps, nb_arms, env_seed=2*i, ratings = exp1['rating_matrix'])\n",
    "       \n",
    "        regret[i] = np.sum(exp['regret'])\n",
    "        regrets[i] = np.sum(exp['cum_regrets'], axis = 1) \n",
    "        \n",
    "    plt.plot(regrets.mean(axis=0), color='blue')\n",
    "    plt.plot(np.quantile(regrets, 0.05,axis=0), color='grey', alpha=0.5)\n",
    "    plt.plot(np.quantile(regrets, 0.95,axis=0), color='grey', alpha=0.5)\n",
    "    plt.title('Mean regret: {:.2f}'.format(regret.mean()))\n",
    "    plt.xlabel('steps')\n",
    "    plt.ylabel('regret')\n",
    "    plt.show()    "
   ]
  },
  {
   "cell_type": "code",
   "execution_count": 34,
   "metadata": {},
   "outputs": [
    {
     "data": {
      "image/png": "[encoded data removed]",
      "text/plain": [
       "<matplotlib.figure.Figure at 0x1e32bb55fd0>"
      ]
     },
     "metadata": {},
     "output_type": "display_data"
    }
   ],
   "source": [
    "t1 = time.perf_counter()\n",
    "draw_regret_bound('random', nb_arms=3, nb_exp=4, nb_steps=20)\n",
    "t2 = time.perf_counter()"
   ]
  },
  {
   "cell_type": "code",
   "execution_count": 40,
   "metadata": {},
   "outputs": [
    {
     "data": {
      "text/plain": [
       "37.625739788938006"
      ]
     },
     "execution_count": 40,
     "metadata": {},
     "output_type": "execute_result"
    }
   ],
   "source": [
    "t2-t1 # running time in seconds"
   ]
  },
  {
   "cell_type": "markdown",
   "metadata": {},
   "source": [
    "For some unknown reason, we didn't succeeded in drawing ALS regret bound automatically via the above function. The regret bound in the presentation is generated by stocking first the single-run results manually and then drawing with the same commands."
   ]
  },
  {
   "cell_type": "code",
   "execution_count": 64,
   "metadata": {},
   "outputs": [
    {
     "ename": "FileNotFoundError",
     "evalue": "[Errno 2] No such file or directory: 'C:\\\\Users\\\\ldr\\\\AppData\\\\Local\\\\Temp\\\\spark-b93eeb26-db00-49c2-9179-5d0770590ff7\\\\pyspark-47560876-bd60-4d20-9b91-35b70fcab783\\\\tmpva2u80gz'",
     "output_type": "error",
     "traceback": [
      "\u001b[1;31m---------------------------------------------------------------------------\u001b[0m",
      "\u001b[1;31mFileNotFoundError\u001b[0m                         Traceback (most recent call last)",
      "\u001b[1;32m<ipython-input-64-d3a6c1744744>\u001b[0m in \u001b[0;36m<module>\u001b[1;34m()\u001b[0m\n\u001b[0;32m      1\u001b[0m \u001b[0mt1\u001b[0m \u001b[1;33m=\u001b[0m \u001b[0mtime\u001b[0m\u001b[1;33m.\u001b[0m\u001b[0mperf_counter\u001b[0m\u001b[1;33m(\u001b[0m\u001b[1;33m)\u001b[0m\u001b[1;33m\u001b[0m\u001b[0m\n\u001b[1;32m----> 2\u001b[1;33m \u001b[0mdraw_regret_bound\u001b[0m\u001b[1;33m(\u001b[0m\u001b[1;34m'ALS'\u001b[0m\u001b[1;33m,\u001b[0m \u001b[0mnb_arms\u001b[0m\u001b[1;33m=\u001b[0m\u001b[1;36m3\u001b[0m\u001b[1;33m,\u001b[0m \u001b[0mnb_exp\u001b[0m\u001b[1;33m=\u001b[0m\u001b[1;36m10\u001b[0m\u001b[1;33m,\u001b[0m \u001b[0mnb_steps\u001b[0m\u001b[1;33m=\u001b[0m\u001b[1;36m5\u001b[0m\u001b[1;33m)\u001b[0m\u001b[1;33m\u001b[0m\u001b[0m\n\u001b[0m\u001b[0;32m      3\u001b[0m \u001b[0mt2\u001b[0m \u001b[1;33m=\u001b[0m \u001b[0mtime\u001b[0m\u001b[1;33m.\u001b[0m\u001b[0mperf_counter\u001b[0m\u001b[1;33m(\u001b[0m\u001b[1;33m)\u001b[0m\u001b[1;33m\u001b[0m\u001b[0m\n",
      "\u001b[1;32m<ipython-input-63-df71691189fd>\u001b[0m in \u001b[0;36mdraw_regret_bound\u001b[1;34m(agent_name, nb_arms, nb_exp, nb_steps)\u001b[0m\n\u001b[0;32m     17\u001b[0m                 \u001b[0mexp1\u001b[0m\u001b[1;33m[\u001b[0m\u001b[1;34m'rating_matrix'\u001b[0m\u001b[1;33m]\u001b[0m\u001b[1;33m[\u001b[0m\u001b[0ma\u001b[0m\u001b[1;33m-\u001b[0m\u001b[1;36m1\u001b[0m\u001b[1;33m]\u001b[0m\u001b[1;33m[\u001b[0m\u001b[0mb\u001b[0m\u001b[1;33m-\u001b[0m\u001b[1;36m1\u001b[0m\u001b[1;33m]\u001b[0m \u001b[1;33m=\u001b[0m \u001b[0mnp\u001b[0m\u001b[1;33m.\u001b[0m\u001b[0mrandom\u001b[0m\u001b[1;33m.\u001b[0m\u001b[0mnormal\u001b[0m\u001b[1;33m(\u001b[0m\u001b[0mloc\u001b[0m\u001b[1;33m=\u001b[0m\u001b[1;36m1.5\u001b[0m\u001b[1;33m,\u001b[0m \u001b[0mscale\u001b[0m\u001b[1;33m=\u001b[0m\u001b[1;36m0.1\u001b[0m\u001b[1;33m)\u001b[0m\u001b[1;33m\u001b[0m\u001b[0m\n\u001b[0;32m     18\u001b[0m             \u001b[0mALS_agent\u001b[0m \u001b[1;33m=\u001b[0m \u001b[0mALS_matrix_factorization\u001b[0m\u001b[1;33m(\u001b[0m\u001b[0mratings\u001b[0m \u001b[1;33m=\u001b[0m \u001b[0mexp1\u001b[0m\u001b[1;33m[\u001b[0m\u001b[1;34m'rating_matrix'\u001b[0m\u001b[1;33m]\u001b[0m\u001b[1;33m,\u001b[0m \u001b[0mnb_arms\u001b[0m \u001b[1;33m=\u001b[0m \u001b[1;36m3\u001b[0m\u001b[1;33m,\u001b[0m \u001b[0mseed\u001b[0m\u001b[1;33m=\u001b[0m\u001b[0mi\u001b[0m\u001b[1;33m)\u001b[0m\u001b[1;33m\u001b[0m\u001b[0m\n\u001b[1;32m---> 19\u001b[1;33m             \u001b[0mexp\u001b[0m \u001b[1;33m=\u001b[0m \u001b[0mrun_exp\u001b[0m\u001b[1;33m(\u001b[0m\u001b[0mALS_agent\u001b[0m\u001b[1;33m,\u001b[0m \u001b[0menv\u001b[0m\u001b[1;33m,\u001b[0m \u001b[0mnb_steps\u001b[0m\u001b[1;33m,\u001b[0m \u001b[0mnb_arms\u001b[0m\u001b[1;33m,\u001b[0m \u001b[0menv_seed\u001b[0m\u001b[1;33m=\u001b[0m\u001b[1;36m2\u001b[0m\u001b[1;33m*\u001b[0m\u001b[0mi\u001b[0m\u001b[1;33m,\u001b[0m \u001b[0mratings\u001b[0m \u001b[1;33m=\u001b[0m \u001b[0mexp1\u001b[0m\u001b[1;33m[\u001b[0m\u001b[1;34m'rating_matrix'\u001b[0m\u001b[1;33m]\u001b[0m\u001b[1;33m)\u001b[0m\u001b[1;33m\u001b[0m\u001b[0m\n\u001b[0m\u001b[0;32m     20\u001b[0m \u001b[1;33m\u001b[0m\u001b[0m\n\u001b[0;32m     21\u001b[0m         \u001b[0mregret\u001b[0m\u001b[1;33m[\u001b[0m\u001b[0mi\u001b[0m\u001b[1;33m]\u001b[0m \u001b[1;33m=\u001b[0m \u001b[0mnp\u001b[0m\u001b[1;33m.\u001b[0m\u001b[0msum\u001b[0m\u001b[1;33m(\u001b[0m\u001b[0mexp\u001b[0m\u001b[1;33m[\u001b[0m\u001b[1;34m'regret'\u001b[0m\u001b[1;33m]\u001b[0m\u001b[1;33m)\u001b[0m\u001b[1;33m\u001b[0m\u001b[0m\n",
      "\u001b[1;32m<ipython-input-27-22af1fd2e4ff>\u001b[0m in \u001b[0;36mrun_exp\u001b[1;34m(agent, env, nb_steps, nb_arms, env_seed, ratings)\u001b[0m\n\u001b[0;32m     19\u001b[0m \u001b[1;33m\u001b[0m\u001b[0m\n\u001b[0;32m     20\u001b[0m         \u001b[1;32mif\u001b[0m \u001b[0mhas_rating_history\u001b[0m\u001b[1;33m:\u001b[0m \u001b[1;31m# agent needs history data (ex. ALS)\u001b[0m\u001b[1;33m\u001b[0m\u001b[0m\n\u001b[1;32m---> 21\u001b[1;33m             \u001b[0mactions\u001b[0m \u001b[1;33m=\u001b[0m \u001b[0magent\u001b[0m\u001b[1;33m.\u001b[0m\u001b[0mact\u001b[0m\u001b[1;33m(\u001b[0m\u001b[0mcontext\u001b[0m\u001b[1;33m,\u001b[0m \u001b[0mrating_matrix\u001b[0m\u001b[1;33m)\u001b[0m\u001b[1;33m\u001b[0m\u001b[0m\n\u001b[0m\u001b[0;32m     22\u001b[0m         \u001b[1;32melse\u001b[0m\u001b[1;33m:\u001b[0m\u001b[1;33m\u001b[0m\u001b[0m\n\u001b[0;32m     23\u001b[0m             \u001b[0mactions\u001b[0m \u001b[1;33m=\u001b[0m \u001b[0magent\u001b[0m\u001b[1;33m.\u001b[0m\u001b[0mact\u001b[0m\u001b[1;33m(\u001b[0m\u001b[0mcontext\u001b[0m\u001b[1;33m)\u001b[0m\u001b[1;33m\u001b[0m\u001b[0m\n",
      "\u001b[1;32m<ipython-input-26-b4d13aadf468>\u001b[0m in \u001b[0;36mact\u001b[1;34m(self, context, new_rating)\u001b[0m\n\u001b[0;32m     18\u001b[0m         \u001b[0mtest_df\u001b[0m \u001b[1;33m=\u001b[0m \u001b[0mdf\u001b[0m\u001b[1;33m[\u001b[0m\u001b[1;33m(\u001b[0m\u001b[0mdf\u001b[0m\u001b[1;33m[\u001b[0m\u001b[1;34m'user_id'\u001b[0m\u001b[1;33m]\u001b[0m \u001b[1;33m==\u001b[0m \u001b[0muser\u001b[0m\u001b[1;33m)\u001b[0m \u001b[1;33m&\u001b[0m \u001b[1;33m(\u001b[0m\u001b[0mdf\u001b[0m\u001b[1;33m[\u001b[0m\u001b[1;34m'item_id'\u001b[0m\u001b[1;33m]\u001b[0m\u001b[1;33m.\u001b[0m\u001b[0misin\u001b[0m\u001b[1;33m(\u001b[0m\u001b[0mavailable_items\u001b[0m\u001b[1;33m)\u001b[0m\u001b[1;33m)\u001b[0m\u001b[1;33m]\u001b[0m  \u001b[1;31m# forecast target\u001b[0m\u001b[1;33m\u001b[0m\u001b[0m\n\u001b[0;32m     19\u001b[0m         \u001b[0mtrain_df\u001b[0m \u001b[1;33m=\u001b[0m \u001b[0mdf\u001b[0m\u001b[1;33m[\u001b[0m\u001b[0mdf\u001b[0m\u001b[1;33m[\u001b[0m\u001b[1;34m'rating'\u001b[0m\u001b[1;33m]\u001b[0m \u001b[1;33m!=\u001b[0m \u001b[1;36m0\u001b[0m\u001b[1;33m]\u001b[0m\u001b[1;33m\u001b[0m\u001b[0m\n\u001b[1;32m---> 20\u001b[1;33m         \u001b[0mtrain_df\u001b[0m \u001b[1;33m=\u001b[0m \u001b[0mspark\u001b[0m\u001b[1;33m.\u001b[0m\u001b[0mcreateDataFrame\u001b[0m\u001b[1;33m(\u001b[0m\u001b[0mtrain_df\u001b[0m\u001b[1;33m)\u001b[0m\u001b[1;33m\u001b[0m\u001b[0m\n\u001b[0m\u001b[0;32m     21\u001b[0m         \u001b[0mtest_df\u001b[0m \u001b[1;33m=\u001b[0m \u001b[0mspark\u001b[0m\u001b[1;33m.\u001b[0m\u001b[0mcreateDataFrame\u001b[0m\u001b[1;33m(\u001b[0m\u001b[0mtest_df\u001b[0m\u001b[1;33m)\u001b[0m\u001b[1;33m\u001b[0m\u001b[0m\n\u001b[0;32m     22\u001b[0m \u001b[1;33m\u001b[0m\u001b[0m\n",
      "\u001b[1;32mc:\\users\\ldr\\appdata\\local\\programs\\python\\python36\\lib\\site-packages\\pyspark\\sql\\session.py\u001b[0m in \u001b[0;36mcreateDataFrame\u001b[1;34m(self, data, schema, samplingRatio, verifySchema)\u001b[0m\n\u001b[0;32m    746\u001b[0m             \u001b[0mrdd\u001b[0m\u001b[1;33m,\u001b[0m \u001b[0mschema\u001b[0m \u001b[1;33m=\u001b[0m \u001b[0mself\u001b[0m\u001b[1;33m.\u001b[0m\u001b[0m_createFromRDD\u001b[0m\u001b[1;33m(\u001b[0m\u001b[0mdata\u001b[0m\u001b[1;33m.\u001b[0m\u001b[0mmap\u001b[0m\u001b[1;33m(\u001b[0m\u001b[0mprepare\u001b[0m\u001b[1;33m)\u001b[0m\u001b[1;33m,\u001b[0m \u001b[0mschema\u001b[0m\u001b[1;33m,\u001b[0m \u001b[0msamplingRatio\u001b[0m\u001b[1;33m)\u001b[0m\u001b[1;33m\u001b[0m\u001b[0m\n\u001b[0;32m    747\u001b[0m         \u001b[1;32melse\u001b[0m\u001b[1;33m:\u001b[0m\u001b[1;33m\u001b[0m\u001b[0m\n\u001b[1;32m--> 748\u001b[1;33m             \u001b[0mrdd\u001b[0m\u001b[1;33m,\u001b[0m \u001b[0mschema\u001b[0m \u001b[1;33m=\u001b[0m \u001b[0mself\u001b[0m\u001b[1;33m.\u001b[0m\u001b[0m_createFromLocal\u001b[0m\u001b[1;33m(\u001b[0m\u001b[0mmap\u001b[0m\u001b[1;33m(\u001b[0m\u001b[0mprepare\u001b[0m\u001b[1;33m,\u001b[0m \u001b[0mdata\u001b[0m\u001b[1;33m)\u001b[0m\u001b[1;33m,\u001b[0m \u001b[0mschema\u001b[0m\u001b[1;33m)\u001b[0m\u001b[1;33m\u001b[0m\u001b[0m\n\u001b[0m\u001b[0;32m    749\u001b[0m         \u001b[0mjrdd\u001b[0m \u001b[1;33m=\u001b[0m \u001b[0mself\u001b[0m\u001b[1;33m.\u001b[0m\u001b[0m_jvm\u001b[0m\u001b[1;33m.\u001b[0m\u001b[0mSerDeUtil\u001b[0m\u001b[1;33m.\u001b[0m\u001b[0mtoJavaArray\u001b[0m\u001b[1;33m(\u001b[0m\u001b[0mrdd\u001b[0m\u001b[1;33m.\u001b[0m\u001b[0m_to_java_object_rdd\u001b[0m\u001b[1;33m(\u001b[0m\u001b[1;33m)\u001b[0m\u001b[1;33m)\u001b[0m\u001b[1;33m\u001b[0m\u001b[0m\n\u001b[0;32m    750\u001b[0m         \u001b[0mjdf\u001b[0m \u001b[1;33m=\u001b[0m \u001b[0mself\u001b[0m\u001b[1;33m.\u001b[0m\u001b[0m_jsparkSession\u001b[0m\u001b[1;33m.\u001b[0m\u001b[0mapplySchemaToPythonRDD\u001b[0m\u001b[1;33m(\u001b[0m\u001b[0mjrdd\u001b[0m\u001b[1;33m.\u001b[0m\u001b[0mrdd\u001b[0m\u001b[1;33m(\u001b[0m\u001b[1;33m)\u001b[0m\u001b[1;33m,\u001b[0m \u001b[0mschema\u001b[0m\u001b[1;33m.\u001b[0m\u001b[0mjson\u001b[0m\u001b[1;33m(\u001b[0m\u001b[1;33m)\u001b[0m\u001b[1;33m)\u001b[0m\u001b[1;33m\u001b[0m\u001b[0m\n",
      "\u001b[1;32mc:\\users\\ldr\\appdata\\local\\programs\\python\\python36\\lib\\site-packages\\pyspark\\sql\\session.py\u001b[0m in \u001b[0;36m_createFromLocal\u001b[1;34m(self, data, schema)\u001b[0m\n\u001b[0;32m    428\u001b[0m         \u001b[1;31m# convert python objects to sql data\u001b[0m\u001b[1;33m\u001b[0m\u001b[1;33m\u001b[0m\u001b[0m\n\u001b[0;32m    429\u001b[0m         \u001b[0mdata\u001b[0m \u001b[1;33m=\u001b[0m \u001b[1;33m[\u001b[0m\u001b[0mschema\u001b[0m\u001b[1;33m.\u001b[0m\u001b[0mtoInternal\u001b[0m\u001b[1;33m(\u001b[0m\u001b[0mrow\u001b[0m\u001b[1;33m)\u001b[0m \u001b[1;32mfor\u001b[0m \u001b[0mrow\u001b[0m \u001b[1;32min\u001b[0m \u001b[0mdata\u001b[0m\u001b[1;33m]\u001b[0m\u001b[1;33m\u001b[0m\u001b[0m\n\u001b[1;32m--> 430\u001b[1;33m         \u001b[1;32mreturn\u001b[0m \u001b[0mself\u001b[0m\u001b[1;33m.\u001b[0m\u001b[0m_sc\u001b[0m\u001b[1;33m.\u001b[0m\u001b[0mparallelize\u001b[0m\u001b[1;33m(\u001b[0m\u001b[0mdata\u001b[0m\u001b[1;33m)\u001b[0m\u001b[1;33m,\u001b[0m \u001b[0mschema\u001b[0m\u001b[1;33m\u001b[0m\u001b[0m\n\u001b[0m\u001b[0;32m    431\u001b[0m \u001b[1;33m\u001b[0m\u001b[0m\n\u001b[0;32m    432\u001b[0m     \u001b[1;32mdef\u001b[0m \u001b[0m_get_numpy_record_dtype\u001b[0m\u001b[1;33m(\u001b[0m\u001b[0mself\u001b[0m\u001b[1;33m,\u001b[0m \u001b[0mrec\u001b[0m\u001b[1;33m)\u001b[0m\u001b[1;33m:\u001b[0m\u001b[1;33m\u001b[0m\u001b[0m\n",
      "\u001b[1;32mc:\\users\\ldr\\appdata\\local\\programs\\python\\python36\\lib\\site-packages\\pyspark\\context.py\u001b[0m in \u001b[0;36mparallelize\u001b[1;34m(self, c, numSlices)\u001b[0m\n\u001b[0;32m    525\u001b[0m             \u001b[1;32mreturn\u001b[0m \u001b[0mself\u001b[0m\u001b[1;33m.\u001b[0m\u001b[0m_jvm\u001b[0m\u001b[1;33m.\u001b[0m\u001b[0mPythonParallelizeServer\u001b[0m\u001b[1;33m(\u001b[0m\u001b[0mself\u001b[0m\u001b[1;33m.\u001b[0m\u001b[0m_jsc\u001b[0m\u001b[1;33m.\u001b[0m\u001b[0msc\u001b[0m\u001b[1;33m(\u001b[0m\u001b[1;33m)\u001b[0m\u001b[1;33m,\u001b[0m \u001b[0mnumSlices\u001b[0m\u001b[1;33m)\u001b[0m\u001b[1;33m\u001b[0m\u001b[0m\n\u001b[0;32m    526\u001b[0m \u001b[1;33m\u001b[0m\u001b[0m\n\u001b[1;32m--> 527\u001b[1;33m         \u001b[0mjrdd\u001b[0m \u001b[1;33m=\u001b[0m \u001b[0mself\u001b[0m\u001b[1;33m.\u001b[0m\u001b[0m_serialize_to_jvm\u001b[0m\u001b[1;33m(\u001b[0m\u001b[0mc\u001b[0m\u001b[1;33m,\u001b[0m \u001b[0mserializer\u001b[0m\u001b[1;33m,\u001b[0m \u001b[0mreader_func\u001b[0m\u001b[1;33m,\u001b[0m \u001b[0mcreateRDDServer\u001b[0m\u001b[1;33m)\u001b[0m\u001b[1;33m\u001b[0m\u001b[0m\n\u001b[0m\u001b[0;32m    528\u001b[0m         \u001b[1;32mreturn\u001b[0m \u001b[0mRDD\u001b[0m\u001b[1;33m(\u001b[0m\u001b[0mjrdd\u001b[0m\u001b[1;33m,\u001b[0m \u001b[0mself\u001b[0m\u001b[1;33m,\u001b[0m \u001b[0mserializer\u001b[0m\u001b[1;33m)\u001b[0m\u001b[1;33m\u001b[0m\u001b[0m\n\u001b[0;32m    529\u001b[0m \u001b[1;33m\u001b[0m\u001b[0m\n",
      "\u001b[1;32mc:\\users\\ldr\\appdata\\local\\programs\\python\\python36\\lib\\site-packages\\pyspark\\context.py\u001b[0m in \u001b[0;36m_serialize_to_jvm\u001b[1;34m(self, data, serializer, reader_func, createRDDServer)\u001b[0m\n\u001b[0;32m    554\u001b[0m             \u001b[1;31m# without encryption, we serialize to a file, and we read the file in java and\u001b[0m\u001b[1;33m\u001b[0m\u001b[1;33m\u001b[0m\u001b[0m\n\u001b[0;32m    555\u001b[0m             \u001b[1;31m# parallelize from there.\u001b[0m\u001b[1;33m\u001b[0m\u001b[1;33m\u001b[0m\u001b[0m\n\u001b[1;32m--> 556\u001b[1;33m             \u001b[0mtempFile\u001b[0m \u001b[1;33m=\u001b[0m \u001b[0mNamedTemporaryFile\u001b[0m\u001b[1;33m(\u001b[0m\u001b[0mdelete\u001b[0m\u001b[1;33m=\u001b[0m\u001b[1;32mFalse\u001b[0m\u001b[1;33m,\u001b[0m \u001b[0mdir\u001b[0m\u001b[1;33m=\u001b[0m\u001b[0mself\u001b[0m\u001b[1;33m.\u001b[0m\u001b[0m_temp_dir\u001b[0m\u001b[1;33m)\u001b[0m\u001b[1;33m\u001b[0m\u001b[0m\n\u001b[0m\u001b[0;32m    557\u001b[0m             \u001b[1;32mtry\u001b[0m\u001b[1;33m:\u001b[0m\u001b[1;33m\u001b[0m\u001b[0m\n\u001b[0;32m    558\u001b[0m                 \u001b[1;32mtry\u001b[0m\u001b[1;33m:\u001b[0m\u001b[1;33m\u001b[0m\u001b[0m\n",
      "\u001b[1;32mc:\\users\\ldr\\appdata\\local\\programs\\python\\python36\\lib\\tempfile.py\u001b[0m in \u001b[0;36mNamedTemporaryFile\u001b[1;34m(mode, buffering, encoding, newline, suffix, prefix, dir, delete)\u001b[0m\n\u001b[0;32m    547\u001b[0m         \u001b[0mflags\u001b[0m \u001b[1;33m|=\u001b[0m \u001b[0m_os\u001b[0m\u001b[1;33m.\u001b[0m\u001b[0mO_TEMPORARY\u001b[0m\u001b[1;33m\u001b[0m\u001b[0m\n\u001b[0;32m    548\u001b[0m \u001b[1;33m\u001b[0m\u001b[0m\n\u001b[1;32m--> 549\u001b[1;33m     \u001b[1;33m(\u001b[0m\u001b[0mfd\u001b[0m\u001b[1;33m,\u001b[0m \u001b[0mname\u001b[0m\u001b[1;33m)\u001b[0m \u001b[1;33m=\u001b[0m \u001b[0m_mkstemp_inner\u001b[0m\u001b[1;33m(\u001b[0m\u001b[0mdir\u001b[0m\u001b[1;33m,\u001b[0m \u001b[0mprefix\u001b[0m\u001b[1;33m,\u001b[0m \u001b[0msuffix\u001b[0m\u001b[1;33m,\u001b[0m \u001b[0mflags\u001b[0m\u001b[1;33m,\u001b[0m \u001b[0moutput_type\u001b[0m\u001b[1;33m)\u001b[0m\u001b[1;33m\u001b[0m\u001b[0m\n\u001b[0m\u001b[0;32m    550\u001b[0m     \u001b[1;32mtry\u001b[0m\u001b[1;33m:\u001b[0m\u001b[1;33m\u001b[0m\u001b[0m\n\u001b[0;32m    551\u001b[0m         file = _io.open(fd, mode, buffering=buffering,\n",
      "\u001b[1;32mc:\\users\\ldr\\appdata\\local\\programs\\python\\python36\\lib\\tempfile.py\u001b[0m in \u001b[0;36m_mkstemp_inner\u001b[1;34m(dir, pre, suf, flags, output_type)\u001b[0m\n\u001b[0;32m    258\u001b[0m         \u001b[0mfile\u001b[0m \u001b[1;33m=\u001b[0m \u001b[0m_os\u001b[0m\u001b[1;33m.\u001b[0m\u001b[0mpath\u001b[0m\u001b[1;33m.\u001b[0m\u001b[0mjoin\u001b[0m\u001b[1;33m(\u001b[0m\u001b[0mdir\u001b[0m\u001b[1;33m,\u001b[0m \u001b[0mpre\u001b[0m \u001b[1;33m+\u001b[0m \u001b[0mname\u001b[0m \u001b[1;33m+\u001b[0m \u001b[0msuf\u001b[0m\u001b[1;33m)\u001b[0m\u001b[1;33m\u001b[0m\u001b[0m\n\u001b[0;32m    259\u001b[0m         \u001b[1;32mtry\u001b[0m\u001b[1;33m:\u001b[0m\u001b[1;33m\u001b[0m\u001b[0m\n\u001b[1;32m--> 260\u001b[1;33m             \u001b[0mfd\u001b[0m \u001b[1;33m=\u001b[0m \u001b[0m_os\u001b[0m\u001b[1;33m.\u001b[0m\u001b[0mopen\u001b[0m\u001b[1;33m(\u001b[0m\u001b[0mfile\u001b[0m\u001b[1;33m,\u001b[0m \u001b[0mflags\u001b[0m\u001b[1;33m,\u001b[0m \u001b[1;36m0o600\u001b[0m\u001b[1;33m)\u001b[0m\u001b[1;33m\u001b[0m\u001b[0m\n\u001b[0m\u001b[0;32m    261\u001b[0m         \u001b[1;32mexcept\u001b[0m \u001b[0mFileExistsError\u001b[0m\u001b[1;33m:\u001b[0m\u001b[1;33m\u001b[0m\u001b[0m\n\u001b[0;32m    262\u001b[0m             \u001b[1;32mcontinue\u001b[0m    \u001b[1;31m# try again\u001b[0m\u001b[1;33m\u001b[0m\u001b[0m\n",
      "\u001b[1;31mFileNotFoundError\u001b[0m: [Errno 2] No such file or directory: 'C:\\\\Users\\\\ldr\\\\AppData\\\\Local\\\\Temp\\\\spark-b93eeb26-db00-49c2-9179-5d0770590ff7\\\\pyspark-47560876-bd60-4d20-9b91-35b70fcab783\\\\tmpva2u80gz'"
     ]
    }
   ],
   "source": [
    "t1 = time.perf_counter()\n",
    "draw_regret_bound('ALS', nb_arms=3, nb_exp=10, nb_steps=5)\n",
    "t2 = time.perf_counter()"
   ]
  },
  {
   "cell_type": "code",
   "execution_count": null,
   "metadata": {},
   "outputs": [],
   "source": [
    "t2-t1"
   ]
  }
 ],
 "metadata": {
  "kernelspec": {
   "display_name": "Python 3",
   "language": "python",
   "name": "python3"
  },
  "language_info": {
   "codemirror_mode": {
    "name": "ipython",
    "version": 3
   },
   "file_extension": ".py",
   "mimetype": "text/x-python",
   "name": "python",
   "nbconvert_exporter": "python",
   "pygments_lexer": "ipython3",
   "version": "3.6.2"
  }
 },
 "nbformat": 4,
 "nbformat_minor": 2
}
