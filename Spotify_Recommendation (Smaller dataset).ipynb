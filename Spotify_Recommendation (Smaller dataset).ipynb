{
 "cells": [
  {
   "cell_type": "markdown",
   "metadata": {},
   "source": [
    "# Spotify Music Recommendation System"
   ]
  },
  {
   "cell_type": "markdown",
   "metadata": {},
   "source": [
    "We draw inspiration from Spotify's \"Discover Weekly\" service and aim to recommend a list of songs to each user according to his preference."
   ]
  },
  {
   "cell_type": "markdown",
   "metadata": {},
   "source": [
    "The environment and the agents remain the same as shown in the notebook \"Spotify Recommendation (Large dataset)\".\n",
    "\n",
    "Here, we try on a smaller dataset by the condition \"user_id<=200\"."
   ]
  },
  {
   "cell_type": "code",
   "execution_count": 2,
   "metadata": {},
   "outputs": [],
   "source": [
    "%matplotlib inline\n",
    "import numpy as np\n",
    "import matplotlib.pyplot as plt\n",
    "from copy import copy, deepcopy\n",
    "import random\n",
    "from scipy.stats import norm\n",
    "import pandas as pd\n",
    "from sklearn.preprocessing import MinMaxScaler\n",
    "import time\n",
    "import tensorflow as tf"
   ]
  },
  {
   "cell_type": "markdown",
   "metadata": {},
   "source": [
    "## Import Data "
   ]
  },
  {
   "cell_type": "code",
   "execution_count": 3,
   "metadata": {},
   "outputs": [
    {
     "data": {
      "text/html": [
       "<div>\n",
       "<style scoped>\n",
       "    .dataframe tbody tr th:only-of-type {\n",
       "        vertical-align: middle;\n",
       "    }\n",
       "\n",
       "    .dataframe tbody tr th {\n",
       "        vertical-align: top;\n",
       "    }\n",
       "\n",
       "    .dataframe thead th {\n",
       "        text-align: right;\n",
       "    }\n",
       "</style>\n",
       "<table border=\"1\" class=\"dataframe\">\n",
       "  <thead>\n",
       "    <tr style=\"text-align: right;\">\n",
       "      <th></th>\n",
       "      <th>user_id</th>\n",
       "      <th>item_id</th>\n",
       "      <th>listening_time_in_scale_0-5</th>\n",
       "      <th>title</th>\n",
       "      <th>duration</th>\n",
       "      <th>loudness</th>\n",
       "      <th>tempo</th>\n",
       "      <th>key</th>\n",
       "      <th>event_type</th>\n",
       "    </tr>\n",
       "  </thead>\n",
       "  <tbody>\n",
       "    <tr>\n",
       "      <th>0</th>\n",
       "      <td>196</td>\n",
       "      <td>242</td>\n",
       "      <td>4.06</td>\n",
       "      <td>Atmosphere Station</td>\n",
       "      <td>191.81669</td>\n",
       "      <td>-38.525</td>\n",
       "      <td>90.084</td>\n",
       "      <td>9</td>\n",
       "      <td>\"Listen it frequently\"\"View Song Information\"\"...</td>\n",
       "    </tr>\n",
       "    <tr>\n",
       "      <th>1</th>\n",
       "      <td>63</td>\n",
       "      <td>242</td>\n",
       "      <td>3.24</td>\n",
       "      <td>Atmosphere Station</td>\n",
       "      <td>191.81669</td>\n",
       "      <td>-38.525</td>\n",
       "      <td>90.084</td>\n",
       "      <td>9</td>\n",
       "      <td>\"Listen it frequently\"\"Like\"\"View Song Informa...</td>\n",
       "    </tr>\n",
       "    <tr>\n",
       "      <th>2</th>\n",
       "      <td>154</td>\n",
       "      <td>242</td>\n",
       "      <td>4.34</td>\n",
       "      <td>Atmosphere Station</td>\n",
       "      <td>191.81669</td>\n",
       "      <td>-38.525</td>\n",
       "      <td>90.084</td>\n",
       "      <td>9</td>\n",
       "      <td>\"Listen it frequently\"\"Like\"\"View Song Informa...</td>\n",
       "    </tr>\n",
       "    <tr>\n",
       "      <th>3</th>\n",
       "      <td>34</td>\n",
       "      <td>242</td>\n",
       "      <td>3.57</td>\n",
       "      <td>Atmosphere Station</td>\n",
       "      <td>191.81669</td>\n",
       "      <td>-38.525</td>\n",
       "      <td>90.084</td>\n",
       "      <td>9</td>\n",
       "      <td>\"Have listened  it completely\"\"View Song Infor...</td>\n",
       "    </tr>\n",
       "    <tr>\n",
       "      <th>4</th>\n",
       "      <td>35</td>\n",
       "      <td>242</td>\n",
       "      <td>3.09</td>\n",
       "      <td>Atmosphere Station</td>\n",
       "      <td>191.81669</td>\n",
       "      <td>-38.525</td>\n",
       "      <td>90.084</td>\n",
       "      <td>9</td>\n",
       "      <td>\"Have listened  it completely\"\"View Song Infor...</td>\n",
       "    </tr>\n",
       "  </tbody>\n",
       "</table>\n",
       "</div>"
      ],
      "text/plain": [
       "   user_id  item_id  listening_time_in_scale_0-5               title  \\\n",
       "0      196      242                         4.06  Atmosphere Station   \n",
       "1       63      242                         3.24  Atmosphere Station   \n",
       "2      154      242                         4.34  Atmosphere Station   \n",
       "3       34      242                         3.57  Atmosphere Station   \n",
       "4       35      242                         3.09  Atmosphere Station   \n",
       "\n",
       "    duration  loudness   tempo  key  \\\n",
       "0  191.81669   -38.525  90.084    9   \n",
       "1  191.81669   -38.525  90.084    9   \n",
       "2  191.81669   -38.525  90.084    9   \n",
       "3  191.81669   -38.525  90.084    9   \n",
       "4  191.81669   -38.525  90.084    9   \n",
       "\n",
       "                                          event_type  \n",
       "0  \"Listen it frequently\"\"View Song Information\"\"...  \n",
       "1  \"Listen it frequently\"\"Like\"\"View Song Informa...  \n",
       "2  \"Listen it frequently\"\"Like\"\"View Song Informa...  \n",
       "3  \"Have listened  it completely\"\"View Song Infor...  \n",
       "4  \"Have listened  it completely\"\"View Song Infor...  "
      ]
     },
     "execution_count": 3,
     "metadata": {},
     "output_type": "execute_result"
    }
   ],
   "source": [
    "df = pd.read_csv(\"smaller_songs_dataset.csv\")\n",
    "df.head()"
   ]
  },
  {
   "cell_type": "code",
   "execution_count": 4,
   "metadata": {},
   "outputs": [
    {
     "data": {
      "text/plain": [
       "\"Listen it frequently\"\"Download\"                                                               286\n",
       "\"Have listened  it completely\"\"Like\"\"View Song Information\"\"Download\"                          283\n",
       "\"Listen it frequently\"\"Add it to your music\"                                                   282\n",
       "\"Have listened  it completely\"\"View Song Information\"\"Add it to your music\"                    279\n",
       "\"Skip it\"\"Not recommend it anymore\"                                                            278\n",
       "\"Listen it frequently\"\"Like\"\"View Song Information\"                                            275\n",
       "\"Have listened  it completely\"\"Download\"                                                       273\n",
       "\"Skip it frequently\"\"Not recommend it anymore\"                                                 273\n",
       "\"Listen it frequently\"\"Like\"\"Download\"                                                         272\n",
       "\"Have listened  it completely\"\"Like\"\"Add it to your music\"                                     270\n",
       "\"Have listened  it completely\"\"Like\"\"View Song Information\"                                    269\n",
       "\"Have listened  it completely\"\"Like\"                                                           268\n",
       "\"Listen it frequently\"\"Like\"\"View Song Information\"\"Add it to your music\"                      265\n",
       "\"Skip it\"                                                                                      265\n",
       "\"Have listened  it completely\"\"Like\"\"Download\"                                                 264\n",
       "\"Listen it frequently\"                                                                         264\n",
       "\"Listen it frequently\"\"View Song Information\"\"Add it to your music\"\"Download\"                  261\n",
       "\"Have listened  it completely\"\"Like\"\"Add it to your music\"\"Download\"                           261\n",
       "\"Listen it frequently\"\"View Song Information\"                                                  261\n",
       "\"Listen it frequently\"\"Like\"\"Add it to your music\"\"Download\"                                   260\n",
       "\"Listen it frequently\"\"View Song Information\"\"Download\"                                        260\n",
       "\"Listen it frequently\"\"View Song Information\"\"Add it to your music\"                            257\n",
       "\"Have listened  it completely\"                                                                 257\n",
       "\"Listen it frequently\"\"Like\"\"View Song Information\"\"Download\"                                  257\n",
       "\"Have listened  it completely\"\"View Song Information\"\"Add it to your music\"\"Download\"          255\n",
       "\"Listen it frequently\"\"Like\"\"Add it to your music\"                                             254\n",
       "\"Have listened  it completely\"\"Add it to your music\"                                           254\n",
       "\"Have listened  it completely\"\"Like\"\"View Song Information\"\"Add it to your music\"              252\n",
       "\"Listen it frequently\"\"Like\"\"View Song Information\"\"Add it to your music\"\"Download\"            250\n",
       "\"Have listened  it completely\"\"View Song Information\"\"Download\"                                249\n",
       "\"Have listened  it completely\"\"Add it to your music\"\"Download\"                                 248\n",
       "\"Skip it frequently\"                                                                           248\n",
       "\"Listen it frequently\"\"Add it to your music\"\"Download\"                                         246\n",
       "\"Listen it frequently\"\"Like\"                                                                   240\n",
       "\"Have listened  it completely\"\"Like\"\"View Song Information\"\"Add it to your music\"\"Download\"    240\n",
       "\"Have listened  it completely\"\"View Song Information\"                                          233\n",
       "Name: event_type, dtype: int64"
      ]
     },
     "execution_count": 4,
     "metadata": {},
     "output_type": "execute_result"
    }
   ],
   "source": [
    "df['event_type'].value_counts()"
   ]
  },
  {
   "cell_type": "code",
   "execution_count": 5,
   "metadata": {},
   "outputs": [
    {
     "name": "stdout",
     "output_type": "stream",
     "text": [
      "<class 'pandas.core.frame.DataFrame'>\n",
      "RangeIndex: 9409 entries, 0 to 9408\n",
      "Data columns (total 9 columns):\n",
      "user_id                        9409 non-null int64\n",
      "item_id                        9409 non-null int64\n",
      "listening_time_in_scale_0-5    9409 non-null float64\n",
      "title                          9409 non-null object\n",
      "duration                       9409 non-null float64\n",
      "loudness                       9409 non-null float64\n",
      "tempo                          9409 non-null float64\n",
      "key                            9409 non-null int64\n",
      "event_type                     9409 non-null object\n",
      "dtypes: float64(4), int64(3), object(2)\n",
      "memory usage: 661.6+ KB\n"
     ]
    }
   ],
   "source": [
    "df.info()"
   ]
  },
  {
   "cell_type": "code",
   "execution_count": 6,
   "metadata": {},
   "outputs": [
    {
     "name": "stdout",
     "output_type": "stream",
     "text": [
      "max_user_id=200, max_item_id=300\n"
     ]
    }
   ],
   "source": [
    "max_user_id = df['user_id'].max()\n",
    "max_item_id = df['item_id'].max()\n",
    "\n",
    "print('max_user_id=%d, max_item_id=%d' % (max_user_id, max_item_id))"
   ]
  },
  {
   "cell_type": "code",
   "execution_count": 7,
   "metadata": {},
   "outputs": [
    {
     "data": {
      "text/plain": [
       "50     118\n",
       "258    116\n",
       "100    105\n",
       "294    102\n",
       "286    100\n",
       "181     98\n",
       "288     96\n",
       "7       94\n",
       "121     94\n",
       "1       90\n",
       "56      86\n",
       "300     85\n",
       "174     83\n",
       "127     83\n",
       "237     81\n",
       "222     80\n",
       "98      80\n",
       "79      75\n",
       "25      72\n",
       "269     72\n",
       "117     71\n",
       "172     70\n",
       "276     69\n",
       "15      67\n",
       "9       67\n",
       "69      66\n",
       "151     65\n",
       "118     64\n",
       "204     64\n",
       "173     63\n",
       "      ... \n",
       "41       7\n",
       "103      7\n",
       "85       7\n",
       "18       6\n",
       "149      6\n",
       "279      6\n",
       "263      5\n",
       "112      5\n",
       "16       5\n",
       "206      5\n",
       "138      5\n",
       "46       4\n",
       "256      4\n",
       "130      4\n",
       "253      4\n",
       "267      3\n",
       "35       3\n",
       "34       3\n",
       "84       3\n",
       "115      3\n",
       "104      2\n",
       "37       2\n",
       "36       2\n",
       "247      2\n",
       "113      2\n",
       "146      2\n",
       "296      2\n",
       "74       1\n",
       "75       1\n",
       "119      1\n",
       "Name: item_id, Length: 300, dtype: int64"
      ]
     },
     "execution_count": 7,
     "metadata": {},
     "output_type": "execute_result"
    }
   ],
   "source": [
    "df['item_id'].value_counts()"
   ]
  },
  {
   "cell_type": "code",
   "execution_count": 8,
   "metadata": {},
   "outputs": [
    {
     "data": {
      "text/plain": [
       "1      272\n",
       "13     191\n",
       "92     181\n",
       "94     160\n",
       "59     159\n",
       "7      153\n",
       "130    145\n",
       "178    140\n",
       "194    139\n",
       "95     129\n",
       "18     127\n",
       "62     123\n",
       "151    119\n",
       "85     119\n",
       "109    118\n",
       "43     115\n",
       "64     114\n",
       "145    113\n",
       "90     111\n",
       "184    110\n",
       "144    107\n",
       "6      106\n",
       "198    103\n",
       "158    102\n",
       "56     102\n",
       "102     99\n",
       "44      98\n",
       "87      98\n",
       "200     98\n",
       "49      97\n",
       "      ... \n",
       "129     10\n",
       "171     10\n",
       "4       10\n",
       "78      10\n",
       "34       9\n",
       "146      9\n",
       "107      9\n",
       "105      9\n",
       "86       9\n",
       "9        9\n",
       "47       8\n",
       "149      8\n",
       "170      8\n",
       "112      8\n",
       "35       8\n",
       "134      8\n",
       "33       8\n",
       "39       7\n",
       "191      7\n",
       "140      7\n",
       "155      6\n",
       "179      6\n",
       "172      6\n",
       "143      6\n",
       "166      6\n",
       "61       6\n",
       "147      5\n",
       "111      5\n",
       "36       5\n",
       "88       3\n",
       "Name: user_id, Length: 200, dtype: int64"
      ]
     },
     "execution_count": 8,
     "metadata": {},
     "output_type": "execute_result"
    }
   ],
   "source": [
    "df['user_id'].value_counts()"
   ]
  },
  {
   "cell_type": "markdown",
   "metadata": {},
   "source": [
    "## Data Preprocessing "
   ]
  },
  {
   "cell_type": "markdown",
   "metadata": {},
   "source": [
    "Define strength for each event in 'event_type'\n",
    "\n",
    "Quantify implicit event feedback "
   ]
  },
  {
   "cell_type": "code",
   "execution_count": 9,
   "metadata": {},
   "outputs": [],
   "source": [
    "# event --> strength\n",
    "event_type_strength = {\n",
    "    'Listen it frequently': 3.0,\n",
    "    'Have listened  it completely': 1.0,\n",
    "    'Like': 1.0,\n",
    "    'View Song Information': 1.0,\n",
    "    'Download': 3.0,\n",
    "    'Add it to your music': 2.0,\n",
    "    'Skip it':  -1.0, \n",
    "    'Skip it frequently': -3.0,\n",
    "    'Not recommend it anymore': -2.0}"
   ]
  },
  {
   "cell_type": "code",
   "execution_count": 10,
   "metadata": {},
   "outputs": [],
   "source": [
    "# extract event into a list from a string\n",
    "df['event_type'] = df['event_type'].apply(lambda x: [e for e in x.split(\"\\\"\") if len(e)])\n",
    "\n",
    "# add a column event_strength\n",
    "df['event_strength'] = df['event_type'].apply(lambda x: np.sum([event_type_strength[e] for e in x]))"
   ]
  },
  {
   "cell_type": "code",
   "execution_count": 11,
   "metadata": {},
   "outputs": [
    {
     "data": {
      "text/plain": [
       " 6.0     1328\n",
       " 4.0     1323\n",
       " 5.0     1322\n",
       " 7.0     1313\n",
       " 3.0      787\n",
       " 8.0      743\n",
       "-3.0      526\n",
       " 9.0      521\n",
       " 2.0      501\n",
       "-5.0      273\n",
       "-1.0      265\n",
       " 1.0      257\n",
       " 10.0     250\n",
       "Name: event_strength, dtype: int64"
      ]
     },
     "execution_count": 11,
     "metadata": {},
     "output_type": "execute_result"
    }
   ],
   "source": [
    "# stats on event strength\n",
    "df['event_strength'].value_counts()"
   ]
  },
  {
   "cell_type": "code",
   "execution_count": 12,
   "metadata": {},
   "outputs": [
    {
     "data": {
      "text/html": [
       "<div>\n",
       "<style scoped>\n",
       "    .dataframe tbody tr th:only-of-type {\n",
       "        vertical-align: middle;\n",
       "    }\n",
       "\n",
       "    .dataframe tbody tr th {\n",
       "        vertical-align: top;\n",
       "    }\n",
       "\n",
       "    .dataframe thead th {\n",
       "        text-align: right;\n",
       "    }\n",
       "</style>\n",
       "<table border=\"1\" class=\"dataframe\">\n",
       "  <thead>\n",
       "    <tr style=\"text-align: right;\">\n",
       "      <th></th>\n",
       "      <th>user_id</th>\n",
       "      <th>item_id</th>\n",
       "      <th>listening_time_in_scale_0-5</th>\n",
       "      <th>title</th>\n",
       "      <th>duration</th>\n",
       "      <th>loudness</th>\n",
       "      <th>tempo</th>\n",
       "      <th>key</th>\n",
       "      <th>event_type</th>\n",
       "      <th>event_strength</th>\n",
       "    </tr>\n",
       "  </thead>\n",
       "  <tbody>\n",
       "    <tr>\n",
       "      <th>0</th>\n",
       "      <td>196</td>\n",
       "      <td>242</td>\n",
       "      <td>4.06</td>\n",
       "      <td>Atmosphere Station</td>\n",
       "      <td>191.81669</td>\n",
       "      <td>-38.525</td>\n",
       "      <td>90.084</td>\n",
       "      <td>9</td>\n",
       "      <td>[Listen it frequently, View Song Information, ...</td>\n",
       "      <td>7.0</td>\n",
       "    </tr>\n",
       "    <tr>\n",
       "      <th>1</th>\n",
       "      <td>63</td>\n",
       "      <td>242</td>\n",
       "      <td>3.24</td>\n",
       "      <td>Atmosphere Station</td>\n",
       "      <td>191.81669</td>\n",
       "      <td>-38.525</td>\n",
       "      <td>90.084</td>\n",
       "      <td>9</td>\n",
       "      <td>[Listen it frequently, Like, View Song Informa...</td>\n",
       "      <td>5.0</td>\n",
       "    </tr>\n",
       "    <tr>\n",
       "      <th>2</th>\n",
       "      <td>154</td>\n",
       "      <td>242</td>\n",
       "      <td>4.34</td>\n",
       "      <td>Atmosphere Station</td>\n",
       "      <td>191.81669</td>\n",
       "      <td>-38.525</td>\n",
       "      <td>90.084</td>\n",
       "      <td>9</td>\n",
       "      <td>[Listen it frequently, Like, View Song Informa...</td>\n",
       "      <td>7.0</td>\n",
       "    </tr>\n",
       "    <tr>\n",
       "      <th>3</th>\n",
       "      <td>34</td>\n",
       "      <td>242</td>\n",
       "      <td>3.57</td>\n",
       "      <td>Atmosphere Station</td>\n",
       "      <td>191.81669</td>\n",
       "      <td>-38.525</td>\n",
       "      <td>90.084</td>\n",
       "      <td>9</td>\n",
       "      <td>[Have listened  it completely, View Song Infor...</td>\n",
       "      <td>5.0</td>\n",
       "    </tr>\n",
       "    <tr>\n",
       "      <th>4</th>\n",
       "      <td>35</td>\n",
       "      <td>242</td>\n",
       "      <td>3.09</td>\n",
       "      <td>Atmosphere Station</td>\n",
       "      <td>191.81669</td>\n",
       "      <td>-38.525</td>\n",
       "      <td>90.084</td>\n",
       "      <td>9</td>\n",
       "      <td>[Have listened  it completely, View Song Infor...</td>\n",
       "      <td>4.0</td>\n",
       "    </tr>\n",
       "  </tbody>\n",
       "</table>\n",
       "</div>"
      ],
      "text/plain": [
       "   user_id  item_id  listening_time_in_scale_0-5               title  \\\n",
       "0      196      242                         4.06  Atmosphere Station   \n",
       "1       63      242                         3.24  Atmosphere Station   \n",
       "2      154      242                         4.34  Atmosphere Station   \n",
       "3       34      242                         3.57  Atmosphere Station   \n",
       "4       35      242                         3.09  Atmosphere Station   \n",
       "\n",
       "    duration  loudness   tempo  key  \\\n",
       "0  191.81669   -38.525  90.084    9   \n",
       "1  191.81669   -38.525  90.084    9   \n",
       "2  191.81669   -38.525  90.084    9   \n",
       "3  191.81669   -38.525  90.084    9   \n",
       "4  191.81669   -38.525  90.084    9   \n",
       "\n",
       "                                          event_type  event_strength  \n",
       "0  [Listen it frequently, View Song Information, ...             7.0  \n",
       "1  [Listen it frequently, Like, View Song Informa...             5.0  \n",
       "2  [Listen it frequently, Like, View Song Informa...             7.0  \n",
       "3  [Have listened  it completely, View Song Infor...             5.0  \n",
       "4  [Have listened  it completely, View Song Infor...             4.0  "
      ]
     },
     "execution_count": 12,
     "metadata": {},
     "output_type": "execute_result"
    }
   ],
   "source": [
    "df.head()"
   ]
  },
  {
   "cell_type": "markdown",
   "metadata": {},
   "source": [
    "## Environment"
   ]
  },
  {
   "cell_type": "code",
   "execution_count": 13,
   "metadata": {},
   "outputs": [],
   "source": [
    "def random_argmax(rng, list_):\n",
    "    \"\"\" return a random element among max when multiple max exists.\"\"\"\n",
    "    return rng.choice(np.argwhere(list_ == list_.max()).flatten())"
   ]
  },
  {
   "cell_type": "code",
   "execution_count": 14,
   "metadata": {},
   "outputs": [],
   "source": [
    "np.set_printoptions(precision=2)"
   ]
  },
  {
   "cell_type": "code",
   "execution_count": 15,
   "metadata": {},
   "outputs": [],
   "source": [
    "class music_rec_env:\n",
    "    \"\"\" A rating environment that simulates Spotify.\n",
    "        User and items are represented by points in R^3 modelling song style (loudness, tempo, key) \n",
    "        User interest for a given item is modeled by 3 parts:\n",
    "        1. dot product of user,item embedding vector (cosine similarity, style coherence)\n",
    "        2. user listening time estimation\n",
    "        3. user event estimation (event_strength)\n",
    "        action: Recommend a song list for a given user among those he has never listened to before\n",
    "    \"\"\"\n",
    "    \n",
    "    def __init__(self, data, seed=None,\n",
    "                 internal_embedding_size=3,\n",
    "                 displayed_users_embedding_size=2,\n",
    "                 displayed_items_embedding_size=2,\n",
    "                 noise_size=2):\n",
    "        self.raw_data = data  # pandas dataframe with 'user_id', 'item_id' columns\n",
    "        self.nb_users = len(df['user_id'].value_counts())\n",
    "        self.nb_items = len(df['item_id'].value_counts())\n",
    "        self.internal_embedding_size = internal_embedding_size\n",
    "        self.displayed_users_embedding_size = displayed_users_embedding_size\n",
    "        self.displayed_items_embedding_size = displayed_items_embedding_size\n",
    "        self.noise_size = noise_size\n",
    "        self._rng = np.random.RandomState(seed)\n",
    "        \n",
    "        self.action_size = self.nb_items\n",
    "        self.sampling_limit = self.nb_users * self.nb_items\n",
    "        self.users_embedding = None\n",
    "        self.items_embedding = None\n",
    "        self.user_item_history = None\n",
    "        self.done = False\n",
    "\n",
    "    def step(self, action_list):\n",
    "        # check if behind done\n",
    "        if self.done:\n",
    "            print(\"Calling step after it returns done=True.\\n\"\n",
    "                  \"Please reset the environment.\")\n",
    "\n",
    "        # compute potential rewards\n",
    "        potential_rewards = [self._get_user_item_rating(self.current_user, i) \n",
    "                             for i in np.argwhere(self.user_item_history[self.current_user, :] == 0).flatten()]\n",
    "        \n",
    "        # compute optimal reward\n",
    "        optimal_returns = np.array(sorted(potential_rewards, reverse = True))[:len(action_list)]\n",
    "\n",
    "        # map actions to items\n",
    "        self.recommended_items = [np.argwhere(self.user_item_history[self.current_user, :] == 0)[action][0] for action in action_list]\n",
    "        \n",
    "        # mark items as rated\n",
    "        self.user_item_history[self.current_user, self.recommended_items] = 1\n",
    "\n",
    "        # compute reward R_t\n",
    "        self.current_ratings = [self._get_user_item_rating(self.current_user, rec_item) for rec_item in self.recommended_items]\n",
    "        self.rewards = self.current_ratings\n",
    "        \n",
    "        # check if done\n",
    "        if self.user_item_history.sum() == self.sampling_limit:\n",
    "            self.done = True\n",
    "\n",
    "        # compute next state S_{t+1}\n",
    "        self._next_state()\n",
    "\n",
    "        # update action space t+1\n",
    "        self.action_size = len(self.available_items)\n",
    "\n",
    "        return self.rewards, self.state, self.done, optimal_returns\n",
    "\n",
    "    def reset(self, data=None, seed=None):\n",
    "        \n",
    "        if data:\n",
    "            self.raw_data = data\n",
    "            \n",
    "        if seed:\n",
    "            self._rng = np.random.RandomState(seed)\n",
    " \n",
    "        # create item embedding matrix (song style features) \n",
    "        song_df = self.raw_data[['item_id','loudness','tempo','key']].drop_duplicates().sort_values(by = 'item_id')\n",
    "        style_raw_data = np.vstack((song_df['loudness'], song_df['tempo'],song_df['key'])).T\n",
    "        min_max_scaler = MinMaxScaler()\n",
    "        self.items_embedding = min_max_scaler.fit_transform(style_raw_data)\n",
    "        \n",
    "        # create user embedding matrix (song style preference features)\n",
    "        self.users_embedding = np.array([])\n",
    "        for user in np.array(sorted(self.raw_data['user_id'].unique())):\n",
    "            user_raw_data = self.raw_data[self.raw_data['user_id']==user]\n",
    "            tmp = user_raw_data[['loudness','tempo','key']].mul(user_raw_data['listening_time_in_scale_0-5'], axis=0)\n",
    "            tmp = tmp.div(user_raw_data['listening_time_in_scale_0-5'].sum())\n",
    "            user_unscaled_data = np.array(tmp.mean(axis=0))\n",
    "            self.users_embedding = np.append(self.users_embedding, user_unscaled_data)    \n",
    "        self.users_embedding = min_max_scaler.fit_transform(self.users_embedding.reshape(self.raw_data['user_id'].nunique(),3))    \n",
    "\n",
    "        # initialize history matrix, recommend history + listening history\n",
    "        # listening/reocmmend history = 1\n",
    "        self.user_item_history = np.zeros((self.nb_users, self.nb_items))\n",
    "        v_func = np.vectorize(self._get_listening_history)\n",
    "        v_func(a=np.array(self.raw_data['user_id']), b=np.array(self.raw_data['item_id']))\n",
    "        \n",
    "        self.done = False\n",
    "\n",
    "        self._next_state()\n",
    "        return self.state\n",
    "     \n",
    "    def _get_listening_history(self, a, b):\n",
    "        # record listening history in raw_data\n",
    "        # a: user_id, b: item_id, M: ndarray\n",
    "        self.user_item_history[a-1,b-1] = 1  # both id start from 1\n",
    "\n",
    "    def _get_user_item_rating(self, user, item): \n",
    "        # score = style_matching_score + estimated_time_bonus + estimated_event_bonus\n",
    "        # all 3 parts range from 0 to 1\n",
    "\n",
    "        # compute style_matching_score\n",
    "        style_matching_score = self.users_embedding[user].dot(self.items_embedding[item])\n",
    "        \n",
    "        user_raw_data = self.raw_data[self.raw_data['user_id']==user]\n",
    "        songs_similarity = self.items_embedding[np.array(user_raw_data['item_id'])-1,:].dot(self.items_embedding[item])\n",
    "        \n",
    "        # compute estimated_time_bonus   \n",
    "        unscaled_estimated_time_bonuses = user_raw_data['listening_time_in_scale_0-5'].mul(songs_similarity)\n",
    "        scaled_estimated_time_bonuses = unscaled_estimated_time_bonuses.div(np.sum(songs_similarity))\n",
    "        estimated_time_bonus = (scaled_estimated_time_bonuses.sum() - user_raw_data['listening_time_in_scale_0-5'].min())/ \\\n",
    "                               (user_raw_data['listening_time_in_scale_0-5'].max() - user_raw_data['listening_time_in_scale_0-5'].min())\n",
    "        \n",
    "        # compute estimated_event_bonus\n",
    "        unscaled_estimated_event_bonuses = user_raw_data['event_strength'].mul(songs_similarity)\n",
    "        scaled_estimated_event_bonuses = unscaled_estimated_event_bonuses.div(np.sum(songs_similarity))\n",
    "        estimated_event_bonus = (scaled_estimated_event_bonuses.sum() - user_raw_data['event_strength'].min())/ \\\n",
    "                                (user_raw_data['event_strength'].max() - user_raw_data['event_strength'].min())\n",
    "        \n",
    "        score = style_matching_score + estimated_time_bonus + estimated_event_bonus\n",
    "        return score\n",
    "\n",
    "    def _get_variables(self, user, item):\n",
    "        user_embedding = self.users_embedding[user]\n",
    "        item_embedding = self.items_embedding[item]\n",
    "        if self.displayed_users_embedding_size + self.displayed_items_embedding_size > 0:\n",
    "            variables = np.array([user_embedding[:self.displayed_users_embedding_size],\n",
    "                                  item_embedding[:self.displayed_items_embedding_size]])\n",
    "\n",
    "            if self.noise_size > 0:\n",
    "                noise = self._rng.normal(loc=np.zeros(self.noise_size),\n",
    "                                         scale=np.ones(self.noise_size)/2,\n",
    "                                         size=self.noise_size)\n",
    "                variables = np.append(variables, noise)\n",
    "\n",
    "            return variables\n",
    "\n",
    "    def _get_new_user(self):\n",
    "        has_picked = False\n",
    "        user = self._rng.randint(0, self.nb_users)\n",
    "        # get a new user who hasn't tried all the songs\n",
    "        while np.sum(self.user_item_history[user, :]) == self.nb_items:\n",
    "            user = self._rng.randint(0, self.nb_users)\n",
    "        return user    \n",
    "\n",
    "    def _next_state(self):\n",
    "        # Pick a user\n",
    "        if self.user_item_history.sum() < self.sampling_limit: \n",
    "            self.current_user = self._get_new_user()\n",
    "        else:\n",
    "            self.current_user = None\n",
    "\n",
    "        # list available items\n",
    "        self.available_items = np.argwhere(self.user_item_history[self.current_user, :] == 0)\n",
    "\n",
    "        self.state = list()\n",
    "        for i in self.available_items:\n",
    "            item = i[0]   \n",
    "            # compute variables (part of the user, item embedding (with noise))\n",
    "            variables = self._get_variables(self.current_user, item)\n",
    "            self.state.append([self.current_user+1, item+1, variables])\n"
   ]
  },
  {
   "cell_type": "code",
   "execution_count": 16,
   "metadata": {},
   "outputs": [],
   "source": [
    "env =  music_rec_env(data = df, seed = 2020)"
   ]
  },
  {
   "cell_type": "code",
   "execution_count": 17,
   "metadata": {},
   "outputs": [
    {
     "data": {
      "text/plain": [
       "[[97, 2, array([ 0.94,  0.04,  0.79,  0.41,  0.18, -0.51])],\n",
       " [97, 3, array([ 0.94,  0.04,  0.8 ,  0.49,  0.05, -0.61])],\n",
       " [97, 4, array([ 0.94,  0.04,  0.93,  0.54,  0.99, -0.04])],\n",
       " [97, 5, array([ 0.94,  0.04,  0.8 ,  0.61, -0.42,  0.09])],\n",
       " [97, 6, array([ 0.94,  0.04,  0.58,  0.46, -0.13,  0.91])],\n",
       " [97, 8, array([ 0.94,  0.04,  0.68,  0.36, -0.2 , -0.01])],\n",
       " [97, 9, array([ 0.94,  0.04,  0.87,  0.47,  0.03, -1.32])],\n",
       " [97, 10, array([ 0.94,  0.04,  0.78,  0.61, -0.62, -0.79])],\n",
       " [97, 11, array([ 0.94,  0.04,  0.84,  0.49, -0.15, -0.56])],\n",
       " [97, 12, array([ 0.94,  0.04,  0.87,  0.54,  0.4 , -0.29])]]"
      ]
     },
     "execution_count": 17,
     "metadata": {},
     "output_type": "execute_result"
    }
   ],
   "source": [
    "env.reset(seed=2020)[:10]  # user, available_item, user_item_feature with noise"
   ]
  },
  {
   "cell_type": "code",
   "execution_count": 18,
   "metadata": {},
   "outputs": [
    {
     "data": {
      "text/plain": [
       "array([ 1,  7, 23, 28, 32, 50, 69, 79, 82, 83])"
      ]
     },
     "execution_count": 18,
     "metadata": {},
     "output_type": "execute_result"
    }
   ],
   "source": [
    "np.array(sorted(df[df['user_id']==97]['item_id']))[:10]"
   ]
  },
  {
   "cell_type": "markdown",
   "metadata": {},
   "source": [
    "User 865 is connecting to the platform.\n",
    "\n",
    "Recommend him three songs among all available songs.\n",
    "\n",
    "For each user-item pair, observe also a vector of features that depends on the user, the song and/or some context(like occasion, weather, user's emotion, etc)."
   ]
  },
  {
   "cell_type": "code",
   "execution_count": 19,
   "metadata": {},
   "outputs": [
    {
     "name": "stdout",
     "output_type": "stream",
     "text": [
      "reward:  [2.002575394346569, 2.0178195138700845, 2.136511046242062]\n",
      "best reward: [2.21 2.2  2.2 ]\n"
     ]
    }
   ],
   "source": [
    "reward, next_state, done, optimal_return = env.step(np.arange(3)) # pick the first 3 available items in the list \n",
    "print('reward: ', reward)\n",
    "print('best reward:',optimal_return)"
   ]
  },
  {
   "cell_type": "code",
   "execution_count": 22,
   "metadata": {},
   "outputs": [
    {
     "data": {
      "text/plain": [
       "[[8, 1, array([ 0.95,  0.05,  0.78,  0.5 , -0.25, -0.23])],\n",
       " [8, 2, array([ 0.95,  0.05,  0.79,  0.41, -0.02, -0.27])],\n",
       " [8, 3, array([ 0.95,  0.05,  0.8 ,  0.49,  0.59, -0.96])],\n",
       " [8, 4, array([ 0.95,  0.05,  0.93,  0.54, -0.27,  0.34])],\n",
       " [8, 5, array([ 0.95,  0.05,  0.8 ,  0.61, -0.77,  0.56])],\n",
       " [8, 6, array([ 0.95,  0.05,  0.58,  0.46,  0.14, -0.34])],\n",
       " [8, 8, array([ 0.95,  0.05,  0.68,  0.36, -0.65,  0.7 ])],\n",
       " [8, 9, array([ 0.95,  0.05,  0.87,  0.47, -0.04,  0.52])],\n",
       " [8, 10, array([ 0.95,  0.05,  0.78,  0.61,  0.53, -0.3 ])],\n",
       " [8, 12, array([ 0.95,  0.05,  0.87,  0.54,  0.63, -0.64])]]"
      ]
     },
     "execution_count": 22,
     "metadata": {},
     "output_type": "execute_result"
    }
   ],
   "source": [
    "next_state[:10]"
   ]
  },
  {
   "cell_type": "code",
   "execution_count": 23,
   "metadata": {},
   "outputs": [
    {
     "data": {
      "text/plain": [
       "array([ 1,  7,  8, 11, 15, 24, 28, 42, 50, 56])"
      ]
     },
     "execution_count": 23,
     "metadata": {},
     "output_type": "execute_result"
    }
   ],
   "source": [
    "np.array(sorted(df[df['user_id']==57]['item_id']))[:10]"
   ]
  },
  {
   "cell_type": "code",
   "execution_count": 24,
   "metadata": {},
   "outputs": [
    {
     "name": "stdout",
     "output_type": "stream",
     "text": [
      "reward:  [1.7945825118311647, 1.8011543134940111, 1.7997561397450048]\n",
      "best reward: [2.01 2.   1.99]\n"
     ]
    }
   ],
   "source": [
    "env.reset(seed=2000)[:10]\n",
    "reward, next_state, done, optimal_return = env.step(np.arange(3)) # pick the first 3 available items in the list \n",
    "print('reward: ', reward)\n",
    "print('best reward:',optimal_return)"
   ]
  },
  {
   "cell_type": "markdown",
   "metadata": {},
   "source": [
    "## Agent"
   ]
  },
  {
   "cell_type": "markdown",
   "metadata": {},
   "source": [
    "## Random Agent"
   ]
  },
  {
   "cell_type": "code",
   "execution_count": 25,
   "metadata": {},
   "outputs": [],
   "source": [
    "class Random:\n",
    "    \"\"\" Random agent. \"\"\"\n",
    "    def __init__(self, nb_arms, seed=None):\n",
    "        self._nb_arms = nb_arms\n",
    "        self._rng = np.random.RandomState(seed)\n",
    "        \n",
    "    def act(self, context):\n",
    "        actions = self._rng.randint(len(context), size = self._nb_arms)  \n",
    "        #actions = self._rng.randint(np.array(context).shape[1], size = self._nb_arms)  \n",
    "        return actions\n",
    "    \n",
    "    def update(self, context, actions, rewards):\n",
    "        pass\n",
    "        "
   ]
  },
  {
   "cell_type": "markdown",
   "metadata": {},
   "source": [
    "##  UCB Agent"
   ]
  },
  {
   "cell_type": "code",
   "execution_count": 27,
   "metadata": {},
   "outputs": [],
   "source": [
    "class UCB:\n",
    "    \"\"\" Upper Confidence Bound agent. \"\"\"\n",
    "\n",
    "    def __init__(self, nb_arms, n_user, n_item, c=2., seed=None):\n",
    "        self._nb_arms = nb_arms\n",
    "        self._n_user = n_user\n",
    "        self._n_item = n_item\n",
    "        self._c = c\n",
    "        self._rng = np.random.RandomState(seed)\n",
    "        #self._q = np.zeros(nb_arms)\n",
    "        self._q = np.zeros((self._n_user, self._n_item))\n",
    "        self._n = np.zeros((self._n_user, self._n_item))\n",
    "        self._t = 0\n",
    "        \n",
    "    def act(self, context):\n",
    "        user = context[0][0]  # current user id\n",
    "        \n",
    "        if 0 in self._n:\n",
    "            actions = self._rng.choice(np.where(self._n==0)[1], self._nb_arms) #(nb_arms,)\n",
    "        \n",
    "        else:\n",
    "            actions = [self._q[user, i] / self._n[user, i] + self._c*np.sqrt(np.log(self._t)/self._n[user, i]) \n",
    "                       for i in range(self._n_item)]\n",
    "       \n",
    "            actions = np.array(actions) #(n_item,)\n",
    "            actions = actions.argsort()[-self._nb_arms:][::-1]  #(nb_arm,), select the top nb_arms recommended songs and return their item_id\n",
    "        \n",
    "        return actions\n",
    "\n",
    "    \n",
    "    def update(self, context, actions_chosen, reward_list):\n",
    "        last_user = context[0][0]\n",
    "        for i, a in enumerate(actions_chosen):\n",
    "            self._n[last_user, a] += 1\n",
    "            self._q[last_user, a] += reward_list[i]\n",
    "        self._t += 1\n",
    "       \n",
    "        last_reco_items = np.array([context[a][1] for a in actions_chosen])\n",
    "        \n",
    "        "
   ]
  },
  {
   "cell_type": "markdown",
   "metadata": {},
   "source": [
    "## Linear UCB Agent"
   ]
  },
  {
   "cell_type": "code",
   "execution_count": 28,
   "metadata": {},
   "outputs": [],
   "source": [
    "class LinUCB:\n",
    "   \n",
    "    def __init__(self, nb_arms, n_user, n_item, c=2., seed=None, delta =0.1,alpha=0.1,lmbda=1,S=1 ):\n",
    "        self._nb_arms = nb_arms\n",
    "        self._n_user = n_user\n",
    "        self._n_item = n_item\n",
    "        self._c = c\n",
    "        self._rng = np.random.RandomState(seed)\n",
    "        #self._q = np.zeros(nb_arms)\n",
    "        self._q = np.zeros((self._n_user, self._n_item))\n",
    "        self._n = np.zeros((self._n_user, self._n_item))\n",
    "        self._t = 0\n",
    "        self._delta = delta\n",
    "        self._alpha = alpha\n",
    "        self._lmbda = lmbda\n",
    "        self._S = S\n",
    "        self._b = np.zeros(self._n_item) #(n_item,) \n",
    "        self._A_a = np.eye(self._n_item) #(n_item,n_item)\n",
    "        self._A_a_inv = np.linalg.inv(self._A_a) # inverse of covariance matrix #(n_item,n_item)\n",
    "      \n",
    " \n",
    "    def init(self):\n",
    "\n",
    "        self._t = 0\n",
    "        #self.theta = np.zeros(self.d) \n",
    "        self._theta = np.zeros(self._n_item) #(n_item,)\n",
    "\n",
    "        \n",
    "    def act(self, context):\n",
    "        user = context[0][0]  # current user id\n",
    "        \n",
    "        if 0 in self._n:\n",
    "            actions = self._rng.choice(np.where(self._n==0)[1], self._nb_arms) #(nb_arms,)\n",
    "            payoffs = self._rng.choice(np.where(self._n==0)[1], self._n_item) #(n_item,)\n",
    "        \n",
    "        else:\n",
    "            actions = [self._q[user, i] / self._n[user, i] + self._c*np.sqrt(np.log(self._t)/self._n[user, i]) \n",
    "                       for i in range(self._n_item)]\n",
    "       \n",
    "            actions = np.array(actions) #(n_item,)\n",
    "            #actions = actions.argsort()[-self._nb_arms:][::-1]  #(nb_arm,), select the top nb_arms recommended songs and return their item_id\n",
    "            \n",
    "            self.theta = self._A_a_inv @ self._b #(n_item,)\n",
    "            beta = np.sqrt(self._lmbda)*self._S + np.sqrt(2*log(1/self._delta) + log(np.linalg.det(self._A_a) \n",
    "                                                                              / (self._lmbda**self._n_item)))\n",
    "            \n",
    "            payoffs =[np.dot(self._theta, action) + np.sqrt(beta * self._alpha) *(actions.T @ self._A_a_inv @ actions)\n",
    "                       for action in actions]#(n_item,)\n",
    "    \n",
    "            actions = payoffs.argsort()[-self._nb_arms:][::-1]  #(nb_arm,), select the top nb_arms recommended songs and return their item_id\n",
    "    \n",
    "        return payoffs, actions\n",
    "\n",
    "    def update(self, context, actions_chosen, pay_offs, reward_list):\n",
    "        last_user = context[0][0]\n",
    "        chosen_items = np.zeros(self._n_item)#(n_item,)\n",
    "        for i, a in enumerate(actions_chosen):\n",
    "            self._n[last_user, a] += 1\n",
    "            self._q[last_user, a] += reward_list[i]\n",
    "            chosen_items[a] == pay_offs[a]\n",
    "        for i, a in enumerate(actions_chosen):\n",
    "            self._b += chosen_items* reward_list[i]#(n_item,)\n",
    "\n",
    "        self._t += 1\n",
    "        self._A_a += np.outer(chosen_items, chosen_items) #(n_item,n_item)\n",
    "        # Using Sherman–Morrison formula to compute the inverse of the sum of an invertible matrix A and the outer product\n",
    "        self._A_a_inv -= (self._A_a_inv @ np.outer(chosen_items, chosen_items) @ self._A_a_inv)/(1 + chosen_items.T @ self._A_a_inv @ chosen_items)\n",
    "        last_reco_items = np.array([context[a][1] for a in actions_chosen])\n",
    "        "
   ]
  },
  {
   "cell_type": "markdown",
   "metadata": {},
   "source": [
    "## Experiment"
   ]
  },
  {
   "cell_type": "code",
   "execution_count": 29,
   "metadata": {},
   "outputs": [],
   "source": [
    "def run_exp(agent, env, nb_steps, nb_arms,env_seed):\n",
    "    rewards_list = np.zeros((nb_steps, nb_arms))\n",
    "    regrets_list = np.zeros((nb_steps, nb_arms))\n",
    "    actions_list = np.zeros((nb_steps, nb_arms))\n",
    "    context = env.reset(data = None, seed = env_seed)\n",
    "\n",
    "    for i in range(nb_steps):\n",
    "        # Select action from agent policy.\n",
    "        \n",
    "        actions = agent.act(context)\n",
    "        \n",
    "        # Play action in the environment and get reward.\n",
    "        \n",
    "        rewards, next_context, done, optimal_return = env.step(actions)\n",
    "        \n",
    "        # Update history\n",
    "        user = context[0][0]\n",
    "        #item = context[action][1]\n",
    "        items = np.array([context[a][1] for a in actions], dtype = int)  # a list of [user_id, item_id, ]\n",
    "        rating = rewards\n",
    "        \n",
    "        # Update agent.\n",
    "        agent.update(context, actions, rewards)\n",
    "        context = next_context\n",
    "        \n",
    "        # Save history.\n",
    "        rewards_list[i] = rewards\n",
    "        actions_list[i] = actions\n",
    "        regrets_list[i] = optimal_return - rewards\n",
    "\n",
    "    reward = np.sum(rewards_list, axis = 0)\n",
    "    regret = np.sum(regrets_list, axis = 0)\n",
    " \n",
    "    return {'reward': reward, \n",
    "            'regret': regret,\n",
    "            'rewards': rewards_list,\n",
    "            'regrets': regrets_list,\n",
    "            'actions': actions_list,\n",
    "            'cum_rewards': np.cumsum(rewards_list, axis = 0), \n",
    "            'cum_regrets': np.cumsum(regrets_list, axis = 0),\n",
    "            }\n"
   ]
  },
  {
   "cell_type": "markdown",
   "metadata": {},
   "source": [
    "## Results by using Random Agent"
   ]
  },
  {
   "cell_type": "code",
   "execution_count": 30,
   "metadata": {},
   "outputs": [],
   "source": [
    "random_agent = Random(nb_arms = 3, seed=0)"
   ]
  },
  {
   "cell_type": "code",
   "execution_count": 31,
   "metadata": {},
   "outputs": [],
   "source": [
    "res_random_agent = run_exp(random_agent, env, nb_steps=5, nb_arms=3, env_seed=0)"
   ]
  },
  {
   "cell_type": "code",
   "execution_count": 32,
   "metadata": {},
   "outputs": [
    {
     "data": {
      "text/plain": [
       "{'reward': array([10.2 , 10.95, 10.61]),\n",
       " 'regret': array([1.81, 1.03, 1.26]),\n",
       " 'rewards': array([[1.86, 2.12, 2.32],\n",
       "        [1.95, 2.27, 2.21],\n",
       "        [2.46, 2.66, 2.02],\n",
       "        [1.91, 1.83, 2.09],\n",
       "        [2.02, 2.08, 1.97]]),\n",
       " 'regrets': array([[0.56, 0.31, 0.11],\n",
       "        [0.32, 0.  , 0.03],\n",
       "        [0.54, 0.32, 0.9 ],\n",
       "        [0.28, 0.35, 0.09],\n",
       "        [0.11, 0.05, 0.14]]),\n",
       " 'actions': array([[172.,  47., 117.],\n",
       "        [192., 251., 195.],\n",
       "        [  9., 211., 277.],\n",
       "        [242.,  87.,  70.],\n",
       "        [ 88., 140.,  58.]]),\n",
       " 'cum_rewards': array([[ 1.86,  2.12,  2.32],\n",
       "        [ 3.81,  4.39,  4.53],\n",
       "        [ 6.27,  7.04,  6.55],\n",
       "        [ 8.18,  8.87,  8.64],\n",
       "        [10.2 , 10.95, 10.61]]),\n",
       " 'cum_regrets': array([[0.56, 0.31, 0.11],\n",
       "        [0.88, 0.31, 0.13],\n",
       "        [1.42, 0.63, 1.03],\n",
       "        [1.7 , 0.98, 1.12],\n",
       "        [1.81, 1.03, 1.26]])}"
      ]
     },
     "execution_count": 32,
     "metadata": {},
     "output_type": "execute_result"
    }
   ],
   "source": [
    "res_random_agent"
   ]
  },
  {
   "cell_type": "markdown",
   "metadata": {},
   "source": [
    "## Draw empirical regret and confidence bound"
   ]
  },
  {
   "cell_type": "code",
   "execution_count": 52,
   "metadata": {},
   "outputs": [],
   "source": [
    "def draw_regret_bound(agent_name, nb_arms=3, nb_exp=10, nb_steps=10):\n",
    "    '''\n",
    "    Repeat environment-agent interations and draw regret bound for a given agent\n",
    "    '''    \n",
    "    regret = np.zeros(nb_exp)\n",
    "    regrets = np.zeros((nb_exp, nb_steps))\n",
    "    for i in range(nb_exp):\n",
    "        env = music_rec_env(data = df, seed = i)\n",
    "        if agent_name == 'random':\n",
    "            agent = Random(nb_arms, seed=i)\n",
    "        if agent_name == 'ucb':\n",
    "            agent = UCB(nb_arms, n_user=200, n_item=100, seed=i)\n",
    "            \n",
    "        exp = run_exp(agent, env, nb_steps, nb_arms, env_seed=2*i)\n",
    "        \n",
    "        regret[i] = np.sum(exp['regret'])\n",
    "        regrets[i] = np.sum(exp['cum_regrets'], axis = 1) \n",
    "        \n",
    "    plt.plot(regrets.mean(axis=0), color='blue')\n",
    "    plt.plot(np.quantile(regrets, 0.05,axis=0), color='grey', alpha=0.5)\n",
    "    plt.plot(np.quantile(regrets, 0.95,axis=0), color='grey', alpha=0.5)\n",
    "    plt.title('Mean regret: {:.2f}'.format(regret.mean()))\n",
    "    plt.xlabel('steps')\n",
    "    plt.ylabel('regret')\n",
    "    plt.show()   \n",
    "    \n",
    "    "
   ]
  },
  {
   "cell_type": "code",
   "execution_count": 258,
   "metadata": {},
   "outputs": [
    {
     "data": {
      "image/png": "[encoded data removed]",
      "text/plain": [
       "<Figure size 432x288 with 1 Axes>"
      ]
     },
     "metadata": {
      "needs_background": "light"
     },
     "output_type": "display_data"
    }
   ],
   "source": [
    "draw_regret_bound('random', nb_arms=3, nb_exp=10, nb_steps=30)\n"
   ]
  },
  {
   "cell_type": "code",
   "execution_count": 315,
   "metadata": {},
   "outputs": [
    {
     "data": {
      "image/png": "[encoded data removed]",
      "text/plain": [
       "<Figure size 432x288 with 1 Axes>"
      ]
     },
     "metadata": {
      "needs_background": "light"
     },
     "output_type": "display_data"
    }
   ],
   "source": [
    "draw_regret_bound('random', nb_arms=3, nb_exp=10, nb_steps=20)\n"
   ]
  },
  {
   "cell_type": "markdown",
   "metadata": {},
   "source": [
    "## Result by using UCB Agent"
   ]
  },
  {
   "cell_type": "code",
   "execution_count": 51,
   "metadata": {},
   "outputs": [],
   "source": [
    "ucb = UCB(nb_arms = 3, n_user=200, n_item=100, seed=0)"
   ]
  },
  {
   "cell_type": "code",
   "execution_count": 39,
   "metadata": {},
   "outputs": [],
   "source": [
    "res_ucb = run_exp(ucb, env, nb_steps=5, nb_arms=3, env_seed=0)"
   ]
  },
  {
   "cell_type": "code",
   "execution_count": 40,
   "metadata": {},
   "outputs": [
    {
     "data": {
      "text/plain": [
       "{'reward': array([10.51, 10.25, 10.23]),\n",
       " 'regret': array([0.95, 1.17, 1.14]),\n",
       " 'rewards': array([[2.09, 2.17, 2.07],\n",
       "        [2.08, 2.1 , 2.02],\n",
       "        [2.12, 1.99, 2.01],\n",
       "        [2.05, 1.85, 1.98],\n",
       "        [2.17, 2.15, 2.15]]),\n",
       " 'regrets': array([[0.21, 0.13, 0.23],\n",
       "        [0.36, 0.31, 0.35],\n",
       "        [0.06, 0.19, 0.16],\n",
       "        [0.13, 0.33, 0.19],\n",
       "        [0.19, 0.21, 0.21]]),\n",
       " 'actions': array([[32., 99., 45.],\n",
       "        [51., 26., 28.],\n",
       "        [22., 41., 36.],\n",
       "        [41., 50., 61.],\n",
       "        [62.,  1., 95.]]),\n",
       " 'cum_rewards': array([[ 2.09,  2.17,  2.07],\n",
       "        [ 4.17,  4.28,  4.09],\n",
       "        [ 6.29,  6.26,  6.1 ],\n",
       "        [ 8.34,  8.11,  8.08],\n",
       "        [10.51, 10.25, 10.23]]),\n",
       " 'cum_regrets': array([[0.21, 0.13, 0.23],\n",
       "        [0.57, 0.44, 0.58],\n",
       "        [0.63, 0.63, 0.74],\n",
       "        [0.76, 0.96, 0.94],\n",
       "        [0.95, 1.17, 1.14]])}"
      ]
     },
     "execution_count": 40,
     "metadata": {},
     "output_type": "execute_result"
    }
   ],
   "source": [
    "res_ucb"
   ]
  },
  {
   "cell_type": "code",
   "execution_count": 314,
   "metadata": {},
   "outputs": [
    {
     "data": {
      "image/png": "[encoded data removed]",
      "text/plain": [
       "<Figure size 432x288 with 1 Axes>"
      ]
     },
     "metadata": {
      "needs_background": "light"
     },
     "output_type": "display_data"
    }
   ],
   "source": [
    "draw_regret_bound('ucb', nb_arms=3, nb_exp=10, nb_steps=20)\n"
   ]
  },
  {
   "cell_type": "markdown",
   "metadata": {},
   "source": [
    "## Result by using Linear UCB Agent"
   ]
  },
  {
   "cell_type": "code",
   "execution_count": 316,
   "metadata": {},
   "outputs": [],
   "source": [
    "linear_ucb = LinUCB(nb_arms=3, n_user=200, n_item=100, c=2., seed=None, delta =0.1,alpha=0.1,lmbda=1,S=1 )"
   ]
  },
  {
   "cell_type": "code",
   "execution_count": 317,
   "metadata": {},
   "outputs": [],
   "source": [
    "def run_exp_linear_ucb(agent, env, nb_steps, nb_arms,env_seed):\n",
    "    rewards_list = np.zeros((nb_steps, nb_arms))\n",
    "    regrets_list = np.zeros((nb_steps, nb_arms))\n",
    "    actions_list = np.zeros((nb_steps, nb_arms))\n",
    "    context = env.reset(data = None, seed = env_seed)\n",
    "\n",
    "    for i in range(nb_steps):\n",
    "        # Select action from agent policy.\n",
    "        payoffs, actions = agent.act(context)\n",
    "        \n",
    "        # Play action in the environment and get reward.\n",
    "        rewards, next_context, done, optimal_return = env.step(actions)\n",
    "        \n",
    "        # Update history\n",
    "        user = context[0][0]\n",
    "        #item = context[action][1]\n",
    "        items = np.array([context[a][1] for a in actions])  # a list of [user_id, item_id, ]\n",
    "        rating = rewards\n",
    "        \n",
    "        # Update agent.\n",
    "        agent.update(context, actions, payoffs, rewards)\n",
    "        context = next_context\n",
    "        \n",
    "        # Save history.\n",
    "        rewards_list[i] = rewards\n",
    "        actions_list[i] = actions\n",
    "        regrets_list[i] = optimal_return - rewards\n",
    "\n",
    "    reward = np.sum(rewards_list, axis = 0)\n",
    "    regret = np.sum(regrets_list, axis = 0)\n",
    " \n",
    "    return {'reward': reward, \n",
    "            'regret': regret,\n",
    "            'rewards': rewards_list,\n",
    "            'regrets': regrets_list,\n",
    "            'actions': actions_list,\n",
    "            'cum_rewards': np.cumsum(rewards_list, axis = 0), \n",
    "            'cum_regrets': np.cumsum(regrets_list, axis = 0),\n",
    "            }\n",
    "\n"
   ]
  },
  {
   "cell_type": "code",
   "execution_count": 318,
   "metadata": {},
   "outputs": [],
   "source": [
    "res_linear_ucb = run_exp_linear_ucb(linear_ucb, env, nb_steps=5, nb_arms=3, env_seed=0)"
   ]
  },
  {
   "cell_type": "code",
   "execution_count": 319,
   "metadata": {},
   "outputs": [
    {
     "data": {
      "text/plain": [
       "{'reward': array([ 9.82, 10.47, 10.08]),\n",
       " 'regret': array([1.66, 0.9 , 1.12]),\n",
       " 'rewards': array([[1.85, 2.18, 2.1 ],\n",
       "        [1.92, 2.12, 2.03],\n",
       "        [2.01, 2.11, 1.9 ],\n",
       "        [2.16, 2.12, 2.18],\n",
       "        [1.88, 1.95, 1.87]]),\n",
       " 'regrets': array([[0.48, 0.14, 0.17],\n",
       "        [0.28, 0.07, 0.14],\n",
       "        [0.26, 0.13, 0.31],\n",
       "        [0.34, 0.33, 0.22],\n",
       "        [0.3 , 0.24, 0.28]]),\n",
       " 'actions': array([[28., 58., 16.],\n",
       "        [30., 48., 96.],\n",
       "        [46., 24., 88.],\n",
       "        [66., 16., 39.],\n",
       "        [49., 64., 34.]]),\n",
       " 'cum_rewards': array([[ 1.85,  2.18,  2.1 ],\n",
       "        [ 3.77,  4.3 ,  4.13],\n",
       "        [ 5.78,  6.41,  6.03],\n",
       "        [ 7.94,  8.52,  8.21],\n",
       "        [ 9.82, 10.47, 10.08]]),\n",
       " 'cum_regrets': array([[0.48, 0.14, 0.17],\n",
       "        [0.75, 0.21, 0.31],\n",
       "        [1.02, 0.34, 0.62],\n",
       "        [1.36, 0.66, 0.85],\n",
       "        [1.66, 0.9 , 1.12]])}"
      ]
     },
     "execution_count": 319,
     "metadata": {},
     "output_type": "execute_result"
    }
   ],
   "source": [
    "res_linear_ucb"
   ]
  },
  {
   "cell_type": "code",
   "execution_count": 320,
   "metadata": {},
   "outputs": [],
   "source": [
    "def draw_regret_bound_linear_ucb(nb_arms, nb_exp, nb_steps):\n",
    "    '''\n",
    "    Repeat environment-agent interations and draw regret bound for a given agent\n",
    "    '''    \n",
    "    regret = np.zeros(nb_exp)\n",
    "    regrets = np.zeros((nb_exp, nb_steps))\n",
    "    for i in range(nb_exp):\n",
    "        env = music_rec_env(data = df, seed = i)\n",
    "        agent = LinUCB(nb_arms=3, n_user=200, n_item=100, c=2., seed=None, delta =0.1,alpha=0.1,lmbda=1,S=1 )\n",
    "        exp = run_exp_linear_ucb(agent, env, nb_steps, nb_arms, env_seed=2*i)\n",
    "        \n",
    "        regret[i] = np.sum(exp['regret'])\n",
    "        regrets[i] = np.sum(exp['cum_regrets'], axis = 1) \n",
    "        \n",
    "    plt.plot(regrets.mean(axis=0), color='blue')\n",
    "    plt.plot(np.quantile(regrets, 0.05,axis=0), color='grey', alpha=0.5)\n",
    "    plt.plot(np.quantile(regrets, 0.95,axis=0), color='grey', alpha=0.5)\n",
    "    plt.title('Mean regret: {:.2f}'.format(regret.mean()))\n",
    "    plt.xlabel('steps')\n",
    "    plt.ylabel('regret')\n",
    "    plt.show()   \n",
    "    \n",
    "    "
   ]
  },
  {
   "cell_type": "code",
   "execution_count": 322,
   "metadata": {
    "scrolled": true
   },
   "outputs": [
    {
     "data": {
      "image/png": "[encoded data removed]",
      "text/plain": [
       "<Figure size 432x288 with 1 Axes>"
      ]
     },
     "metadata": {
      "needs_background": "light"
     },
     "output_type": "display_data"
    }
   ],
   "source": [
    "draw_regret_bound_linear_ucb(nb_arms=3, nb_exp=10, nb_steps=20)\n"
   ]
  },
  {
   "cell_type": "code",
   "execution_count": null,
   "metadata": {},
   "outputs": [],
   "source": []
  }
 ],
 "metadata": {
  "kernelspec": {
   "display_name": "Python 3",
   "language": "python",
   "name": "python3"
  },
  "language_info": {
   "codemirror_mode": {
    "name": "ipython",
    "version": 3
   },
   "file_extension": ".py",
   "mimetype": "text/x-python",
   "name": "python",
   "nbconvert_exporter": "python",
   "pygments_lexer": "ipython3",
   "version": "3.6.8"
  }
 },
 "nbformat": 4,
 "nbformat_minor": 2
}
